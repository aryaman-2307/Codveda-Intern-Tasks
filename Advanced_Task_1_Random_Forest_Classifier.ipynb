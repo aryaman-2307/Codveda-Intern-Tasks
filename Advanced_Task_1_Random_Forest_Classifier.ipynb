{
  "nbformat": 4,
  "nbformat_minor": 0,
  "metadata": {
    "colab": {
      "provenance": []
    },
    "kernelspec": {
      "name": "python3",
      "display_name": "Python 3"
    },
    "language_info": {
      "name": "python"
    }
  },
  "cells": [
    {
      "cell_type": "markdown",
      "source": [
        "Importing the dependencies"
      ],
      "metadata": {
        "id": "wkgY8INXgQxJ"
      }
    },
    {
      "cell_type": "code",
      "execution_count": null,
      "metadata": {
        "id": "1I0pA9c7aa3W"
      },
      "outputs": [],
      "source": [
        "import pandas as pd\n",
        "import numpy as np\n",
        "import matplotlib.pyplot as plt\n",
        "import seaborn as sns\n",
        "from sklearn.ensemble import RandomForestClassifier\n",
        "from sklearn.model_selection import train_test_split, RandomizedSearchCV\n",
        "from sklearn.metrics import accuracy_score, precision_score, recall_score, roc_auc_score, confusion_matrix\n",
        "from sklearn.preprocessing import StandardScaler"
      ]
    },
    {
      "cell_type": "markdown",
      "source": [
        "#Data Preprocessing"
      ],
      "metadata": {
        "id": "BwWYXDUcgVHk"
      }
    },
    {
      "cell_type": "code",
      "source": [
        "# Step 1: Load the data\n",
        "columns = ['age', 'workclass', 'fnlwgt', 'education', 'education-num', 'marital-status',\n",
        "           'occupation', 'relationship', 'race', 'sex', 'capital-gain', 'capital-loss',\n",
        "           'hours-per-week', 'native-country', 'income']\n",
        "url_data = \"https://archive.ics.uci.edu/ml/machine-learning-databases/adult/adult.data\"\n",
        "url_test = \"https://archive.ics.uci.edu/ml/machine-learning-databases/adult/adult.test\"\n",
        "\n",
        "data = pd.read_csv(url_data, names=columns, skipinitialspace=True)\n",
        "test = pd.read_csv(url_test, names=columns, skipinitialspace=True, skiprows=1)\n",
        "data = pd.concat([data, test], ignore_index=True)\n",
        "data['income'] = data['income'].str.replace('.', '', regex=False)\n",
        "data['income'] = (data['income'] == '>50K').astype(int)\n",
        "\n",
        "print(\"Initial data shape:\", data.shape)"
      ],
      "metadata": {
        "colab": {
          "base_uri": "https://localhost:8080/"
        },
        "id": "g633EEMQquUE",
        "outputId": "f36e7872-9e8d-4390-ad2c-4965aaf83780"
      },
      "execution_count": null,
      "outputs": [
        {
          "output_type": "stream",
          "name": "stdout",
          "text": [
            "Initial data shape: (48842, 15)\n"
          ]
        }
      ]
    },
    {
      "cell_type": "code",
      "source": [
        "# Count '?' in each column\n",
        "for col in data.columns:\n",
        "    missing_count = (data[col] == '?').sum()\n",
        "    if missing_count > 0:\n",
        "        print(f\"Column {col} has {missing_count} missing values ('?')\")"
      ],
      "metadata": {
        "colab": {
          "base_uri": "https://localhost:8080/"
        },
        "id": "b_flOFocZfgM",
        "outputId": "f13bf03f-64f3-4a13-9ec5-814f28f8603c"
      },
      "execution_count": null,
      "outputs": [
        {
          "output_type": "stream",
          "name": "stdout",
          "text": [
            "Column workclass has 2799 missing values ('?')\n",
            "Column occupation has 2809 missing values ('?')\n",
            "Column native-country has 857 missing values ('?')\n"
          ]
        }
      ]
    },
    {
      "cell_type": "markdown",
      "source": [
        "Since workclass, occupation, and native-country are categorical, imputing with a placeholder like 'missing' creates an artificial category that might confuse the model if 'missing' doesn’t have a meaningful interpretation. Dropping rows avoids this.\n",
        "\n",
        "The dataset has 48,842 rows. From the previous code, we saw:\n",
        "\n",
        "workclass: 2,799 missing (?)\n",
        "\n",
        "occupation: 2,809 missing\n",
        "\n",
        "native-country: 857 missing\n",
        "\n",
        "Total rows with at least one ? : Approximately 5,000 (some rows have ? in multiple columns). Dropping ~5,000 rows leaves ~43,842 rows, which is still plenty for training a RandomForestClassifier."
      ],
      "metadata": {
        "id": "oQRrAXdfcfEB"
      }
    },
    {
      "cell_type": "markdown",
      "source": [
        "I am dropping the rows because it removes any kind of assumptions from the model, while it might lead to a little bit of bias, the dataset is still large enough to not worry about that."
      ],
      "metadata": {
        "id": "OhINsq5mc1o7"
      }
    },
    {
      "cell_type": "code",
      "source": [
        "# Step 2: Drop rows with '?'\n",
        "rows_with_missing = data[['workclass', 'occupation', 'native-country']].eq('?').any(axis=1)\n",
        "print(f\"Rows with at least one '?': {rows_with_missing.sum()}\")\n",
        "data = data[~rows_with_missing]\n",
        "print(\"Data shape after dropping rows with '?':\", data.shape)"
      ],
      "metadata": {
        "colab": {
          "base_uri": "https://localhost:8080/"
        },
        "id": "wgTVbEgdbN-U",
        "outputId": "34af097b-dcb7-4ee6-be79-299abc753448"
      },
      "execution_count": null,
      "outputs": [
        {
          "output_type": "stream",
          "name": "stdout",
          "text": [
            "Rows with at least one '?': 3620\n",
            "Data shape after dropping rows with '?': (45222, 15)\n"
          ]
        }
      ]
    },
    {
      "cell_type": "code",
      "source": [
        "# Step 3: Separate features and target\n",
        "X = data.drop('income', axis=1)\n",
        "y = data['income']\n",
        "print(\"\\nX shape:\", X.shape)\n",
        "print(\"y shape:\", y.shape)"
      ],
      "metadata": {
        "colab": {
          "base_uri": "https://localhost:8080/"
        },
        "id": "ny9OngTRdYMA",
        "outputId": "b3c10829-26db-43b3-b8ee-aa6512e1978e"
      },
      "execution_count": null,
      "outputs": [
        {
          "output_type": "stream",
          "name": "stdout",
          "text": [
            "\n",
            "X shape: (45222, 14)\n",
            "y shape: (45222,)\n"
          ]
        }
      ]
    },
    {
      "cell_type": "code",
      "source": [
        "# Step 4: One-hot encode categorical features\n",
        "numerical_cols = ['age', 'fnlwgt', 'education-num', 'capital-gain', 'capital-loss', 'hours-per-week']\n",
        "categorical_cols = ['workclass', 'education', 'marital-status', 'occupation', 'relationship',\n",
        "                    'race', 'sex', 'native-country']\n",
        "print(\"\\nNumerical columns:\", numerical_cols)\n",
        "print(\"Categorical columns:\", categorical_cols)\n",
        "X_encoded = pd.get_dummies(X, columns=categorical_cols, dtype=int)\n",
        "print(\"\\nX_encoded shape:\", X_encoded.shape)\n",
        "print(\"First few columns of X_encoded:\\n\", X_encoded.columns[:10])"
      ],
      "metadata": {
        "colab": {
          "base_uri": "https://localhost:8080/"
        },
        "id": "HMBNP_gudmCC",
        "outputId": "713f9656-57a1-4017-f85f-8ee2a1160d3c"
      },
      "execution_count": null,
      "outputs": [
        {
          "output_type": "stream",
          "name": "stdout",
          "text": [
            "\n",
            "Numerical columns: ['age', 'fnlwgt', 'education-num', 'capital-gain', 'capital-loss', 'hours-per-week']\n",
            "Categorical columns: ['workclass', 'education', 'marital-status', 'occupation', 'relationship', 'race', 'sex', 'native-country']\n",
            "\n",
            "X_encoded shape: (45222, 104)\n",
            "First few columns of X_encoded:\n",
            " Index(['age', 'fnlwgt', 'education-num', 'capital-gain', 'capital-loss',\n",
            "       'hours-per-week', 'workclass_Federal-gov', 'workclass_Local-gov',\n",
            "       'workclass_Private', 'workclass_Self-emp-inc'],\n",
            "      dtype='object')\n"
          ]
        }
      ]
    },
    {
      "cell_type": "markdown",
      "source": [
        "#Data Standardization"
      ],
      "metadata": {
        "id": "8r5quZ4GgCmy"
      }
    },
    {
      "cell_type": "code",
      "source": [
        "# Step 5: Scale numerical features\n",
        "scaler = StandardScaler()\n",
        "X_encoded[numerical_cols] = scaler.fit_transform(X_encoded[numerical_cols])\n",
        "print(\"\\nScaled numerical columns:\\n\", X_encoded[numerical_cols].head())"
      ],
      "metadata": {
        "colab": {
          "base_uri": "https://localhost:8080/"
        },
        "id": "jD8gOSXQdpPX",
        "outputId": "cef8dfa0-3cc2-4d25-acea-dd3d68128493"
      },
      "execution_count": null,
      "outputs": [
        {
          "output_type": "stream",
          "name": "stdout",
          "text": [
            "\n",
            "Scaled numerical columns:\n",
            "         age    fnlwgt  education-num  capital-gain  capital-loss  \\\n",
            "0  0.034201 -1.062295       1.128753      0.142888      -0.21878   \n",
            "1  0.866417 -1.007438       1.128753     -0.146733      -0.21878   \n",
            "2 -0.041455  0.245284      -0.438122     -0.146733      -0.21878   \n",
            "3  1.093385  0.425853      -1.221559     -0.146733      -0.21878   \n",
            "4 -0.798015  1.407393       1.128753     -0.146733      -0.21878   \n",
            "\n",
            "   hours-per-week  \n",
            "0       -0.078120  \n",
            "1       -2.326738  \n",
            "2       -0.078120  \n",
            "3       -0.078120  \n",
            "4       -0.078120  \n"
          ]
        }
      ]
    },
    {
      "cell_type": "markdown",
      "source": [
        "#Train Test Split"
      ],
      "metadata": {
        "id": "TAigugWxgHPK"
      }
    },
    {
      "cell_type": "code",
      "source": [
        "# Step 6: Split the data\n",
        "X_train, X_test, y_train, y_test = train_test_split(X_encoded, y, test_size=0.2, random_state=7)\n",
        "print(\"\\nX_train shape:\", X_train.shape)\n",
        "print(\"X_test shape:\", X_test.shape)"
      ],
      "metadata": {
        "colab": {
          "base_uri": "https://localhost:8080/"
        },
        "id": "dEn28tH0gEeI",
        "outputId": "836d4b39-3323-4487-86d5-49723474720d"
      },
      "execution_count": null,
      "outputs": [
        {
          "output_type": "stream",
          "name": "stdout",
          "text": [
            "\n",
            "X_train shape: (36177, 104)\n",
            "X_test shape: (9045, 104)\n"
          ]
        }
      ]
    },
    {
      "cell_type": "code",
      "source": [
        "#Step 7: Randomized Search for hyperparameter tuning\n",
        "param_dist = {\n",
        "    'n_estimators': [100, 200, 300],\n",
        "    'max_depth': [10, 20, 30, None],\n",
        "    'min_samples_split': [2, 5, 10],\n",
        "    'min_samples_leaf': [1, 2, 5],\n",
        "    'min_weight_fraction_leaf': [0.0, 0.01, 0.05],\n",
        "    'max_features': ['sqrt', 'log2', 0.3],\n",
        "    'max_leaf_nodes': [None, 100, 500],\n",
        "    'class_weight': [None, 'balanced', {0:1, 1:3}],\n",
        "    'bootstrap': [True, False]\n",
        "}\n",
        "rf = RandomForestClassifier(random_state=42)\n",
        "random_search = RandomizedSearchCV(\n",
        "    estimator=rf,\n",
        "    param_distributions=param_dist,\n",
        "    n_iter=20,\n",
        "    cv=5,\n",
        "    scoring='roc_auc',\n",
        "    n_jobs=-1,\n",
        "    verbose=1,\n",
        "    random_state=42\n",
        ")\n",
        "print(\"\\nStarting Randomized Search...\")\n",
        "random_search.fit(X_train, y_train)\n",
        "print(\"Randomized Search complete!\")\n",
        "print(\"\\nBest Parameters:\", random_search.best_params_)\n",
        "print(\"Best AUC (CV):\", random_search.best_score_)"
      ],
      "metadata": {
        "colab": {
          "base_uri": "https://localhost:8080/"
        },
        "id": "PfdupEN1gfZT",
        "outputId": "96439c9d-0917-4c89-f413-b152db5c863f"
      },
      "execution_count": null,
      "outputs": [
        {
          "output_type": "stream",
          "name": "stdout",
          "text": [
            "\n",
            "Starting Randomized Search...\n",
            "Fitting 5 folds for each of 20 candidates, totalling 100 fits\n",
            "Randomized Search complete!\n",
            "\n",
            "Best Parameters: {'n_estimators': 300, 'min_weight_fraction_leaf': 0.0, 'min_samples_split': 2, 'min_samples_leaf': 2, 'max_leaf_nodes': 500, 'max_features': 0.3, 'max_depth': 30, 'class_weight': 'balanced', 'bootstrap': True}\n",
            "Best AUC (CV): 0.9165494973498596\n"
          ]
        }
      ]
    },
    {
      "cell_type": "code",
      "source": [
        "# Get best model\n",
        "best_rf = random_search.best_estimator_\n",
        "\n",
        "# Predict\n",
        "y_pred = best_rf.predict(X_test)\n",
        "\n",
        "# Evaluate metrics\n",
        "accuracy = accuracy_score(y_test, y_pred)\n",
        "precision = precision_score(y_pred, y_test)\n",
        "recall = recall_score(y_pred, y_test)\n",
        "auc = roc_auc_score(y_test, best_rf.predict_proba(X_test)[:, 1])\n",
        "\n",
        "print(\"\\nRandom Forest Classifier Results (Fast-Tuned, Adult Income):\")\n",
        "print(f\"Accuracy: {accuracy:.4f}\")\n",
        "print(f\"Precision: {precision:.4f}\")\n",
        "print(f\"Recall: {recall:.4f}\")\n",
        "print(f\"AUC: {auc:.4f}\")\n",
        "\n",
        "# Confusion Matrix\n",
        "cm = confusion_matrix(y_test, y_pred)\n",
        "print(\"\\nConfusion Matrix:\")\n",
        "print(cm)\n",
        "\n",
        "# Visualize Confusion Matrix\n",
        "plt.figure(figsize=(8, 6))\n",
        "sns.heatmap(cm, annot=True, fmt='d', cmap='Blues',\n",
        "            xticklabels=['<=50K', '>50K'], yticklabels=['<=50K', '>50K'])\n",
        "plt.title('Confusion Matrix (Adult Income)')\n",
        "plt.xlabel('Predicted')\n",
        "plt.ylabel('Actual')\n",
        "plt.show()"
      ],
      "metadata": {
        "colab": {
          "base_uri": "https://localhost:8080/",
          "height": 738
        },
        "id": "UfHDnYS7gkCi",
        "outputId": "1e7163c6-496c-4d66-d543-6ca8d122a875"
      },
      "execution_count": null,
      "outputs": [
        {
          "output_type": "stream",
          "name": "stdout",
          "text": [
            "\n",
            "Random Forest Classifier Results (Fast-Tuned, Adult Income):\n",
            "Accuracy: 0.8304\n",
            "Precision: 0.8548\n",
            "Recall: 0.6183\n",
            "AUC: 0.9169\n",
            "\n",
            "Confusion Matrix:\n",
            "[[5562 1203]\n",
            " [ 331 1949]]\n"
          ]
        },
        {
          "output_type": "display_data",
          "data": {
            "text/plain": [
              "<Figure size 800x600 with 2 Axes>"
            ],
            "image/png": "[encoded data removed]"
          },
          "metadata": {}
        }
      ]
    },
    {
      "cell_type": "code",
      "source": [
        "# Step 9: Feature importance\n",
        "feature_importance = pd.DataFrame({\n",
        "    'feature': X_encoded.columns,\n",
        "    'importance': best_rf.feature_importances_\n",
        "}).sort_values('importance', ascending=False)\n",
        "\n",
        "print(\"\\nTop 10 Feature Importances:\")\n",
        "print(feature_importance.head(10))"
      ],
      "metadata": {
        "colab": {
          "base_uri": "https://localhost:8080/"
        },
        "id": "CEPonIlIgpCC",
        "outputId": "e3c6d767-c687-4ae6-9cc5-a043d846b6b7"
      },
      "execution_count": null,
      "outputs": [
        {
          "output_type": "stream",
          "name": "stdout",
          "text": [
            "\n",
            "Top 10 Feature Importances:\n",
            "                              feature  importance\n",
            "31  marital-status_Married-civ-spouse    0.147324\n",
            "0                                 age    0.109831\n",
            "3                        capital-gain    0.096084\n",
            "50               relationship_Husband    0.085180\n",
            "2                       education-num    0.080278\n",
            "5                      hours-per-week    0.054131\n",
            "33       marital-status_Never-married    0.045918\n",
            "1                              fnlwgt    0.032721\n",
            "53             relationship_Own-child    0.029099\n",
            "55                  relationship_Wife    0.023954\n"
          ]
        }
      ]
    },
    {
      "cell_type": "code",
      "source": [],
      "metadata": {
        "id": "dqMjwnHIgt_L"
      },
      "execution_count": null,
      "outputs": []
    }
  ]
}