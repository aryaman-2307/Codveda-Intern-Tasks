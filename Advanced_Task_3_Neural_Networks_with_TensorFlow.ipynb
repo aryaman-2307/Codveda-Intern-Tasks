{
  "nbformat": 4,
  "nbformat_minor": 0,
  "metadata": {
    "colab": {
      "provenance": []
    },
    "kernelspec": {
      "name": "python3",
      "display_name": "Python 3"
    },
    "language_info": {
      "name": "python"
    }
  },
  "cells": [
    {
      "cell_type": "markdown",
      "source": [
        "Importing the dependencies\n",
        "\n"
      ],
      "metadata": {
        "id": "2bLj-JvzDRff"
      }
    },
    {
      "cell_type": "code",
      "source": [
        "import numpy as np\n",
        "import matplotlib.pyplot as plt\n",
        "import seaborn as sns\n",
        "import cv2\n",
        "from google.colab.patches import cv2_imshow\n",
        "from PIL import Image\n",
        "import tensorflow as tf\n",
        "tf.random.set_seed(3)\n",
        "from tensorflow import keras\n",
        "from keras.datasets import mnist\n",
        "from tensorflow.math import confusion_matrix"
      ],
      "metadata": {
        "id": "oOo85FeRDfl4"
      },
      "execution_count": null,
      "outputs": []
    },
    {
      "cell_type": "markdown",
      "source": [
        "Loading the MNIST Dataset"
      ],
      "metadata": {
        "id": "sjAedr0hD-Ho"
      }
    },
    {
      "cell_type": "code",
      "source": [
        "(x_train, y_train), (x_test, y_test) = mnist.load_data()"
      ],
      "metadata": {
        "colab": {
          "base_uri": "https://localhost:8080/"
        },
        "id": "BLkzgtCiD5zG",
        "outputId": "5938323e-1815-4ef4-8ad1-2d6e00fa414d"
      },
      "execution_count": null,
      "outputs": [
        {
          "output_type": "stream",
          "name": "stdout",
          "text": [
            "Downloading data from https://storage.googleapis.com/tensorflow/tf-keras-datasets/mnist.npz\n",
            "\u001b[1m11490434/11490434\u001b[0m \u001b[32m━━━━━━━━━━━━━━━━━━━━\u001b[0m\u001b[37m\u001b[0m \u001b[1m0s\u001b[0m 0us/step\n"
          ]
        }
      ]
    },
    {
      "cell_type": "code",
      "source": [
        "type(x_train)"
      ],
      "metadata": {
        "colab": {
          "base_uri": "https://localhost:8080/"
        },
        "id": "dX0C7dzwEImz",
        "outputId": "868acdf4-6caa-4898-a0d3-d1b557674edb"
      },
      "execution_count": null,
      "outputs": [
        {
          "output_type": "execute_result",
          "data": {
            "text/plain": [
              "numpy.ndarray"
            ]
          },
          "metadata": {},
          "execution_count": 4
        }
      ]
    },
    {
      "cell_type": "code",
      "source": [
        "#Shape of numpy arrays\n",
        "print(\"x_train shape:\", x_train.shape)\n",
        "print(\"y_train shape:\", y_train.shape)\n",
        "print(\"x_test shape:\", x_test.shape)\n",
        "print(\"y_test shape:\", y_test.shape)"
      ],
      "metadata": {
        "colab": {
          "base_uri": "https://localhost:8080/"
        },
        "id": "xbuIdyJTERKZ",
        "outputId": "1577404c-59df-411e-9bfe-121649302976"
      },
      "execution_count": null,
      "outputs": [
        {
          "output_type": "stream",
          "name": "stdout",
          "text": [
            "x_train shape: (60000, 28, 28)\n",
            "y_train shape: (60000,)\n",
            "x_test shape: (10000, 28, 28)\n",
            "y_test shape: (10000,)\n"
          ]
        }
      ]
    },
    {
      "cell_type": "markdown",
      "source": [
        "This means that the dataset has 60,000 training images and 10,000 test images\n",
        "\n",
        "Dimension of Image =  28 x 28\n",
        "\n",
        "Grayscale Image = 1 Channel"
      ],
      "metadata": {
        "id": "9gQzUFXKEZ00"
      }
    },
    {
      "cell_type": "code",
      "source": [
        "print(x_train[10])"
      ],
      "metadata": {
        "colab": {
          "base_uri": "https://localhost:8080/"
        },
        "id": "u6TXBLrPERgL",
        "outputId": "f6aa4f72-b5be-4454-cd34-7d7b2e11bfe9"
      },
      "execution_count": null,
      "outputs": [
        {
          "output_type": "stream",
          "name": "stdout",
          "text": [
            "[[  0   0   0   0   0   0   0   0   0   0   0   0   0   0   0   0   0   0\n",
            "    0   0   0   0   0   0   0   0   0   0]\n",
            " [  0   0   0   0   0   0   0   0   0   0   0   0   0   0   0   0   0   0\n",
            "    0   0   0   0   0   0   0   0   0   0]\n",
            " [  0   0   0   0   0   0   0   0   0   0   0   0   0   0   0   0   0   0\n",
            "    0   0   0   0   0   0   0   0   0   0]\n",
            " [  0   0   0   0   0   0   0   0   0   0   0   0   0   0   0   0   0   0\n",
            "    0   0   0   0   0   0   0   0   0   0]\n",
            " [  0   0   0   0   0   0   0   0   0   0   0  42 118 219 166 118 118   6\n",
            "    0   0   0   0   0   0   0   0   0   0]\n",
            " [  0   0   0   0   0   0   0   0   0   0 103 242 254 254 254 254 254  66\n",
            "    0   0   0   0   0   0   0   0   0   0]\n",
            " [  0   0   0   0   0   0   0   0   0   0  18 232 254 254 254 254 254 238\n",
            "   70   0   0   0   0   0   0   0   0   0]\n",
            " [  0   0   0   0   0   0   0   0   0   0   0 104 244 254 224 254 254 254\n",
            "  141   0   0   0   0   0   0   0   0   0]\n",
            " [  0   0   0   0   0   0   0   0   0   0   0   0 207 254 210 254 254 254\n",
            "   34   0   0   0   0   0   0   0   0   0]\n",
            " [  0   0   0   0   0   0   0   0   0   0   0   0  84 206 254 254 254 254\n",
            "   41   0   0   0   0   0   0   0   0   0]\n",
            " [  0   0   0   0   0   0   0   0   0   0   0   0   0  24 209 254 254 254\n",
            "  171   0   0   0   0   0   0   0   0   0]\n",
            " [  0   0   0   0   0   0   0   0   0   0   0   0  91 137 253 254 254 254\n",
            "  112   0   0   0   0   0   0   0   0   0]\n",
            " [  0   0   0   0   0   0   0   0   0   0  40 214 250 254 254 254 254 254\n",
            "   34   0   0   0   0   0   0   0   0   0]\n",
            " [  0   0   0   0   0   0   0   0   0   0  81 247 254 254 254 254 254 254\n",
            "  146   0   0   0   0   0   0   0   0   0]\n",
            " [  0   0   0   0   0   0   0   0   0   0   0 110 246 254 254 254 254 254\n",
            "  171   0   0   0   0   0   0   0   0   0]\n",
            " [  0   0   0   0   0   0   0   0   0   0   0   0  73  89  89  93 240 254\n",
            "  171   0   0   0   0   0   0   0   0   0]\n",
            " [  0   0   0   0   0   0   0   0   0   0   0   0   0   0   0   1 128 254\n",
            "  219  31   0   0   0   0   0   0   0   0]\n",
            " [  0   0   0   0   0   0   0   0   0   0   0   0   0   0   0   7 254 254\n",
            "  214  28   0   0   0   0   0   0   0   0]\n",
            " [  0   0   0   0   0   0   0   0   0   0   0   0   0   0   0 138 254 254\n",
            "  116   0   0   0   0   0   0   0   0   0]\n",
            " [  0   0   0   0   0   0  19 177  90   0   0   0   0   0  25 240 254 254\n",
            "   34   0   0   0   0   0   0   0   0   0]\n",
            " [  0   0   0   0   0   0 164 254 215  63  36   0  51  89 206 254 254 139\n",
            "    8   0   0   0   0   0   0   0   0   0]\n",
            " [  0   0   0   0   0   0  57 197 254 254 222 180 241 254 254 253 213  11\n",
            "    0   0   0   0   0   0   0   0   0   0]\n",
            " [  0   0   0   0   0   0   0 140 105 254 254 254 254 254 254 236   0   0\n",
            "    0   0   0   0   0   0   0   0   0   0]\n",
            " [  0   0   0   0   0   0   0   0   7 117 117 165 254 254 239  50   0   0\n",
            "    0   0   0   0   0   0   0   0   0   0]\n",
            " [  0   0   0   0   0   0   0   0   0   0   0   0   0   0   0   0   0   0\n",
            "    0   0   0   0   0   0   0   0   0   0]\n",
            " [  0   0   0   0   0   0   0   0   0   0   0   0   0   0   0   0   0   0\n",
            "    0   0   0   0   0   0   0   0   0   0]\n",
            " [  0   0   0   0   0   0   0   0   0   0   0   0   0   0   0   0   0   0\n",
            "    0   0   0   0   0   0   0   0   0   0]\n",
            " [  0   0   0   0   0   0   0   0   0   0   0   0   0   0   0   0   0   0\n",
            "    0   0   0   0   0   0   0   0   0   0]]\n"
          ]
        }
      ]
    },
    {
      "cell_type": "code",
      "source": [
        "print(x_train[10].shape)"
      ],
      "metadata": {
        "colab": {
          "base_uri": "https://localhost:8080/"
        },
        "id": "_-kLBECuFubY",
        "outputId": "3df6decd-4de3-41c0-c0bd-6c140e972613"
      },
      "execution_count": null,
      "outputs": [
        {
          "output_type": "stream",
          "name": "stdout",
          "text": [
            "(28, 28)\n"
          ]
        }
      ]
    },
    {
      "cell_type": "code",
      "source": [
        "#Displaying the img\n",
        "plt.imshow(x_train[10])\n",
        "plt.show()\n",
        "\n",
        "#Print the corresponding label\n",
        "print(\"Corresponding Y-label :\", y_train[10])"
      ],
      "metadata": {
        "colab": {
          "base_uri": "https://localhost:8080/",
          "height": 447
        },
        "id": "1Rjgpz9WF4zc",
        "outputId": "ff9818ef-4ac3-4c54-899a-216772c9eec0"
      },
      "execution_count": null,
      "outputs": [
        {
          "output_type": "display_data",
          "data": {
            "text/plain": [
              "<Figure size 640x480 with 1 Axes>"
            ],
            "image/png": "[encoded data removed]"
          },
          "metadata": {}
        },
        {
          "output_type": "stream",
          "name": "stdout",
          "text": [
            "Corresponding Y-label : 3\n"
          ]
        }
      ]
    },
    {
      "cell_type": "markdown",
      "source": [
        "Image Labels"
      ],
      "metadata": {
        "id": "4W-rydsYGxF9"
      }
    },
    {
      "cell_type": "code",
      "source": [
        "print(y_train.shape, y_test.shape)"
      ],
      "metadata": {
        "colab": {
          "base_uri": "https://localhost:8080/"
        },
        "id": "v0Jn7d3YGKix",
        "outputId": "6831d812-a7ce-492a-895d-903a8c0bab15"
      },
      "execution_count": null,
      "outputs": [
        {
          "output_type": "stream",
          "name": "stdout",
          "text": [
            "(60000,) (10000,)\n"
          ]
        }
      ]
    },
    {
      "cell_type": "code",
      "source": [
        "# Unique values in y train\n",
        "print(np.unique(y_train))\n",
        "\n",
        "# Unique values in y test\n",
        "print(np.unique(y_test))"
      ],
      "metadata": {
        "colab": {
          "base_uri": "https://localhost:8080/"
        },
        "id": "olK6CWy6G36T",
        "outputId": "cd3c3494-1dfb-4d99-80c1-d0da6d2819b1"
      },
      "execution_count": null,
      "outputs": [
        {
          "output_type": "stream",
          "name": "stdout",
          "text": [
            "[0 1 2 3 4 5 6 7 8 9]\n",
            "[0 1 2 3 4 5 6 7 8 9]\n"
          ]
        }
      ]
    },
    {
      "cell_type": "markdown",
      "source": [
        "We can use these values as it is or use One Hot Encoding"
      ],
      "metadata": {
        "id": "uS2QIRyPHPCi"
      }
    },
    {
      "cell_type": "markdown",
      "source": [
        "We have to resize all the images which are not of the same dimension as others"
      ],
      "metadata": {
        "id": "HWxpKdSgHXlo"
      }
    },
    {
      "cell_type": "code",
      "source": [
        "# Scaling the values\n",
        "x_train = x_train/255\n",
        "x_test =  x_test/255"
      ],
      "metadata": {
        "id": "YlwiH80zG7hP"
      },
      "execution_count": null,
      "outputs": []
    },
    {
      "cell_type": "markdown",
      "source": [
        "Now every value will be in between 0 and 1"
      ],
      "metadata": {
        "id": "LA_gEYHWHvGB"
      }
    },
    {
      "cell_type": "code",
      "source": [
        "# Printing the 10th value after standardizing\n",
        "print(x_train[10])"
      ],
      "metadata": {
        "colab": {
          "base_uri": "https://localhost:8080/"
        },
        "id": "kKgL0ohVHm9q",
        "outputId": "97554492-9cab-4e9b-a176-2442724a9c6c"
      },
      "execution_count": null,
      "outputs": [
        {
          "output_type": "stream",
          "name": "stdout",
          "text": [
            "[[0.         0.         0.         0.         0.         0.\n",
            "  0.         0.         0.         0.         0.         0.\n",
            "  0.         0.         0.         0.         0.         0.\n",
            "  0.         0.         0.         0.         0.         0.\n",
            "  0.         0.         0.         0.        ]\n",
            " [0.         0.         0.         0.         0.         0.\n",
            "  0.         0.         0.         0.         0.         0.\n",
            "  0.         0.         0.         0.         0.         0.\n",
            "  0.         0.         0.         0.         0.         0.\n",
            "  0.         0.         0.         0.        ]\n",
            " [0.         0.         0.         0.         0.         0.\n",
            "  0.         0.         0.         0.         0.         0.\n",
            "  0.         0.         0.         0.         0.         0.\n",
            "  0.         0.         0.         0.         0.         0.\n",
            "  0.         0.         0.         0.        ]\n",
            " [0.         0.         0.         0.         0.         0.\n",
            "  0.         0.         0.         0.         0.         0.\n",
            "  0.         0.         0.         0.         0.         0.\n",
            "  0.         0.         0.         0.         0.         0.\n",
            "  0.         0.         0.         0.        ]\n",
            " [0.         0.         0.         0.         0.         0.\n",
            "  0.         0.         0.         0.         0.         0.16470588\n",
            "  0.4627451  0.85882353 0.65098039 0.4627451  0.4627451  0.02352941\n",
            "  0.         0.         0.         0.         0.         0.\n",
            "  0.         0.         0.         0.        ]\n",
            " [0.         0.         0.         0.         0.         0.\n",
            "  0.         0.         0.         0.         0.40392157 0.94901961\n",
            "  0.99607843 0.99607843 0.99607843 0.99607843 0.99607843 0.25882353\n",
            "  0.         0.         0.         0.         0.         0.\n",
            "  0.         0.         0.         0.        ]\n",
            " [0.         0.         0.         0.         0.         0.\n",
            "  0.         0.         0.         0.         0.07058824 0.90980392\n",
            "  0.99607843 0.99607843 0.99607843 0.99607843 0.99607843 0.93333333\n",
            "  0.2745098  0.         0.         0.         0.         0.\n",
            "  0.         0.         0.         0.        ]\n",
            " [0.         0.         0.         0.         0.         0.\n",
            "  0.         0.         0.         0.         0.         0.40784314\n",
            "  0.95686275 0.99607843 0.87843137 0.99607843 0.99607843 0.99607843\n",
            "  0.55294118 0.         0.         0.         0.         0.\n",
            "  0.         0.         0.         0.        ]\n",
            " [0.         0.         0.         0.         0.         0.\n",
            "  0.         0.         0.         0.         0.         0.\n",
            "  0.81176471 0.99607843 0.82352941 0.99607843 0.99607843 0.99607843\n",
            "  0.13333333 0.         0.         0.         0.         0.\n",
            "  0.         0.         0.         0.        ]\n",
            " [0.         0.         0.         0.         0.         0.\n",
            "  0.         0.         0.         0.         0.         0.\n",
            "  0.32941176 0.80784314 0.99607843 0.99607843 0.99607843 0.99607843\n",
            "  0.16078431 0.         0.         0.         0.         0.\n",
            "  0.         0.         0.         0.        ]\n",
            " [0.         0.         0.         0.         0.         0.\n",
            "  0.         0.         0.         0.         0.         0.\n",
            "  0.         0.09411765 0.81960784 0.99607843 0.99607843 0.99607843\n",
            "  0.67058824 0.         0.         0.         0.         0.\n",
            "  0.         0.         0.         0.        ]\n",
            " [0.         0.         0.         0.         0.         0.\n",
            "  0.         0.         0.         0.         0.         0.\n",
            "  0.35686275 0.5372549  0.99215686 0.99607843 0.99607843 0.99607843\n",
            "  0.43921569 0.         0.         0.         0.         0.\n",
            "  0.         0.         0.         0.        ]\n",
            " [0.         0.         0.         0.         0.         0.\n",
            "  0.         0.         0.         0.         0.15686275 0.83921569\n",
            "  0.98039216 0.99607843 0.99607843 0.99607843 0.99607843 0.99607843\n",
            "  0.13333333 0.         0.         0.         0.         0.\n",
            "  0.         0.         0.         0.        ]\n",
            " [0.         0.         0.         0.         0.         0.\n",
            "  0.         0.         0.         0.         0.31764706 0.96862745\n",
            "  0.99607843 0.99607843 0.99607843 0.99607843 0.99607843 0.99607843\n",
            "  0.57254902 0.         0.         0.         0.         0.\n",
            "  0.         0.         0.         0.        ]\n",
            " [0.         0.         0.         0.         0.         0.\n",
            "  0.         0.         0.         0.         0.         0.43137255\n",
            "  0.96470588 0.99607843 0.99607843 0.99607843 0.99607843 0.99607843\n",
            "  0.67058824 0.         0.         0.         0.         0.\n",
            "  0.         0.         0.         0.        ]\n",
            " [0.         0.         0.         0.         0.         0.\n",
            "  0.         0.         0.         0.         0.         0.\n",
            "  0.28627451 0.34901961 0.34901961 0.36470588 0.94117647 0.99607843\n",
            "  0.67058824 0.         0.         0.         0.         0.\n",
            "  0.         0.         0.         0.        ]\n",
            " [0.         0.         0.         0.         0.         0.\n",
            "  0.         0.         0.         0.         0.         0.\n",
            "  0.         0.         0.         0.00392157 0.50196078 0.99607843\n",
            "  0.85882353 0.12156863 0.         0.         0.         0.\n",
            "  0.         0.         0.         0.        ]\n",
            " [0.         0.         0.         0.         0.         0.\n",
            "  0.         0.         0.         0.         0.         0.\n",
            "  0.         0.         0.         0.02745098 0.99607843 0.99607843\n",
            "  0.83921569 0.10980392 0.         0.         0.         0.\n",
            "  0.         0.         0.         0.        ]\n",
            " [0.         0.         0.         0.         0.         0.\n",
            "  0.         0.         0.         0.         0.         0.\n",
            "  0.         0.         0.         0.54117647 0.99607843 0.99607843\n",
            "  0.45490196 0.         0.         0.         0.         0.\n",
            "  0.         0.         0.         0.        ]\n",
            " [0.         0.         0.         0.         0.         0.\n",
            "  0.0745098  0.69411765 0.35294118 0.         0.         0.\n",
            "  0.         0.         0.09803922 0.94117647 0.99607843 0.99607843\n",
            "  0.13333333 0.         0.         0.         0.         0.\n",
            "  0.         0.         0.         0.        ]\n",
            " [0.         0.         0.         0.         0.         0.\n",
            "  0.64313725 0.99607843 0.84313725 0.24705882 0.14117647 0.\n",
            "  0.2        0.34901961 0.80784314 0.99607843 0.99607843 0.54509804\n",
            "  0.03137255 0.         0.         0.         0.         0.\n",
            "  0.         0.         0.         0.        ]\n",
            " [0.         0.         0.         0.         0.         0.\n",
            "  0.22352941 0.77254902 0.99607843 0.99607843 0.87058824 0.70588235\n",
            "  0.94509804 0.99607843 0.99607843 0.99215686 0.83529412 0.04313725\n",
            "  0.         0.         0.         0.         0.         0.\n",
            "  0.         0.         0.         0.        ]\n",
            " [0.         0.         0.         0.         0.         0.\n",
            "  0.         0.54901961 0.41176471 0.99607843 0.99607843 0.99607843\n",
            "  0.99607843 0.99607843 0.99607843 0.9254902  0.         0.\n",
            "  0.         0.         0.         0.         0.         0.\n",
            "  0.         0.         0.         0.        ]\n",
            " [0.         0.         0.         0.         0.         0.\n",
            "  0.         0.         0.02745098 0.45882353 0.45882353 0.64705882\n",
            "  0.99607843 0.99607843 0.9372549  0.19607843 0.         0.\n",
            "  0.         0.         0.         0.         0.         0.\n",
            "  0.         0.         0.         0.        ]\n",
            " [0.         0.         0.         0.         0.         0.\n",
            "  0.         0.         0.         0.         0.         0.\n",
            "  0.         0.         0.         0.         0.         0.\n",
            "  0.         0.         0.         0.         0.         0.\n",
            "  0.         0.         0.         0.        ]\n",
            " [0.         0.         0.         0.         0.         0.\n",
            "  0.         0.         0.         0.         0.         0.\n",
            "  0.         0.         0.         0.         0.         0.\n",
            "  0.         0.         0.         0.         0.         0.\n",
            "  0.         0.         0.         0.        ]\n",
            " [0.         0.         0.         0.         0.         0.\n",
            "  0.         0.         0.         0.         0.         0.\n",
            "  0.         0.         0.         0.         0.         0.\n",
            "  0.         0.         0.         0.         0.         0.\n",
            "  0.         0.         0.         0.        ]\n",
            " [0.         0.         0.         0.         0.         0.\n",
            "  0.         0.         0.         0.         0.         0.\n",
            "  0.         0.         0.         0.         0.         0.\n",
            "  0.         0.         0.         0.         0.         0.\n",
            "  0.         0.         0.         0.        ]]\n"
          ]
        }
      ]
    },
    {
      "cell_type": "markdown",
      "source": [
        "Building the Neural Network"
      ],
      "metadata": {
        "id": "el9Pwtm0IMXv"
      }
    },
    {
      "cell_type": "code",
      "source": [
        "# Setting up the layers of the Neural Network\n",
        "\n",
        "model = keras.Sequential([\n",
        "                          keras.layers.Flatten(input_shape=(28,28)),\n",
        "                          keras.layers.Dense(50, activation='relu'),\n",
        "                          keras.layers.Dense(50, activation= 'relu'),\n",
        "                          keras.layers.Dense(10, activation = 'sigmoid')\n",
        "])"
      ],
      "metadata": {
        "colab": {
          "base_uri": "https://localhost:8080/"
        },
        "id": "tbiwXjSlIiun",
        "outputId": "b28c0f1d-b385-46b2-c51a-67975a395138"
      },
      "execution_count": null,
      "outputs": [
        {
          "output_type": "stream",
          "name": "stderr",
          "text": [
            "/usr/local/lib/python3.11/dist-packages/keras/src/layers/reshaping/flatten.py:37: UserWarning: Do not pass an `input_shape`/`input_dim` argument to a layer. When using Sequential models, prefer using an `Input(shape)` object as the first layer in the model instead.\n",
            "  super().__init__(**kwargs)\n"
          ]
        }
      ]
    },
    {
      "cell_type": "code",
      "source": [
        "# Compiling the Neural Network\n",
        "\n",
        "model.compile(optimizer = 'adam', loss = 'sparse_categorical_crossentropy', metrics = ['accuracy'])"
      ],
      "metadata": {
        "id": "E_vQZKJYLQhu"
      },
      "execution_count": null,
      "outputs": []
    },
    {
      "cell_type": "code",
      "source": [
        "# Training the neural network\n",
        "\n",
        "model.fit(x_train, y_train, epochs = 10)"
      ],
      "metadata": {
        "colab": {
          "base_uri": "https://localhost:8080/"
        },
        "id": "NnF7-dJ5MzUM",
        "outputId": "e8cd3900-1dab-4211-9ec3-b597b03aafec"
      },
      "execution_count": null,
      "outputs": [
        {
          "output_type": "stream",
          "name": "stdout",
          "text": [
            "Epoch 1/10\n",
            "\u001b[1m1875/1875\u001b[0m \u001b[32m━━━━━━━━━━━━━━━━━━━━\u001b[0m\u001b[37m\u001b[0m \u001b[1m7s\u001b[0m 3ms/step - accuracy: 0.8438 - loss: 0.5398\n",
            "Epoch 2/10\n",
            "\u001b[1m1875/1875\u001b[0m \u001b[32m━━━━━━━━━━━━━━━━━━━━\u001b[0m\u001b[37m\u001b[0m \u001b[1m9s\u001b[0m 2ms/step - accuracy: 0.9560 - loss: 0.1465\n",
            "Epoch 3/10\n",
            "\u001b[1m1875/1875\u001b[0m \u001b[32m━━━━━━━━━━━━━━━━━━━━\u001b[0m\u001b[37m\u001b[0m \u001b[1m5s\u001b[0m 3ms/step - accuracy: 0.9700 - loss: 0.1029\n",
            "Epoch 4/10\n",
            "\u001b[1m1875/1875\u001b[0m \u001b[32m━━━━━━━━━━━━━━━━━━━━\u001b[0m\u001b[37m\u001b[0m \u001b[1m10s\u001b[0m 3ms/step - accuracy: 0.9759 - loss: 0.0789\n",
            "Epoch 5/10\n",
            "\u001b[1m1875/1875\u001b[0m \u001b[32m━━━━━━━━━━━━━━━━━━━━\u001b[0m\u001b[37m\u001b[0m \u001b[1m9s\u001b[0m 2ms/step - accuracy: 0.9813 - loss: 0.0638\n",
            "Epoch 6/10\n",
            "\u001b[1m1875/1875\u001b[0m \u001b[32m━━━━━━━━━━━━━━━━━━━━\u001b[0m\u001b[37m\u001b[0m \u001b[1m5s\u001b[0m 3ms/step - accuracy: 0.9851 - loss: 0.0519\n",
            "Epoch 7/10\n",
            "\u001b[1m1875/1875\u001b[0m \u001b[32m━━━━━━━━━━━━━━━━━━━━\u001b[0m\u001b[37m\u001b[0m \u001b[1m4s\u001b[0m 2ms/step - accuracy: 0.9874 - loss: 0.0443\n",
            "Epoch 8/10\n",
            "\u001b[1m1875/1875\u001b[0m \u001b[32m━━━━━━━━━━━━━━━━━━━━\u001b[0m\u001b[37m\u001b[0m \u001b[1m5s\u001b[0m 3ms/step - accuracy: 0.9884 - loss: 0.0385\n",
            "Epoch 9/10\n",
            "\u001b[1m1875/1875\u001b[0m \u001b[32m━━━━━━━━━━━━━━━━━━━━\u001b[0m\u001b[37m\u001b[0m \u001b[1m5s\u001b[0m 3ms/step - accuracy: 0.9893 - loss: 0.0354\n",
            "Epoch 10/10\n",
            "\u001b[1m1875/1875\u001b[0m \u001b[32m━━━━━━━━━━━━━━━━━━━━\u001b[0m\u001b[37m\u001b[0m \u001b[1m4s\u001b[0m 2ms/step - accuracy: 0.9914 - loss: 0.0290\n"
          ]
        },
        {
          "output_type": "execute_result",
          "data": {
            "text/plain": [
              "<keras.src.callbacks.history.History at 0x7ac21cb63090>"
            ]
          },
          "metadata": {},
          "execution_count": 20
        }
      ]
    },
    {
      "cell_type": "markdown",
      "source": [
        "Training Data Accuracy = 99.14%"
      ],
      "metadata": {
        "id": "qeqy4osWNctu"
      }
    },
    {
      "cell_type": "markdown",
      "source": [
        "**Accuracy on Test Data**"
      ],
      "metadata": {
        "id": "yN4YXbmTNg6P"
      }
    },
    {
      "cell_type": "code",
      "source": [
        "loss , accuracy = model.evaluate(x_test, y_test)\n",
        "print(\"Test Loss:\", loss)\n",
        "print(\"Test Accuracy:\", accuracy)"
      ],
      "metadata": {
        "colab": {
          "base_uri": "https://localhost:8080/"
        },
        "id": "Xqzu_cHOM9ah",
        "outputId": "6c125955-d08b-41f6-8e40-34a229adc00c"
      },
      "execution_count": null,
      "outputs": [
        {
          "output_type": "stream",
          "name": "stdout",
          "text": [
            "\u001b[1m313/313\u001b[0m \u001b[32m━━━━━━━━━━━━━━━━━━━━\u001b[0m\u001b[37m\u001b[0m \u001b[1m1s\u001b[0m 3ms/step - accuracy: 0.9687 - loss: 0.1174\n",
            "Test Loss: 0.10781413316726685\n",
            "Test Accuracy: 0.972100019454956\n"
          ]
        }
      ]
    },
    {
      "cell_type": "markdown",
      "source": [
        "Test Data Accuracy = 97.21%"
      ],
      "metadata": {
        "id": "IU8FYmIIOt-f"
      }
    },
    {
      "cell_type": "code",
      "source": [
        "print(x_test.shape)"
      ],
      "metadata": {
        "colab": {
          "base_uri": "https://localhost:8080/"
        },
        "id": "p_yio4FwN7fA",
        "outputId": "ed2704d8-4660-4666-e081-f6a759c322df"
      },
      "execution_count": null,
      "outputs": [
        {
          "output_type": "stream",
          "name": "stdout",
          "text": [
            "(10000, 28, 28)\n"
          ]
        }
      ]
    },
    {
      "cell_type": "code",
      "source": [
        "# First data pt in x_test\n",
        "plt.imshow(x_test[0])\n",
        "plt.show()"
      ],
      "metadata": {
        "id": "hSfj11mNO1O6",
        "outputId": "edf8ef3b-9148-4688-a857-4887aaaa26e7",
        "colab": {
          "base_uri": "https://localhost:8080/",
          "height": 430
        }
      },
      "execution_count": null,
      "outputs": [
        {
          "output_type": "display_data",
          "data": {
            "text/plain": [
              "<Figure size 640x480 with 1 Axes>"
            ],
            "image/png": "[encoded data removed]"
          },
          "metadata": {}
        }
      ]
    },
    {
      "cell_type": "code",
      "source": [
        "print(y_test[0])"
      ],
      "metadata": {
        "id": "qncNOUN3O6VX",
        "colab": {
          "base_uri": "https://localhost:8080/"
        },
        "outputId": "10c4c956-f46b-487e-ceb4-db732712f094"
      },
      "execution_count": 24,
      "outputs": [
        {
          "output_type": "stream",
          "name": "stdout",
          "text": [
            "7\n"
          ]
        }
      ]
    },
    {
      "cell_type": "code",
      "source": [
        "y_pred = model.predict(x_test)\n",
        "print(y_pred.shape)"
      ],
      "metadata": {
        "colab": {
          "base_uri": "https://localhost:8080/"
        },
        "id": "m39ieO01P95u",
        "outputId": "e689f4b8-22f1-48c6-8ca6-a62377118bc5"
      },
      "execution_count": 25,
      "outputs": [
        {
          "output_type": "stream",
          "name": "stdout",
          "text": [
            "\u001b[1m313/313\u001b[0m \u001b[32m━━━━━━━━━━━━━━━━━━━━\u001b[0m\u001b[37m\u001b[0m \u001b[1m1s\u001b[0m 2ms/step\n",
            "(10000, 10)\n"
          ]
        }
      ]
    },
    {
      "cell_type": "code",
      "source": [
        "print(y_pred[0])"
      ],
      "metadata": {
        "colab": {
          "base_uri": "https://localhost:8080/"
        },
        "id": "ke5jAu8cQHon",
        "outputId": "f08ae61a-f93a-40dc-9a07-3badece9cdf8"
      },
      "execution_count": 26,
      "outputs": [
        {
          "output_type": "stream",
          "name": "stdout",
          "text": [
            "[2.41432209e-02 6.90612142e-05 1.89493280e-02 9.70967531e-01\n",
            " 6.37931180e-07 3.52512106e-05 8.62714067e-11 9.99997616e-01\n",
            " 3.76475230e-03 1.05863675e-01]\n"
          ]
        }
      ]
    },
    {
      "cell_type": "markdown",
      "source": [
        "model.predict() give the probability of each class for that data point"
      ],
      "metadata": {
        "id": "GNnVTqGJQadC"
      }
    },
    {
      "cell_type": "code",
      "source": [
        "# Converting the prediction probabilities to class label\n",
        "label_for_first_img = np.argmax(y_pred[0])\n",
        "print(label_for_first_img)"
      ],
      "metadata": {
        "colab": {
          "base_uri": "https://localhost:8080/"
        },
        "id": "sxDRXU_gQP-B",
        "outputId": "ab22ff9e-28a9-4b49-a321-3ecb4c32c7e2"
      },
      "execution_count": 28,
      "outputs": [
        {
          "output_type": "stream",
          "name": "stdout",
          "text": [
            "7\n"
          ]
        }
      ]
    },
    {
      "cell_type": "code",
      "source": [
        "# Converting the prediction probabilities to class label for all the data points\n",
        "y_pred_labels = [np.argmax(i) for i in y_pred]\n",
        "print(y_pred_labels)"
      ],
      "metadata": {
        "colab": {
          "base_uri": "https://localhost:8080/"
        },
        "id": "6PwQ6iTKQvlU",
        "outputId": "cae019fc-ecd0-4e12-e3fa-d5dc65eebc9c"
      },
      "execution_count": 30,
      "outputs": [
        {
          "output_type": "stream",
          "name": "stdout",
          "text": [
            "[np.int64(7), np.int64(2), np.int64(1), np.int64(0), np.int64(4), np.int64(1), np.int64(4), np.int64(9), np.int64(5), np.int64(9), np.int64(0), np.int64(6), np.int64(9), np.int64(0), np.int64(1), np.int64(5), np.int64(9), np.int64(7), np.int64(3), np.int64(4), np.int64(9), np.int64(6), np.int64(6), np.int64(5), np.int64(4), np.int64(0), np.int64(7), np.int64(4), np.int64(0), np.int64(1), np.int64(3), np.int64(1), np.int64(3), np.int64(4), np.int64(7), np.int64(2), np.int64(7), np.int64(1), np.int64(3), np.int64(1), np.int64(1), np.int64(7), np.int64(4), np.int64(2), np.int64(3), np.int64(5), np.int64(1), np.int64(2), np.int64(4), np.int64(4), np.int64(6), np.int64(3), np.int64(5), np.int64(5), np.int64(6), np.int64(0), np.int64(4), np.int64(1), np.int64(9), np.int64(5), np.int64(7), np.int64(8), np.int64(9), np.int64(3), np.int64(7), np.int64(4), np.int64(6), np.int64(4), np.int64(3), np.int64(0), np.int64(7), np.int64(0), np.int64(2), np.int64(9), np.int64(1), np.int64(7), np.int64(3), np.int64(2), np.int64(9), np.int64(7), np.int64(7), np.int64(6), np.int64(2), np.int64(7), np.int64(8), np.int64(4), np.int64(7), np.int64(3), np.int64(6), np.int64(1), np.int64(3), np.int64(6), np.int64(9), np.int64(3), np.int64(1), np.int64(4), np.int64(1), np.int64(7), np.int64(6), np.int64(9), np.int64(6), np.int64(0), np.int64(5), np.int64(4), np.int64(9), np.int64(9), np.int64(2), np.int64(1), np.int64(9), np.int64(4), np.int64(8), np.int64(7), np.int64(3), np.int64(9), np.int64(7), np.int64(4), np.int64(4), np.int64(4), np.int64(9), np.int64(2), np.int64(5), np.int64(4), np.int64(7), np.int64(6), np.int64(7), np.int64(9), np.int64(0), np.int64(5), np.int64(8), np.int64(5), np.int64(6), np.int64(6), np.int64(5), np.int64(7), np.int64(8), np.int64(1), np.int64(0), np.int64(1), np.int64(6), np.int64(4), np.int64(6), np.int64(7), np.int64(3), np.int64(1), np.int64(7), np.int64(1), np.int64(8), np.int64(2), np.int64(0), np.int64(4), np.int64(9), np.int64(9), np.int64(5), np.int64(5), np.int64(1), np.int64(5), np.int64(6), np.int64(0), np.int64(3), np.int64(4), np.int64(4), np.int64(6), np.int64(5), np.int64(4), np.int64(6), np.int64(5), np.int64(4), np.int64(5), np.int64(1), np.int64(4), np.int64(4), np.int64(7), np.int64(2), np.int64(3), np.int64(2), np.int64(7), np.int64(1), np.int64(8), np.int64(1), np.int64(8), np.int64(1), np.int64(8), np.int64(5), np.int64(0), np.int64(8), np.int64(9), np.int64(2), np.int64(5), np.int64(0), np.int64(1), np.int64(1), np.int64(1), np.int64(0), np.int64(9), np.int64(0), np.int64(3), np.int64(1), np.int64(6), np.int64(4), np.int64(2), np.int64(3), np.int64(6), np.int64(1), np.int64(1), np.int64(1), np.int64(3), np.int64(9), np.int64(5), np.int64(2), np.int64(9), np.int64(4), np.int64(5), np.int64(9), np.int64(3), np.int64(9), np.int64(0), np.int64(3), np.int64(5), np.int64(5), np.int64(5), np.int64(7), np.int64(2), np.int64(2), np.int64(7), np.int64(1), np.int64(2), np.int64(8), np.int64(4), np.int64(1), np.int64(7), np.int64(3), np.int64(3), np.int64(8), np.int64(8), np.int64(7), np.int64(9), np.int64(2), np.int64(2), np.int64(4), np.int64(1), np.int64(5), np.int64(9), np.int64(8), np.int64(7), np.int64(2), np.int64(3), np.int64(0), np.int64(2), np.int64(4), np.int64(2), np.int64(4), np.int64(1), np.int64(9), np.int64(5), np.int64(7), np.int64(7), np.int64(2), np.int64(8), np.int64(2), np.int64(6), np.int64(8), np.int64(5), np.int64(7), np.int64(7), np.int64(9), np.int64(1), np.int64(8), np.int64(1), np.int64(8), np.int64(0), np.int64(3), np.int64(0), np.int64(1), np.int64(9), np.int64(9), np.int64(4), np.int64(1), np.int64(8), np.int64(2), np.int64(1), np.int64(2), np.int64(9), np.int64(7), np.int64(5), np.int64(9), np.int64(2), np.int64(6), np.int64(4), np.int64(1), np.int64(5), np.int64(8), np.int64(2), np.int64(9), np.int64(2), np.int64(0), np.int64(4), np.int64(0), np.int64(0), np.int64(2), np.int64(8), np.int64(4), np.int64(7), np.int64(1), np.int64(2), np.int64(4), np.int64(0), np.int64(2), np.int64(7), np.int64(4), np.int64(3), np.int64(3), np.int64(0), np.int64(0), np.int64(3), np.int64(1), np.int64(9), np.int64(6), np.int64(5), np.int64(2), np.int64(5), np.int64(8), np.int64(7), np.int64(9), np.int64(3), np.int64(0), np.int64(4), np.int64(2), np.int64(0), np.int64(7), np.int64(1), np.int64(1), np.int64(2), np.int64(1), np.int64(5), np.int64(3), np.int64(3), np.int64(9), np.int64(7), np.int64(8), np.int64(6), np.int64(3), np.int64(6), np.int64(1), np.int64(3), np.int64(8), np.int64(1), np.int64(0), np.int64(5), np.int64(1), np.int64(3), np.int64(1), np.int64(5), np.int64(5), np.int64(6), np.int64(1), np.int64(8), np.int64(5), np.int64(1), np.int64(9), np.int64(9), np.int64(4), np.int64(6), np.int64(2), np.int64(2), np.int64(5), np.int64(0), np.int64(6), np.int64(5), np.int64(6), np.int64(3), np.int64(7), np.int64(2), np.int64(0), np.int64(8), np.int64(8), np.int64(5), np.int64(4), np.int64(1), np.int64(1), np.int64(4), np.int64(0), np.int64(7), np.int64(3), np.int64(7), np.int64(6), np.int64(1), np.int64(6), np.int64(2), np.int64(1), np.int64(9), np.int64(2), np.int64(8), np.int64(6), np.int64(1), np.int64(9), np.int64(5), np.int64(2), np.int64(5), np.int64(4), np.int64(4), np.int64(2), np.int64(8), np.int64(3), np.int64(8), np.int64(2), np.int64(4), np.int64(5), np.int64(0), np.int64(3), np.int64(1), np.int64(7), np.int64(7), np.int64(5), np.int64(7), np.int64(9), np.int64(7), np.int64(1), np.int64(9), np.int64(2), np.int64(1), np.int64(4), np.int64(2), np.int64(9), np.int64(2), np.int64(0), np.int64(4), np.int64(9), np.int64(1), np.int64(4), np.int64(8), np.int64(1), np.int64(8), np.int64(4), np.int64(5), np.int64(9), np.int64(8), np.int64(8), np.int64(3), np.int64(7), np.int64(6), np.int64(0), np.int64(0), np.int64(3), np.int64(0), np.int64(2), np.int64(0), np.int64(6), np.int64(4), np.int64(9), np.int64(3), np.int64(3), np.int64(3), np.int64(2), np.int64(3), np.int64(9), np.int64(1), np.int64(2), np.int64(6), np.int64(8), np.int64(0), np.int64(5), np.int64(6), np.int64(6), np.int64(6), np.int64(3), np.int64(8), np.int64(8), np.int64(2), np.int64(7), np.int64(5), np.int64(8), np.int64(9), np.int64(6), np.int64(1), np.int64(8), np.int64(4), np.int64(1), np.int64(2), np.int64(5), np.int64(9), np.int64(1), np.int64(9), np.int64(7), np.int64(5), np.int64(4), np.int64(0), np.int64(8), np.int64(9), np.int64(9), np.int64(1), np.int64(0), np.int64(5), np.int64(2), np.int64(3), np.int64(7), np.int64(3), np.int64(9), np.int64(4), np.int64(0), np.int64(6), np.int64(3), np.int64(9), np.int64(5), np.int64(2), np.int64(1), np.int64(3), np.int64(1), np.int64(3), np.int64(6), np.int64(5), np.int64(7), np.int64(4), np.int64(2), np.int64(2), np.int64(6), np.int64(3), np.int64(2), np.int64(6), np.int64(5), np.int64(4), np.int64(8), np.int64(9), np.int64(7), np.int64(1), np.int64(3), np.int64(0), np.int64(3), np.int64(8), np.int64(3), np.int64(1), np.int64(9), np.int64(3), np.int64(4), np.int64(4), np.int64(6), np.int64(4), np.int64(1), np.int64(1), np.int64(8), np.int64(2), np.int64(5), np.int64(4), np.int64(8), np.int64(8), np.int64(4), np.int64(0), np.int64(0), np.int64(2), np.int64(3), np.int64(2), np.int64(7), np.int64(7), np.int64(0), np.int64(8), np.int64(7), np.int64(4), np.int64(4), np.int64(7), np.int64(9), np.int64(6), np.int64(9), np.int64(0), np.int64(9), np.int64(8), np.int64(0), np.int64(4), np.int64(6), np.int64(0), np.int64(6), np.int64(3), np.int64(5), np.int64(4), np.int64(8), np.int64(3), np.int64(3), np.int64(9), np.int64(3), np.int64(3), np.int64(3), np.int64(7), np.int64(8), np.int64(0), np.int64(2), np.int64(2), np.int64(1), np.int64(7), np.int64(0), np.int64(6), np.int64(5), np.int64(4), np.int64(3), np.int64(8), np.int64(0), np.int64(9), np.int64(6), np.int64(3), np.int64(8), np.int64(0), np.int64(9), np.int64(9), np.int64(6), np.int64(8), np.int64(6), np.int64(8), np.int64(5), np.int64(7), np.int64(8), np.int64(6), np.int64(0), np.int64(2), np.int64(4), np.int64(0), np.int64(2), np.int64(2), np.int64(3), np.int64(1), np.int64(9), np.int64(7), np.int64(5), np.int64(8), np.int64(0), np.int64(8), np.int64(4), np.int64(6), np.int64(2), np.int64(6), np.int64(7), np.int64(9), np.int64(3), np.int64(2), np.int64(9), np.int64(8), np.int64(2), np.int64(2), np.int64(9), np.int64(2), np.int64(7), np.int64(3), np.int64(5), np.int64(9), np.int64(1), np.int64(8), np.int64(0), np.int64(2), np.int64(0), np.int64(5), np.int64(6), np.int64(1), np.int64(3), np.int64(7), np.int64(6), np.int64(7), np.int64(1), np.int64(2), np.int64(5), np.int64(8), np.int64(0), np.int64(3), np.int64(7), np.int64(2), np.int64(4), np.int64(0), np.int64(9), np.int64(1), np.int64(8), np.int64(6), np.int64(7), np.int64(7), np.int64(4), np.int64(3), np.int64(4), np.int64(9), np.int64(1), np.int64(9), np.int64(5), np.int64(1), np.int64(7), np.int64(3), np.int64(9), np.int64(7), np.int64(6), np.int64(9), np.int64(1), np.int64(3), np.int64(3), np.int64(8), np.int64(3), np.int64(3), np.int64(6), np.int64(7), np.int64(2), np.int64(8), np.int64(5), np.int64(8), np.int64(5), np.int64(1), np.int64(1), np.int64(4), np.int64(4), np.int64(3), np.int64(1), np.int64(0), np.int64(7), np.int64(7), np.int64(0), np.int64(7), np.int64(9), np.int64(4), np.int64(4), np.int64(8), np.int64(5), np.int64(5), np.int64(4), np.int64(0), np.int64(8), np.int64(2), np.int64(1), np.int64(0), np.int64(8), np.int64(4), np.int64(5), np.int64(0), np.int64(4), np.int64(0), np.int64(6), np.int64(1), np.int64(9), np.int64(3), np.int64(2), np.int64(6), np.int64(7), np.int64(2), np.int64(6), np.int64(9), np.int64(3), np.int64(1), np.int64(4), np.int64(6), np.int64(2), np.int64(5), np.int64(4), np.int64(2), np.int64(0), np.int64(6), np.int64(2), np.int64(1), np.int64(7), np.int64(3), np.int64(4), np.int64(1), np.int64(0), np.int64(5), np.int64(4), np.int64(3), np.int64(1), np.int64(1), np.int64(7), np.int64(4), np.int64(9), np.int64(9), np.int64(4), np.int64(8), np.int64(4), np.int64(0), np.int64(2), np.int64(4), np.int64(5), np.int64(1), np.int64(1), np.int64(6), np.int64(4), np.int64(7), np.int64(1), np.int64(9), np.int64(4), np.int64(2), np.int64(4), np.int64(1), np.int64(5), np.int64(5), np.int64(3), np.int64(8), np.int64(3), np.int64(1), np.int64(4), np.int64(5), np.int64(6), np.int64(8), np.int64(9), np.int64(4), np.int64(1), np.int64(5), np.int64(3), np.int64(8), np.int64(0), np.int64(3), np.int64(2), np.int64(5), np.int64(1), np.int64(2), np.int64(8), np.int64(3), np.int64(4), np.int64(4), np.int64(0), np.int64(8), np.int64(8), np.int64(3), np.int64(3), np.int64(1), np.int64(7), np.int64(3), np.int64(5), np.int64(9), np.int64(6), np.int64(3), np.int64(2), np.int64(6), np.int64(1), np.int64(3), np.int64(6), np.int64(0), np.int64(7), np.int64(2), np.int64(1), np.int64(7), np.int64(1), np.int64(4), np.int64(2), np.int64(4), np.int64(2), np.int64(1), np.int64(7), np.int64(9), np.int64(6), np.int64(1), np.int64(1), np.int64(2), np.int64(4), np.int64(8), np.int64(1), np.int64(7), np.int64(7), np.int64(4), np.int64(8), np.int64(0), np.int64(9), np.int64(3), np.int64(1), np.int64(3), np.int64(1), np.int64(0), np.int64(7), np.int64(7), np.int64(0), np.int64(3), np.int64(5), np.int64(5), np.int64(2), np.int64(7), np.int64(6), np.int64(6), np.int64(9), np.int64(2), np.int64(8), np.int64(3), np.int64(5), np.int64(2), np.int64(2), np.int64(5), np.int64(6), np.int64(0), np.int64(8), np.int64(2), np.int64(9), np.int64(2), np.int64(8), np.int64(8), np.int64(8), np.int64(8), np.int64(7), np.int64(4), np.int64(4), np.int64(3), np.int64(0), np.int64(6), np.int64(6), np.int64(3), np.int64(2), np.int64(1), np.int64(3), np.int64(2), np.int64(2), np.int64(9), np.int64(3), np.int64(0), np.int64(0), np.int64(5), np.int64(7), np.int64(8), np.int64(3), np.int64(4), np.int64(4), np.int64(6), np.int64(0), np.int64(2), np.int64(9), np.int64(1), np.int64(4), np.int64(7), np.int64(4), np.int64(7), np.int64(3), np.int64(9), np.int64(8), np.int64(8), np.int64(4), np.int64(7), np.int64(1), np.int64(2), np.int64(1), np.int64(2), np.int64(2), np.int64(3), np.int64(7), np.int64(3), np.int64(2), np.int64(3), np.int64(9), np.int64(1), np.int64(7), np.int64(4), np.int64(0), np.int64(3), np.int64(5), np.int64(5), np.int64(8), np.int64(6), np.int64(3), np.int64(2), np.int64(6), np.int64(7), np.int64(6), np.int64(6), np.int64(3), np.int64(2), np.int64(7), np.int64(9), np.int64(1), np.int64(1), np.int64(7), np.int64(4), np.int64(6), np.int64(4), np.int64(9), np.int64(5), np.int64(6), np.int64(3), np.int64(3), np.int64(4), np.int64(7), np.int64(8), np.int64(9), np.int64(1), np.int64(1), np.int64(0), np.int64(9), np.int64(1), np.int64(4), np.int64(4), np.int64(5), np.int64(4), np.int64(0), np.int64(6), np.int64(2), np.int64(2), np.int64(3), np.int64(1), np.int64(5), np.int64(1), np.int64(2), np.int64(0), np.int64(3), np.int64(8), np.int64(1), np.int64(2), np.int64(6), np.int64(7), np.int64(1), np.int64(6), np.int64(2), np.int64(3), np.int64(9), np.int64(0), np.int64(1), np.int64(2), np.int64(2), np.int64(0), np.int64(8), np.int64(9), np.int64(9), np.int64(0), np.int64(2), np.int64(3), np.int64(1), np.int64(9), np.int64(7), np.int64(8), np.int64(1), np.int64(0), np.int64(4), np.int64(1), np.int64(7), np.int64(9), np.int64(5), np.int64(4), np.int64(2), np.int64(6), np.int64(8), np.int64(1), np.int64(3), np.int64(7), np.int64(5), np.int64(4), np.int64(4), np.int64(1), np.int64(8), np.int64(1), np.int64(3), np.int64(8), np.int64(1), np.int64(2), np.int64(5), np.int64(8), np.int64(0), np.int64(6), np.int64(2), np.int64(1), np.int64(1), np.int64(8), np.int64(1), np.int64(5), np.int64(3), np.int64(4), np.int64(6), np.int64(9), np.int64(5), np.int64(0), np.int64(9), np.int64(2), np.int64(2), np.int64(4), np.int64(8), np.int64(2), np.int64(1), np.int64(7), np.int64(2), np.int64(4), np.int64(9), np.int64(4), np.int64(4), np.int64(0), np.int64(3), np.int64(9), np.int64(2), np.int64(2), np.int64(3), np.int64(3), np.int64(8), np.int64(3), np.int64(5), np.int64(7), np.int64(3), np.int64(5), np.int64(8), np.int64(1), np.int64(2), np.int64(4), np.int64(4), np.int64(6), np.int64(4), np.int64(9), np.int64(5), np.int64(1), np.int64(0), np.int64(6), np.int64(9), np.int64(5), np.int64(9), np.int64(5), np.int64(9), np.int64(7), np.int64(3), np.int64(8), np.int64(0), np.int64(3), np.int64(7), np.int64(1), np.int64(3), np.int64(6), np.int64(7), np.int64(8), np.int64(5), np.int64(9), np.int64(7), np.int64(9), np.int64(6), np.int64(9), np.int64(6), np.int64(3), np.int64(7), np.int64(4), np.int64(6), np.int64(5), np.int64(3), np.int64(5), np.int64(4), np.int64(7), np.int64(8), np.int64(7), np.int64(8), np.int64(0), np.int64(7), np.int64(6), np.int64(8), np.int64(8), np.int64(7), np.int64(3), np.int64(3), np.int64(1), np.int64(9), np.int64(5), np.int64(2), np.int64(7), np.int64(3), np.int64(5), np.int64(1), np.int64(1), np.int64(2), np.int64(1), np.int64(4), np.int64(7), np.int64(4), np.int64(7), np.int64(5), np.int64(4), np.int64(5), np.int64(4), np.int64(0), np.int64(8), np.int64(3), np.int64(6), np.int64(9), np.int64(6), np.int64(0), np.int64(2), np.int64(3), np.int64(4), np.int64(4), np.int64(4), np.int64(4), np.int64(6), np.int64(6), np.int64(4), np.int64(7), np.int64(9), np.int64(3), np.int64(4), np.int64(5), np.int64(5), np.int64(8), np.int64(7), np.int64(3), np.int64(7), np.int64(2), np.int64(7), np.int64(0), np.int64(2), np.int64(4), np.int64(1), np.int64(1), np.int64(6), np.int64(6), np.int64(9), np.int64(2), np.int64(8), np.int64(7), np.int64(2), np.int64(0), np.int64(1), np.int64(5), np.int64(0), np.int64(9), np.int64(1), np.int64(7), np.int64(0), np.int64(6), np.int64(0), np.int64(8), np.int64(6), np.int64(8), np.int64(1), np.int64(8), np.int64(0), np.int64(3), np.int64(3), np.int64(7), np.int64(2), np.int64(3), np.int64(6), np.int64(2), np.int64(1), np.int64(6), np.int64(1), np.int64(1), np.int64(3), np.int64(7), np.int64(9), np.int64(0), np.int64(8), np.int64(0), np.int64(5), np.int64(4), np.int64(0), np.int64(2), np.int64(8), np.int64(2), np.int64(2), np.int64(9), np.int64(8), np.int64(4), np.int64(0), np.int64(4), np.int64(5), np.int64(8), np.int64(5), np.int64(1), np.int64(2), np.int64(1), np.int64(3), np.int64(1), np.int64(7), np.int64(9), np.int64(5), np.int64(7), np.int64(2), np.int64(0), np.int64(5), np.int64(8), np.int64(8), np.int64(6), np.int64(2), np.int64(5), np.int64(6), np.int64(1), np.int64(9), np.int64(2), np.int64(1), np.int64(5), np.int64(8), np.int64(7), np.int64(0), np.int64(2), np.int64(4), np.int64(4), np.int64(3), np.int64(6), np.int64(8), np.int64(8), np.int64(2), np.int64(4), np.int64(0), np.int64(5), np.int64(0), np.int64(4), np.int64(4), np.int64(7), np.int64(9), np.int64(3), np.int64(4), np.int64(1), np.int64(5), np.int64(9), np.int64(2), np.int64(3), np.int64(5), np.int64(8), np.int64(8), np.int64(0), np.int64(4), np.int64(3), np.int64(3), np.int64(6), np.int64(6), np.int64(0), np.int64(1), np.int64(6), np.int64(0), np.int64(3), np.int64(7), np.int64(4), np.int64(4), np.int64(1), np.int64(2), np.int64(9), np.int64(1), np.int64(4), np.int64(6), np.int64(9), np.int64(9), np.int64(3), np.int64(9), np.int64(8), np.int64(4), np.int64(4), np.int64(3), np.int64(1), np.int64(3), np.int64(1), np.int64(3), np.int64(8), np.int64(7), np.int64(9), np.int64(4), np.int64(8), np.int64(6), np.int64(7), np.int64(9), np.int64(9), np.int64(1), np.int64(4), np.int64(5), np.int64(6), np.int64(0), np.int64(5), np.int64(2), np.int64(2), np.int64(2), np.int64(1), np.int64(5), np.int64(5), np.int64(2), np.int64(4), np.int64(9), np.int64(6), np.int64(2), np.int64(7), np.int64(7), np.int64(2), np.int64(2), np.int64(1), np.int64(1), np.int64(2), np.int64(8), np.int64(3), np.int64(7), np.int64(2), np.int64(4), np.int64(1), np.int64(7), np.int64(1), np.int64(7), np.int64(6), np.int64(7), np.int64(8), np.int64(2), np.int64(7), np.int64(3), np.int64(1), np.int64(7), np.int64(5), np.int64(8), np.int64(2), np.int64(6), np.int64(2), np.int64(2), np.int64(5), np.int64(6), np.int64(5), np.int64(0), np.int64(9), np.int64(2), np.int64(4), np.int64(3), np.int64(3), np.int64(9), np.int64(7), np.int64(6), np.int64(6), np.int64(8), np.int64(0), np.int64(4), np.int64(1), np.int64(3), np.int64(8), np.int64(3), np.int64(9), np.int64(1), np.int64(8), np.int64(0), np.int64(6), np.int64(7), np.int64(2), np.int64(1), np.int64(0), np.int64(5), np.int64(5), np.int64(2), np.int64(0), np.int64(2), np.int64(2), np.int64(0), np.int64(2), np.int64(4), np.int64(9), np.int64(8), np.int64(0), np.int64(9), np.int64(9), np.int64(4), np.int64(6), np.int64(5), np.int64(4), np.int64(9), np.int64(1), np.int64(4), np.int64(3), np.int64(4), np.int64(9), np.int64(9), np.int64(1), np.int64(2), np.int64(2), np.int64(3), np.int64(1), np.int64(9), np.int64(6), np.int64(4), np.int64(0), np.int64(9), np.int64(4), np.int64(8), np.int64(3), np.int64(8), np.int64(4), np.int64(0), np.int64(2), np.int64(5), np.int64(1), np.int64(9), np.int64(6), np.int64(2), np.int64(9), np.int64(4), np.int64(0), np.int64(9), np.int64(6), np.int64(0), np.int64(6), np.int64(2), np.int64(5), np.int64(4), np.int64(2), np.int64(3), np.int64(8), np.int64(4), np.int64(5), np.int64(5), np.int64(9), np.int64(3), np.int64(8), np.int64(5), np.int64(3), np.int64(5), np.int64(8), np.int64(6), np.int64(5), np.int64(7), np.int64(6), np.int64(3), np.int64(3), np.int64(9), np.int64(6), np.int64(1), np.int64(1), np.int64(2), np.int64(9), np.int64(0), np.int64(4), np.int64(3), np.int64(3), np.int64(6), np.int64(9), np.int64(5), np.int64(7), np.int64(3), np.int64(9), np.int64(7), np.int64(7), np.int64(8), np.int64(4), np.int64(9), np.int64(8), np.int64(3), np.int64(0), np.int64(7), np.int64(2), np.int64(7), np.int64(9), np.int64(4), np.int64(5), np.int64(4), np.int64(9), np.int64(3), np.int64(2), np.int64(1), np.int64(4), np.int64(0), np.int64(2), np.int64(3), np.int64(7), np.int64(5), np.int64(9), np.int64(8), np.int64(8), np.int64(5), np.int64(0), np.int64(3), np.int64(1), np.int64(4), np.int64(7), np.int64(3), np.int64(9), np.int64(0), np.int64(0), np.int64(0), np.int64(6), np.int64(6), np.int64(2), np.int64(3), np.int64(7), np.int64(8), np.int64(4), np.int64(7), np.int64(7), np.int64(9), np.int64(2), np.int64(4), np.int64(1), np.int64(6), np.int64(5), np.int64(2), np.int64(4), np.int64(3), np.int64(8), np.int64(1), np.int64(8), np.int64(4), np.int64(0), np.int64(9), np.int64(8), np.int64(4), np.int64(8), np.int64(7), np.int64(7), np.int64(0), np.int64(7), np.int64(8), np.int64(8), np.int64(4), np.int64(0), np.int64(4), np.int64(8), np.int64(8), np.int64(2), np.int64(4), np.int64(7), np.int64(6), np.int64(6), np.int64(6), np.int64(4), np.int64(7), np.int64(1), np.int64(8), np.int64(8), np.int64(2), np.int64(3), np.int64(6), np.int64(3), np.int64(0), np.int64(0), np.int64(3), np.int64(7), np.int64(6), np.int64(9), np.int64(7), np.int64(9), np.int64(9), np.int64(5), np.int64(4), np.int64(3), np.int64(3), np.int64(6), np.int64(1), np.int64(2), np.int64(3), np.int64(7), np.int64(3), np.int64(3), np.int64(6), np.int64(0), np.int64(3), np.int64(3), np.int64(8), np.int64(4), np.int64(3), np.int64(6), np.int64(3), np.int64(5), np.int64(0), np.int64(2), np.int64(0), np.int64(9), np.int64(0), np.int64(7), np.int64(4), np.int64(6), np.int64(9), np.int64(3), np.int64(5), np.int64(1), np.int64(9), np.int64(6), np.int64(1), np.int64(4), np.int64(5), np.int64(4), np.int64(5), np.int64(0), np.int64(5), np.int64(9), np.int64(6), np.int64(2), np.int64(1), np.int64(2), np.int64(9), np.int64(1), np.int64(9), np.int64(9), np.int64(4), np.int64(0), np.int64(8), np.int64(4), np.int64(5), np.int64(2), np.int64(9), np.int64(2), np.int64(1), np.int64(2), np.int64(1), np.int64(7), np.int64(3), np.int64(6), np.int64(8), np.int64(8), np.int64(4), np.int64(9), np.int64(1), np.int64(9), np.int64(8), np.int64(5), np.int64(7), np.int64(5), np.int64(1), np.int64(1), np.int64(8), np.int64(6), np.int64(5), np.int64(2), np.int64(4), np.int64(4), np.int64(7), np.int64(2), np.int64(3), np.int64(5), np.int64(6), np.int64(8), np.int64(8), np.int64(6), np.int64(2), np.int64(3), np.int64(1), np.int64(0), np.int64(5), np.int64(8), np.int64(9), np.int64(2), np.int64(9), np.int64(6), np.int64(7), np.int64(0), np.int64(4), np.int64(8), np.int64(7), np.int64(1), np.int64(7), np.int64(4), np.int64(1), np.int64(0), np.int64(5), np.int64(7), np.int64(2), np.int64(0), np.int64(0), np.int64(9), np.int64(1), np.int64(7), np.int64(0), np.int64(7), np.int64(8), np.int64(4), np.int64(4), np.int64(2), np.int64(0), np.int64(4), np.int64(6), np.int64(0), np.int64(3), np.int64(1), np.int64(1), np.int64(3), np.int64(3), np.int64(9), np.int64(6), np.int64(7), np.int64(4), np.int64(1), np.int64(5), np.int64(3), np.int64(0), np.int64(8), np.int64(7), np.int64(3), np.int64(9), np.int64(6), np.int64(9), np.int64(3), np.int64(5), np.int64(0), np.int64(2), np.int64(7), np.int64(4), np.int64(5), np.int64(1), np.int64(2), np.int64(5), np.int64(8), np.int64(0), np.int64(8), np.int64(8), np.int64(1), np.int64(5), np.int64(0), np.int64(3), np.int64(0), np.int64(3), np.int64(1), np.int64(4), np.int64(0), np.int64(3), np.int64(7), np.int64(2), np.int64(7), np.int64(1), np.int64(8), np.int64(0), np.int64(7), np.int64(0), np.int64(4), np.int64(3), np.int64(1), np.int64(9), np.int64(8), np.int64(7), np.int64(7), np.int64(1), np.int64(4), np.int64(9), np.int64(9), np.int64(3), np.int64(8), np.int64(1), np.int64(7), np.int64(9), np.int64(0), np.int64(2), np.int64(0), np.int64(3), np.int64(3), np.int64(7), np.int64(6), np.int64(9), np.int64(2), np.int64(3), np.int64(3), np.int64(7), np.int64(7), np.int64(0), np.int64(0), np.int64(7), np.int64(5), np.int64(2), np.int64(9), np.int64(8), np.int64(7), np.int64(4), np.int64(4), np.int64(2), np.int64(6), np.int64(6), np.int64(1), np.int64(9), np.int64(6), np.int64(8), np.int64(2), np.int64(9), np.int64(0), np.int64(8), np.int64(3), np.int64(1), np.int64(1), np.int64(6), np.int64(3), np.int64(5), np.int64(1), np.int64(1), np.int64(1), np.int64(3), np.int64(1), np.int64(2), np.int64(3), np.int64(0), np.int64(2), np.int64(0), np.int64(1), np.int64(3), np.int64(5), np.int64(5), np.int64(7), np.int64(4), np.int64(8), np.int64(9), np.int64(6), np.int64(9), np.int64(6), np.int64(8), np.int64(3), np.int64(6), np.int64(6), np.int64(8), np.int64(5), np.int64(1), np.int64(4), np.int64(2), np.int64(4), np.int64(4), np.int64(5), np.int64(1), np.int64(1), np.int64(9), np.int64(0), np.int64(2), np.int64(4), np.int64(9), np.int64(5), np.int64(7), np.int64(1), np.int64(8), np.int64(8), np.int64(5), np.int64(0), np.int64(9), np.int64(8), np.int64(7), np.int64(1), np.int64(1), np.int64(6), np.int64(7), np.int64(6), np.int64(3), np.int64(2), np.int64(2), np.int64(0), np.int64(8), np.int64(9), np.int64(2), np.int64(5), np.int64(1), np.int64(0), np.int64(8), np.int64(1), np.int64(4), np.int64(5), np.int64(7), np.int64(9), np.int64(6), np.int64(9), np.int64(0), np.int64(6), np.int64(1), np.int64(5), np.int64(5), np.int64(8), np.int64(3), np.int64(8), np.int64(2), np.int64(6), np.int64(5), np.int64(0), np.int64(7), np.int64(4), np.int64(6), np.int64(1), np.int64(3), np.int64(4), np.int64(7), np.int64(3), np.int64(2), np.int64(3), np.int64(4), np.int64(2), np.int64(5), np.int64(2), np.int64(7), np.int64(1), np.int64(7), np.int64(2), np.int64(6), np.int64(4), np.int64(1), np.int64(8), np.int64(8), np.int64(8), np.int64(6), np.int64(0), np.int64(1), np.int64(8), np.int64(2), np.int64(5), np.int64(7), np.int64(7), np.int64(6), np.int64(8), np.int64(3), np.int64(5), np.int64(2), np.int64(4), np.int64(2), np.int64(4), np.int64(0), np.int64(8), np.int64(8), np.int64(3), np.int64(4), np.int64(9), np.int64(2), np.int64(7), np.int64(5), np.int64(8), np.int64(6), np.int64(5), np.int64(6), np.int64(0), np.int64(8), np.int64(6), np.int64(7), np.int64(3), np.int64(6), np.int64(4), np.int64(9), np.int64(4), np.int64(6), np.int64(5), np.int64(3), np.int64(0), np.int64(4), np.int64(1), np.int64(9), np.int64(1), np.int64(4), np.int64(6), np.int64(2), np.int64(9), np.int64(1), np.int64(1), np.int64(0), np.int64(6), np.int64(3), np.int64(9), np.int64(5), np.int64(6), np.int64(5), np.int64(6), np.int64(5), np.int64(8), np.int64(4), np.int64(6), np.int64(4), np.int64(3), np.int64(9), np.int64(1), np.int64(3), np.int64(4), np.int64(1), np.int64(9), np.int64(1), np.int64(2), np.int64(1), np.int64(8), np.int64(9), np.int64(3), np.int64(5), np.int64(4), np.int64(0), np.int64(9), np.int64(3), np.int64(6), np.int64(1), np.int64(7), np.int64(5), np.int64(5), np.int64(3), np.int64(3), np.int64(4), np.int64(1), np.int64(5), np.int64(7), np.int64(5), np.int64(8), np.int64(6), np.int64(4), np.int64(1), np.int64(0), np.int64(8), np.int64(2), np.int64(3), np.int64(4), np.int64(6), np.int64(7), np.int64(9), np.int64(8), np.int64(1), np.int64(8), np.int64(9), np.int64(9), np.int64(2), np.int64(8), np.int64(6), np.int64(2), np.int64(7), np.int64(0), np.int64(0), np.int64(6), np.int64(7), np.int64(5), np.int64(8), np.int64(6), np.int64(0), np.int64(9), np.int64(3), np.int64(9), np.int64(1), np.int64(3), np.int64(5), np.int64(4), np.int64(3), np.int64(3), np.int64(5), np.int64(5), np.int64(6), np.int64(3), np.int64(0), np.int64(2), np.int64(3), np.int64(4), np.int64(2), np.int64(3), np.int64(0), np.int64(9), np.int64(9), np.int64(4), np.int64(7), np.int64(2), np.int64(8), np.int64(4), np.int64(7), np.int64(0), np.int64(6), np.int64(2), np.int64(8), np.int64(5), np.int64(2), np.int64(8), np.int64(5), np.int64(7), np.int64(3), np.int64(0), np.int64(8), np.int64(2), np.int64(2), np.int64(2), np.int64(8), np.int64(2), np.int64(5), np.int64(5), np.int64(7), np.int64(6), np.int64(4), np.int64(6), np.int64(8), np.int64(4), np.int64(8), np.int64(2), np.int64(7), np.int64(4), np.int64(5), np.int64(2), np.int64(0), np.int64(3), np.int64(9), np.int64(4), np.int64(6), np.int64(7), np.int64(2), np.int64(5), np.int64(1), np.int64(1), np.int64(1), np.int64(2), np.int64(3), np.int64(6), np.int64(7), np.int64(8), np.int64(7), np.int64(6), np.int64(4), np.int64(8), np.int64(9), np.int64(4), np.int64(8), np.int64(6), np.int64(3), np.int64(8), np.int64(3), np.int64(1), np.int64(0), np.int64(6), np.int64(2), np.int64(2), np.int64(5), np.int64(6), np.int64(4), np.int64(5), np.int64(8), np.int64(1), np.int64(4), np.int64(1), np.int64(7), np.int64(8), np.int64(4), np.int64(6), np.int64(1), np.int64(8), np.int64(4), np.int64(3), np.int64(1), np.int64(2), np.int64(8), np.int64(0), np.int64(8), np.int64(5), np.int64(9), np.int64(3), np.int64(4), np.int64(2), np.int64(0), np.int64(2), np.int64(7), np.int64(0), np.int64(9), np.int64(0), np.int64(2), np.int64(5), np.int64(7), np.int64(6), np.int64(7), np.int64(9), np.int64(4), np.int64(2), np.int64(6), np.int64(2), np.int64(4), np.int64(4), np.int64(8), np.int64(0), np.int64(4), np.int64(4), np.int64(5), np.int64(8), np.int64(0), np.int64(6), np.int64(8), np.int64(9), np.int64(8), np.int64(5), np.int64(6), np.int64(9), np.int64(0), np.int64(4), np.int64(8), np.int64(7), np.int64(1), np.int64(3), np.int64(4), np.int64(6), np.int64(8), np.int64(0), np.int64(9), np.int64(1), np.int64(3), np.int64(3), np.int64(6), np.int64(9), np.int64(8), np.int64(7), np.int64(1), np.int64(0), np.int64(5), np.int64(7), np.int64(1), np.int64(7), np.int64(5), np.int64(2), np.int64(7), np.int64(9), np.int64(1), np.int64(8), np.int64(5), np.int64(2), np.int64(4), np.int64(9), np.int64(4), np.int64(7), np.int64(2), np.int64(2), np.int64(3), np.int64(4), np.int64(9), np.int64(1), np.int64(9), np.int64(2), np.int64(1), np.int64(7), np.int64(9), np.int64(4), np.int64(4), np.int64(6), np.int64(6), np.int64(7), np.int64(2), np.int64(7), np.int64(8), np.int64(8), np.int64(1), np.int64(9), np.int64(7), np.int64(1), np.int64(1), np.int64(7), np.int64(5), np.int64(3), np.int64(3), np.int64(5), np.int64(1), np.int64(3), np.int64(7), np.int64(6), np.int64(1), np.int64(3), np.int64(8), np.int64(7), np.int64(3), np.int64(9), np.int64(0), np.int64(0), np.int64(0), np.int64(2), np.int64(8), np.int64(0), np.int64(2), np.int64(3), np.int64(7), np.int64(1), np.int64(3), np.int64(0), np.int64(3), np.int64(4), np.int64(4), np.int64(3), np.int64(8), np.int64(9), np.int64(2), np.int64(3), np.int64(9), np.int64(7), np.int64(1), np.int64(1), np.int64(7), np.int64(0), np.int64(4), np.int64(9), np.int64(6), np.int64(5), np.int64(9), np.int64(1), np.int64(7), np.int64(0), np.int64(2), np.int64(0), np.int64(2), np.int64(4), np.int64(6), np.int64(7), np.int64(0), np.int64(7), np.int64(1), np.int64(4), np.int64(6), np.int64(4), np.int64(5), np.int64(4), np.int64(9), np.int64(9), np.int64(1), np.int64(7), np.int64(9), np.int64(5), np.int64(3), np.int64(3), np.int64(8), np.int64(2), np.int64(3), np.int64(6), np.int64(2), np.int64(2), np.int64(1), np.int64(1), np.int64(1), np.int64(1), np.int64(1), np.int64(6), np.int64(9), np.int64(8), np.int64(4), np.int64(3), np.int64(7), np.int64(1), np.int64(6), np.int64(4), np.int64(9), np.int64(0), np.int64(4), np.int64(7), np.int64(4), np.int64(2), np.int64(4), np.int64(0), np.int64(7), np.int64(0), np.int64(1), np.int64(9), np.int64(8), np.int64(8), np.int64(6), np.int64(0), np.int64(0), np.int64(4), np.int64(1), np.int64(6), np.int64(8), np.int64(2), np.int64(2), np.int64(3), np.int64(3), np.int64(4), np.int64(8), np.int64(2), np.int64(2), np.int64(1), np.int64(7), np.int64(5), np.int64(4), np.int64(4), np.int64(0), np.int64(4), np.int64(3), np.int64(9), np.int64(7), np.int64(9), np.int64(1), np.int64(0), np.int64(1), np.int64(2), np.int64(5), np.int64(4), np.int64(2), np.int64(1), np.int64(0), np.int64(1), np.int64(8), np.int64(9), np.int64(1), np.int64(6), np.int64(8), np.int64(3), np.int64(8), np.int64(4), np.int64(3), np.int64(6), np.int64(2), np.int64(8), np.int64(3), np.int64(2), np.int64(2), np.int64(1), np.int64(0), np.int64(4), np.int64(2), np.int64(9), np.int64(2), np.int64(4), np.int64(3), np.int64(7), np.int64(9), np.int64(1), np.int64(5), np.int64(2), np.int64(4), np.int64(9), np.int64(0), np.int64(3), np.int64(8), np.int64(5), np.int64(3), np.int64(6), np.int64(0), np.int64(9), np.int64(4), np.int64(6), np.int64(2), np.int64(5), np.int64(0), np.int64(2), np.int64(7), np.int64(4), np.int64(6), np.int64(6), np.int64(8), np.int64(6), np.int64(6), np.int64(8), np.int64(6), np.int64(9), np.int64(1), np.int64(7), np.int64(2), np.int64(5), np.int64(9), np.int64(9), np.int64(0), np.int64(7), np.int64(2), np.int64(7), np.int64(6), np.int64(7), np.int64(0), np.int64(6), np.int64(5), np.int64(4), np.int64(4), np.int64(7), np.int64(2), np.int64(0), np.int64(9), np.int64(9), np.int64(2), np.int64(2), np.int64(9), np.int64(4), np.int64(4), np.int64(2), np.int64(3), np.int64(3), np.int64(2), np.int64(1), np.int64(7), np.int64(0), np.int64(7), np.int64(6), np.int64(4), np.int64(1), np.int64(3), np.int64(8), np.int64(7), np.int64(4), np.int64(5), np.int64(9), np.int64(2), np.int64(5), np.int64(1), np.int64(8), np.int64(7), np.int64(3), np.int64(7), np.int64(1), np.int64(5), np.int64(5), np.int64(0), np.int64(9), np.int64(1), np.int64(4), np.int64(0), np.int64(6), np.int64(3), np.int64(3), np.int64(6), np.int64(0), np.int64(4), np.int64(9), np.int64(7), np.int64(5), np.int64(1), np.int64(6), np.int64(8), np.int64(9), np.int64(5), np.int64(5), np.int64(7), np.int64(9), np.int64(3), np.int64(8), np.int64(3), np.int64(8), np.int64(1), np.int64(5), np.int64(3), np.int64(5), np.int64(0), np.int64(5), np.int64(5), np.int64(3), np.int64(8), np.int64(6), np.int64(7), np.int64(7), np.int64(7), np.int64(3), np.int64(7), np.int64(0), np.int64(5), np.int64(9), np.int64(0), np.int64(2), np.int64(5), np.int64(5), np.int64(3), np.int64(1), np.int64(7), np.int64(7), np.int64(8), np.int64(6), np.int64(5), np.int64(9), np.int64(3), np.int64(8), np.int64(9), np.int64(5), np.int64(3), np.int64(7), np.int64(9), np.int64(1), np.int64(7), np.int64(0), np.int64(0), np.int64(3), np.int64(7), np.int64(2), np.int64(5), np.int64(8), np.int64(1), np.int64(8), np.int64(6), np.int64(2), np.int64(9), np.int64(5), np.int64(7), np.int64(5), np.int64(7), np.int64(8), np.int64(6), np.int64(2), np.int64(5), np.int64(1), np.int64(4), np.int64(8), np.int64(4), np.int64(5), np.int64(8), np.int64(3), np.int64(0), np.int64(6), np.int64(2), np.int64(7), np.int64(3), np.int64(3), np.int64(2), np.int64(1), np.int64(0), np.int64(7), np.int64(3), np.int64(4), np.int64(0), np.int64(3), np.int64(9), np.int64(3), np.int64(7), np.int64(8), np.int64(9), np.int64(0), np.int64(3), np.int64(8), np.int64(0), np.int64(7), np.int64(6), np.int64(5), np.int64(4), np.int64(7), np.int64(3), np.int64(9), np.int64(0), np.int64(8), np.int64(6), np.int64(2), np.int64(5), np.int64(1), np.int64(1), np.int64(0), np.int64(0), np.int64(4), np.int64(4), np.int64(0), np.int64(1), np.int64(2), np.int64(3), np.int64(2), np.int64(7), np.int64(7), np.int64(8), np.int64(5), np.int64(2), np.int64(5), np.int64(7), np.int64(6), np.int64(9), np.int64(1), np.int64(4), np.int64(1), np.int64(6), np.int64(4), np.int64(2), np.int64(4), np.int64(3), np.int64(5), np.int64(4), np.int64(3), np.int64(9), np.int64(5), np.int64(0), np.int64(1), np.int64(5), np.int64(3), np.int64(8), np.int64(9), np.int64(1), np.int64(9), np.int64(7), np.int64(9), np.int64(5), np.int64(5), np.int64(2), np.int64(7), np.int64(4), np.int64(6), np.int64(0), np.int64(1), np.int64(1), np.int64(1), np.int64(0), np.int64(4), np.int64(4), np.int64(7), np.int64(6), np.int64(3), np.int64(0), np.int64(0), np.int64(4), np.int64(3), np.int64(0), np.int64(6), np.int64(1), np.int64(4), np.int64(6), np.int64(1), np.int64(3), np.int64(8), np.int64(1), np.int64(2), np.int64(5), np.int64(6), np.int64(2), np.int64(7), np.int64(3), np.int64(6), np.int64(0), np.int64(1), np.int64(9), np.int64(7), np.int64(6), np.int64(6), np.int64(8), np.int64(9), np.int64(2), np.int64(9), np.int64(5), np.int64(8), np.int64(3), np.int64(1), np.int64(0), np.int64(0), np.int64(7), np.int64(6), np.int64(6), np.int64(2), np.int64(1), np.int64(6), np.int64(9), np.int64(3), np.int64(1), np.int64(8), np.int64(6), np.int64(9), np.int64(0), np.int64(6), np.int64(0), np.int64(0), np.int64(0), np.int64(6), np.int64(3), np.int64(5), np.int64(9), np.int64(7), np.int64(4), np.int64(5), np.int64(5), np.int64(8), np.int64(5), np.int64(3), np.int64(0), np.int64(4), np.int64(0), np.int64(2), np.int64(9), np.int64(6), np.int64(8), np.int64(2), np.int64(3), np.int64(1), np.int64(2), np.int64(1), np.int64(1), np.int64(5), np.int64(6), np.int64(9), np.int64(8), np.int64(0), np.int64(6), np.int64(6), np.int64(5), np.int64(5), np.int64(3), np.int64(8), np.int64(6), np.int64(2), np.int64(1), np.int64(4), np.int64(5), np.int64(4), np.int64(3), np.int64(7), np.int64(8), np.int64(3), np.int64(0), np.int64(9), np.int64(3), np.int64(5), np.int64(1), np.int64(1), np.int64(0), np.int64(4), np.int64(4), np.int64(7), np.int64(0), np.int64(1), np.int64(7), np.int64(0), np.int64(1), np.int64(6), np.int64(1), np.int64(4), np.int64(5), np.int64(6), np.int64(6), np.int64(3), np.int64(7), np.int64(8), np.int64(4), np.int64(4), np.int64(7), np.int64(2), np.int64(5), np.int64(3), np.int64(7), np.int64(0), np.int64(7), np.int64(7), np.int64(9), np.int64(6), np.int64(4), np.int64(2), np.int64(8), np.int64(3), np.int64(7), np.int64(8), np.int64(3), np.int64(9), np.int64(5), np.int64(8), np.int64(9), np.int64(9), np.int64(8), np.int64(6), np.int64(2), np.int64(8), np.int64(4), np.int64(2), np.int64(3), np.int64(6), np.int64(1), np.int64(1), np.int64(8), np.int64(9), np.int64(3), np.int64(4), np.int64(0), np.int64(7), np.int64(9), np.int64(6), np.int64(7), np.int64(1), np.int64(4), np.int64(1), np.int64(3), np.int64(4), np.int64(9), np.int64(3), np.int64(1), np.int64(4), np.int64(7), np.int64(7), np.int64(4), np.int64(7), np.int64(2), np.int64(9), np.int64(3), np.int64(0), np.int64(8), np.int64(8), np.int64(8), np.int64(4), np.int64(0), np.int64(4), np.int64(4), np.int64(1), np.int64(5), np.int64(2), np.int64(8), np.int64(3), np.int64(4), np.int64(9), np.int64(5), np.int64(2), np.int64(8), np.int64(1), np.int64(5), np.int64(3), np.int64(3), np.int64(9), np.int64(4), np.int64(2), np.int64(5), np.int64(6), np.int64(3), np.int64(5), np.int64(9), np.int64(3), np.int64(5), np.int64(9), np.int64(2), np.int64(1), np.int64(9), np.int64(7), np.int64(3), np.int64(0), np.int64(6), np.int64(9), np.int64(8), np.int64(4), np.int64(0), np.int64(4), np.int64(5), np.int64(2), np.int64(9), np.int64(0), np.int64(1), np.int64(0), np.int64(3), np.int64(1), np.int64(6), np.int64(5), np.int64(8), np.int64(1), np.int64(5), np.int64(3), np.int64(5), np.int64(0), np.int64(3), np.int64(5), np.int64(5), np.int64(9), np.int64(2), np.int64(8), np.int64(7), np.int64(0), np.int64(4), np.int64(9), np.int64(1), np.int64(9), np.int64(7), np.int64(7), np.int64(5), np.int64(5), np.int64(2), np.int64(0), np.int64(9), np.int64(1), np.int64(8), np.int64(6), np.int64(2), np.int64(3), np.int64(9), np.int64(6), np.int64(2), np.int64(1), np.int64(9), np.int64(1), np.int64(3), np.int64(5), np.int64(5), np.int64(0), np.int64(3), np.int64(8), np.int64(3), np.int64(3), np.int64(7), np.int64(6), np.int64(6), np.int64(0), np.int64(1), np.int64(4), np.int64(0), np.int64(6), np.int64(9), np.int64(8), np.int64(1), np.int64(2), np.int64(9), np.int64(9), np.int64(5), np.int64(9), np.int64(7), np.int64(3), np.int64(7), np.int64(9), np.int64(0), np.int64(1), np.int64(3), np.int64(0), np.int64(4), np.int64(6), np.int64(1), np.int64(0), np.int64(2), np.int64(5), np.int64(8), np.int64(4), np.int64(4), np.int64(1), np.int64(1), np.int64(5), np.int64(4), np.int64(8), np.int64(6), np.int64(0), np.int64(6), np.int64(9), np.int64(2), np.int64(6), np.int64(2), np.int64(7), np.int64(1), np.int64(7), np.int64(9), np.int64(4), np.int64(0), np.int64(0), np.int64(3), np.int64(8), np.int64(2), np.int64(2), np.int64(3), np.int64(1), np.int64(6), np.int64(0), np.int64(5), np.int64(7), np.int64(7), np.int64(9), np.int64(2), np.int64(6), np.int64(7), np.int64(9), np.int64(7), np.int64(5), np.int64(6), np.int64(8), np.int64(8), np.int64(4), np.int64(6), np.int64(8), np.int64(4), np.int64(1), np.int64(2), np.int64(8), np.int64(2), np.int64(3), np.int64(9), np.int64(4), np.int64(0), np.int64(3), np.int64(7), np.int64(3), np.int64(2), np.int64(3), np.int64(3), np.int64(7), np.int64(3), np.int64(4), np.int64(0), np.int64(6), np.int64(2), np.int64(0), np.int64(8), np.int64(1), np.int64(5), np.int64(3), np.int64(5), np.int64(4), np.int64(1), np.int64(7), np.int64(1), np.int64(5), np.int64(7), np.int64(5), np.int64(7), np.int64(3), np.int64(2), np.int64(2), np.int64(7), np.int64(3), np.int64(7), np.int64(3), np.int64(7), np.int64(8), np.int64(5), np.int64(4), np.int64(5), np.int64(2), np.int64(9), np.int64(6), np.int64(5), np.int64(3), np.int64(6), np.int64(7), np.int64(4), np.int64(1), np.int64(7), np.int64(1), np.int64(5), np.int64(2), np.int64(3), np.int64(6), np.int64(3), np.int64(1), np.int64(4), np.int64(2), np.int64(6), np.int64(7), np.int64(4), np.int64(3), np.int64(8), np.int64(0), np.int64(6), np.int64(2), np.int64(1), np.int64(6), np.int64(5), np.int64(3), np.int64(9), np.int64(1), np.int64(9), np.int64(3), np.int64(2), np.int64(1), np.int64(8), np.int64(4), np.int64(4), np.int64(6), np.int64(5), np.int64(8), np.int64(6), np.int64(9), np.int64(7), np.int64(7), np.int64(8), np.int64(6), np.int64(9), np.int64(7), np.int64(3), np.int64(9), np.int64(4), np.int64(0), np.int64(5), np.int64(4), np.int64(2), np.int64(4), np.int64(1), np.int64(2), np.int64(3), np.int64(0), np.int64(0), np.int64(2), np.int64(6), np.int64(6), np.int64(5), np.int64(7), np.int64(0), np.int64(8), np.int64(6), np.int64(4), np.int64(7), np.int64(9), np.int64(0), np.int64(7), np.int64(3), np.int64(4), np.int64(2), np.int64(1), np.int64(8), np.int64(8), np.int64(5), np.int64(9), np.int64(2), np.int64(7), np.int64(1), np.int64(8), np.int64(8), np.int64(8), np.int64(2), np.int64(7), np.int64(6), np.int64(0), np.int64(1), np.int64(2), np.int64(7), np.int64(1), np.int64(0), np.int64(8), np.int64(3), np.int64(6), np.int64(0), np.int64(5), np.int64(3), np.int64(6), np.int64(2), np.int64(8), np.int64(7), np.int64(0), np.int64(1), np.int64(4), np.int64(2), np.int64(1), np.int64(1), np.int64(4), np.int64(4), np.int64(4), np.int64(4), np.int64(7), np.int64(1), np.int64(6), np.int64(2), np.int64(9), np.int64(9), np.int64(0), np.int64(0), np.int64(1), np.int64(8), np.int64(8), np.int64(4), np.int64(3), np.int64(4), np.int64(2), np.int64(9), np.int64(6), np.int64(1), np.int64(6), np.int64(1), np.int64(2), np.int64(2), np.int64(2), np.int64(1), np.int64(2), np.int64(3), np.int64(7), np.int64(8), np.int64(1), np.int64(0), np.int64(0), np.int64(2), np.int64(1), np.int64(6), np.int64(6), np.int64(0), np.int64(1), np.int64(6), np.int64(2), np.int64(5), np.int64(1), np.int64(7), np.int64(4), np.int64(8), np.int64(2), np.int64(1), np.int64(4), np.int64(3), np.int64(8), np.int64(3), np.int64(9), np.int64(9), np.int64(4), np.int64(9), np.int64(3), np.int64(4), np.int64(7), np.int64(2), np.int64(7), np.int64(5), np.int64(7), np.int64(0), np.int64(4), np.int64(3), np.int64(3), np.int64(2), np.int64(6), np.int64(7), np.int64(6), np.int64(0), np.int64(0), np.int64(6), np.int64(7), np.int64(7), np.int64(0), np.int64(5), np.int64(5), np.int64(8), np.int64(1), np.int64(0), np.int64(7), np.int64(0), np.int64(2), np.int64(8), np.int64(1), np.int64(5), np.int64(0), np.int64(8), np.int64(8), np.int64(0), np.int64(3), np.int64(2), np.int64(7), np.int64(7), np.int64(2), np.int64(6), np.int64(4), np.int64(7), np.int64(5), np.int64(5), np.int64(5), np.int64(2), np.int64(9), np.int64(2), np.int64(8), np.int64(4), np.int64(6), np.int64(8), np.int64(6), np.int64(5), np.int64(0), np.int64(0), np.int64(8), np.int64(7), np.int64(6), np.int64(1), np.int64(7), np.int64(1), np.int64(1), np.int64(2), np.int64(7), np.int64(4), np.int64(0), np.int64(0), np.int64(7), np.int64(7), np.int64(6), np.int64(3), np.int64(8), np.int64(6), np.int64(4), np.int64(2), np.int64(0), np.int64(9), np.int64(4), np.int64(0), np.int64(5), np.int64(7), np.int64(8), np.int64(3), np.int64(7), np.int64(4), np.int64(7), np.int64(1), np.int64(1), np.int64(3), np.int64(6), np.int64(6), np.int64(2), np.int64(9), np.int64(1), np.int64(9), np.int64(4), np.int64(8), np.int64(3), np.int64(6), np.int64(9), np.int64(5), np.int64(9), np.int64(6), np.int64(2), np.int64(4), np.int64(6), np.int64(7), np.int64(7), np.int64(0), np.int64(6), np.int64(6), np.int64(9), np.int64(4), np.int64(8), np.int64(3), np.int64(5), np.int64(3), np.int64(4), np.int64(9), np.int64(0), np.int64(0), np.int64(5), np.int64(2), np.int64(5), np.int64(0), np.int64(7), np.int64(1), np.int64(1), np.int64(1), np.int64(0), np.int64(7), np.int64(6), np.int64(7), np.int64(9), np.int64(6), np.int64(6), np.int64(4), np.int64(1), np.int64(4), np.int64(3), np.int64(1), np.int64(1), np.int64(2), np.int64(2), np.int64(4), np.int64(1), np.int64(0), np.int64(8), np.int64(7), np.int64(6), np.int64(3), np.int64(4), np.int64(0), np.int64(0), np.int64(6), np.int64(3), np.int64(3), np.int64(0), np.int64(9), np.int64(1), np.int64(7), np.int64(1), np.int64(1), np.int64(3), np.int64(1), np.int64(0), np.int64(9), np.int64(9), np.int64(7), np.int64(5), np.int64(4), np.int64(1), np.int64(4), np.int64(8), np.int64(9), np.int64(5), np.int64(3), np.int64(5), np.int64(1), np.int64(9), np.int64(8), np.int64(2), np.int64(7), np.int64(3), np.int64(9), np.int64(9), np.int64(0), np.int64(1), np.int64(0), np.int64(2), np.int64(9), np.int64(3), np.int64(9), np.int64(3), np.int64(3), np.int64(6), np.int64(2), np.int64(4), np.int64(9), np.int64(8), np.int64(3), np.int64(7), np.int64(4), np.int64(0), np.int64(4), np.int64(7), np.int64(8), np.int64(4), np.int64(9), np.int64(8), np.int64(1), np.int64(9), np.int64(7), np.int64(5), np.int64(9), np.int64(2), np.int64(8), np.int64(2), np.int64(2), np.int64(0), np.int64(2), np.int64(2), np.int64(3), np.int64(8), np.int64(4), np.int64(6), np.int64(8), np.int64(4), np.int64(8), np.int64(2), np.int64(4), np.int64(6), np.int64(7), np.int64(9), np.int64(3), np.int64(3), np.int64(9), np.int64(4), np.int64(3), np.int64(1), np.int64(4), np.int64(9), np.int64(7), np.int64(0), np.int64(5), np.int64(9), np.int64(6), np.int64(0), np.int64(4), np.int64(4), np.int64(4), np.int64(4), np.int64(6), np.int64(1), np.int64(2), np.int64(3), np.int64(3), np.int64(6), np.int64(4), np.int64(5), np.int64(9), np.int64(6), np.int64(8), np.int64(5), np.int64(6), np.int64(0), np.int64(3), np.int64(6), np.int64(4), np.int64(1), np.int64(8), np.int64(6), np.int64(5), np.int64(2), np.int64(5), np.int64(4), np.int64(5), np.int64(5), np.int64(4), np.int64(7), np.int64(7), np.int64(0), np.int64(7), np.int64(8), np.int64(2), np.int64(2), np.int64(3), np.int64(7), np.int64(0), np.int64(1), np.int64(8), np.int64(0), np.int64(7), np.int64(1), np.int64(9), np.int64(8), np.int64(7), np.int64(5), np.int64(5), np.int64(9), np.int64(1), np.int64(7), np.int64(5), np.int64(4), np.int64(3), np.int64(1), np.int64(2), np.int64(2), np.int64(1), np.int64(6), np.int64(6), np.int64(0), np.int64(1), np.int64(1), np.int64(4), np.int64(0), np.int64(7), np.int64(4), np.int64(2), np.int64(4), np.int64(0), np.int64(6), np.int64(4), np.int64(7), np.int64(6), np.int64(9), np.int64(5), np.int64(3), np.int64(4), np.int64(6), np.int64(5), np.int64(0), np.int64(1), np.int64(8), np.int64(8), np.int64(2), np.int64(8), np.int64(3), np.int64(5), np.int64(7), np.int64(8), np.int64(0), np.int64(8), np.int64(5), np.int64(7), np.int64(1), np.int64(1), np.int64(0), np.int64(1), np.int64(3), np.int64(7), np.int64(8), np.int64(5), np.int64(0), np.int64(7), np.int64(1), np.int64(1), np.int64(0), np.int64(1), np.int64(1), np.int64(4), np.int64(5), np.int64(2), np.int64(7), np.int64(6), np.int64(2), np.int64(3), np.int64(0), np.int64(2), np.int64(8), np.int64(5), np.int64(9), np.int64(6), np.int64(9), np.int64(7), np.int64(2), np.int64(1), np.int64(3), np.int64(6), np.int64(4), np.int64(1), np.int64(3), np.int64(2), np.int64(4), np.int64(0), np.int64(5), np.int64(1), np.int64(0), np.int64(3), np.int64(2), np.int64(6), np.int64(4), np.int64(4), np.int64(3), np.int64(9), np.int64(6), np.int64(1), np.int64(6), np.int64(5), np.int64(7), np.int64(9), np.int64(2), np.int64(0), np.int64(2), np.int64(6), np.int64(0), np.int64(1), np.int64(4), np.int64(3), np.int64(5), np.int64(2), np.int64(8), np.int64(8), np.int64(0), np.int64(8), np.int64(8), np.int64(9), np.int64(0), np.int64(9), np.int64(6), np.int64(7), np.int64(6), np.int64(3), np.int64(9), np.int64(3), np.int64(4), np.int64(7), np.int64(7), np.int64(7), np.int64(4), np.int64(9), np.int64(0), np.int64(6), np.int64(4), np.int64(4), np.int64(4), np.int64(2), np.int64(7), np.int64(2), np.int64(8), np.int64(1), np.int64(0), np.int64(0), np.int64(7), np.int64(8), np.int64(3), np.int64(3), np.int64(3), np.int64(1), np.int64(3), np.int64(7), np.int64(6), np.int64(1), np.int64(3), np.int64(1), np.int64(6), np.int64(6), np.int64(5), np.int64(7), np.int64(4), np.int64(7), np.int64(5), np.int64(9), np.int64(5), np.int64(8), np.int64(4), np.int64(9), np.int64(9), np.int64(1), np.int64(6), np.int64(5), np.int64(0), np.int64(1), np.int64(3), np.int64(3), np.int64(0), np.int64(3), np.int64(4), np.int64(8), np.int64(3), np.int64(2), np.int64(0), np.int64(2), np.int64(8), np.int64(1), np.int64(5), np.int64(1), np.int64(6), np.int64(8), np.int64(8), np.int64(9), np.int64(1), np.int64(2), np.int64(1), np.int64(3), np.int64(5), np.int64(1), np.int64(0), np.int64(9), np.int64(4), np.int64(4), np.int64(8), np.int64(3), np.int64(8), np.int64(5), np.int64(9), np.int64(7), np.int64(6), np.int64(4), np.int64(2), np.int64(0), np.int64(0), np.int64(0), np.int64(5), np.int64(8), np.int64(7), np.int64(1), np.int64(5), np.int64(3), np.int64(3), np.int64(8), np.int64(5), np.int64(1), np.int64(8), np.int64(4), np.int64(0), np.int64(4), np.int64(9), np.int64(9), np.int64(6), np.int64(2), np.int64(3), np.int64(3), np.int64(5), np.int64(6), np.int64(4), np.int64(8), np.int64(0), np.int64(9), np.int64(2), np.int64(8), np.int64(3), np.int64(6), np.int64(7), np.int64(5), np.int64(7), np.int64(2), np.int64(9), np.int64(4), np.int64(9), np.int64(1), np.int64(2), np.int64(8), np.int64(6), np.int64(0), np.int64(7), np.int64(0), np.int64(9), np.int64(1), np.int64(1), np.int64(6), np.int64(7), np.int64(5), np.int64(9), np.int64(9), np.int64(1), np.int64(9), np.int64(5), np.int64(9), np.int64(2), np.int64(5), np.int64(0), np.int64(4), np.int64(1), np.int64(0), np.int64(8), np.int64(4), np.int64(0), np.int64(8), np.int64(9), np.int64(8), np.int64(9), np.int64(4), np.int64(8), np.int64(5), np.int64(7), np.int64(9), np.int64(8), np.int64(9), np.int64(8), np.int64(0), np.int64(9), np.int64(9), np.int64(6), np.int64(8), np.int64(9), np.int64(9), np.int64(5), np.int64(9), np.int64(8), np.int64(5), np.int64(1), np.int64(0), np.int64(3), np.int64(3), np.int64(5), np.int64(2), np.int64(1), np.int64(6), np.int64(3), np.int64(0), np.int64(2), np.int64(8), np.int64(3), np.int64(5), np.int64(6), np.int64(2), np.int64(3), np.int64(0), np.int64(2), np.int64(2), np.int64(6), np.int64(4), np.int64(3), np.int64(5), np.int64(5), np.int64(1), np.int64(7), np.int64(2), np.int64(1), np.int64(6), np.int64(9), np.int64(1), np.int64(3), np.int64(9), np.int64(5), np.int64(5), np.int64(1), np.int64(6), np.int64(2), np.int64(2), np.int64(8), np.int64(6), np.int64(7), np.int64(1), np.int64(4), np.int64(6), np.int64(0), np.int64(4), np.int64(0), np.int64(3), np.int64(3), np.int64(2), np.int64(2), np.int64(3), np.int64(6), np.int64(8), np.int64(9), np.int64(8), np.int64(5), np.int64(3), np.int64(8), np.int64(5), np.int64(4), np.int64(5), np.int64(2), np.int64(0), np.int64(5), np.int64(6), np.int64(3), np.int64(2), np.int64(8), np.int64(3), np.int64(9), np.int64(9), np.int64(5), np.int64(7), np.int64(9), np.int64(4), np.int64(6), np.int64(7), np.int64(1), np.int64(3), np.int64(7), np.int64(3), np.int64(6), np.int64(6), np.int64(0), np.int64(9), np.int64(0), np.int64(1), np.int64(9), np.int64(4), np.int64(2), np.int64(8), np.int64(8), np.int64(0), np.int64(1), np.int64(6), np.int64(9), np.int64(7), np.int64(5), np.int64(3), np.int64(4), np.int64(7), np.int64(4), np.int64(9), np.int64(9), np.int64(4), np.int64(3), np.int64(6), np.int64(3), np.int64(1), np.int64(1), np.int64(7), np.int64(6), np.int64(9), np.int64(1), np.int64(8), np.int64(4), np.int64(1), np.int64(1), np.int64(9), np.int64(9), np.int64(4), np.int64(3), np.int64(6), np.int64(8), np.int64(1), np.int64(6), np.int64(0), np.int64(4), np.int64(1), np.int64(3), np.int64(7), np.int64(7), np.int64(4), np.int64(9), np.int64(5), np.int64(1), np.int64(0), np.int64(0), np.int64(1), np.int64(1), np.int64(6), np.int64(2), np.int64(1), np.int64(9), np.int64(8), np.int64(4), np.int64(0), np.int64(3), np.int64(6), np.int64(4), np.int64(9), np.int64(0), np.int64(7), np.int64(1), np.int64(6), np.int64(5), np.int64(7), np.int64(5), np.int64(2), np.int64(5), np.int64(1), np.int64(8), np.int64(5), np.int64(4), np.int64(7), np.int64(0), np.int64(6), np.int64(7), np.int64(8), np.int64(2), np.int64(5), np.int64(8), np.int64(1), np.int64(0), np.int64(4), np.int64(5), np.int64(7), np.int64(1), np.int64(3), np.int64(5), np.int64(1), np.int64(3), np.int64(0), np.int64(0), np.int64(6), np.int64(0), np.int64(7), np.int64(3), np.int64(1), np.int64(8), np.int64(3), np.int64(9), np.int64(7), np.int64(0), np.int64(0), np.int64(8), np.int64(9), np.int64(5), np.int64(9), np.int64(8), np.int64(3), np.int64(2), np.int64(7), np.int64(2), np.int64(9), np.int64(7), np.int64(2), np.int64(1), np.int64(1), np.int64(3), np.int64(7), np.int64(5), np.int64(3), np.int64(1), np.int64(9), np.int64(8), np.int64(2), np.int64(2), np.int64(2), np.int64(8), np.int64(8), np.int64(5), np.int64(7), np.int64(3), np.int64(8), np.int64(9), np.int64(3), np.int64(8), np.int64(6), np.int64(8), np.int64(2), np.int64(3), np.int64(9), np.int64(7), np.int64(5), np.int64(6), np.int64(2), np.int64(9), np.int64(2), np.int64(8), np.int64(8), np.int64(1), np.int64(6), np.int64(8), np.int64(8), np.int64(7), np.int64(9), np.int64(1), np.int64(8), np.int64(0), np.int64(1), np.int64(7), np.int64(2), np.int64(0), np.int64(7), np.int64(5), np.int64(1), np.int64(9), np.int64(0), np.int64(3), np.int64(0), np.int64(9), np.int64(8), np.int64(6), np.int64(2), np.int64(3), np.int64(9), np.int64(3), np.int64(8), np.int64(0), np.int64(2), np.int64(1), np.int64(1), np.int64(1), np.int64(1), np.int64(4), np.int64(2), np.int64(9), np.int64(7), np.int64(7), np.int64(5), np.int64(1), np.int64(1), np.int64(2), np.int64(1), np.int64(9), np.int64(9), np.int64(9), np.int64(1), np.int64(0), np.int64(2), np.int64(0), np.int64(2), np.int64(1), np.int64(1), np.int64(4), np.int64(6), np.int64(4), np.int64(1), np.int64(5), np.int64(4), np.int64(9), np.int64(9), np.int64(7), np.int64(7), np.int64(5), np.int64(6), np.int64(2), np.int64(2), np.int64(2), np.int64(8), np.int64(0), np.int64(6), np.int64(9), np.int64(6), np.int64(1), np.int64(9), np.int64(7), np.int64(7), np.int64(1), np.int64(4), np.int64(8), np.int64(5), np.int64(3), np.int64(4), np.int64(3), np.int64(4), np.int64(9), np.int64(7), np.int64(5), np.int64(0), np.int64(7), np.int64(4), np.int64(8), np.int64(8), np.int64(1), np.int64(5), np.int64(3), np.int64(9), np.int64(5), np.int64(9), np.int64(7), np.int64(6), np.int64(9), np.int64(0), np.int64(3), np.int64(6), np.int64(3), np.int64(9), np.int64(8), np.int64(2), np.int64(8), np.int64(1), np.int64(2), np.int64(8), np.int64(6), np.int64(8), np.int64(5), np.int64(5), np.int64(3), np.int64(9), np.int64(4), np.int64(9), np.int64(2), np.int64(5), np.int64(1), np.int64(5), np.int64(1), np.int64(3), np.int64(4), np.int64(1), np.int64(4), np.int64(4), np.int64(3), np.int64(5), np.int64(9), np.int64(1), np.int64(2), np.int64(2), np.int64(3), np.int64(3), np.int64(0), np.int64(2), np.int64(9), np.int64(0), np.int64(0), np.int64(9), np.int64(9), np.int64(6), np.int64(0), np.int64(9), np.int64(3), np.int64(8), np.int64(8), np.int64(4), np.int64(1), np.int64(9), np.int64(9), np.int64(7), np.int64(2), np.int64(7), np.int64(9), np.int64(9), np.int64(5), np.int64(9), np.int64(5), np.int64(1), np.int64(1), np.int64(8), np.int64(7), np.int64(5), np.int64(1), np.int64(9), np.int64(5), np.int64(3), np.int64(5), np.int64(4), np.int64(9), np.int64(5), np.int64(9), np.int64(3), np.int64(1), np.int64(9), np.int64(0), np.int64(9), np.int64(7), np.int64(5), np.int64(4), np.int64(9), np.int64(2), np.int64(0), np.int64(1), np.int64(0), np.int64(5), np.int64(1), np.int64(4), np.int64(9), np.int64(3), np.int64(3), np.int64(6), np.int64(1), np.int64(5), np.int64(2), np.int64(5), np.int64(2), np.int64(2), np.int64(0), np.int64(9), np.int64(2), np.int64(6), np.int64(6), np.int64(0), np.int64(1), np.int64(2), np.int64(0), np.int64(3), np.int64(0), np.int64(2), np.int64(3), np.int64(5), np.int64(7), np.int64(9), np.int64(5), np.int64(3), np.int64(0), np.int64(8), np.int64(9), np.int64(5), np.int64(0), np.int64(3), np.int64(2), np.int64(5), np.int64(4), np.int64(0), np.int64(8), np.int64(8), np.int64(4), np.int64(5), np.int64(8), np.int64(8), np.int64(4), np.int64(5), np.int64(4), np.int64(8), np.int64(5), np.int64(4), np.int64(9), np.int64(2), np.int64(2), np.int64(1), np.int64(2), np.int64(6), np.int64(8), np.int64(8), np.int64(7), np.int64(0), np.int64(3), np.int64(6), np.int64(6), np.int64(4), np.int64(3), np.int64(8), np.int64(8), np.int64(7), np.int64(2), np.int64(2), np.int64(0), np.int64(0), np.int64(4), np.int64(3), np.int64(9), np.int64(9), np.int64(1), np.int64(9), np.int64(8), np.int64(6), np.int64(6), np.int64(4), np.int64(2), np.int64(6), np.int64(9), np.int64(2), np.int64(8), np.int64(5), np.int64(4), np.int64(5), np.int64(7), np.int64(9), np.int64(4), np.int64(9), np.int64(2), np.int64(1), np.int64(8), np.int64(3), np.int64(4), np.int64(0), np.int64(7), np.int64(8), np.int64(3), np.int64(9), np.int64(3), np.int64(4), np.int64(6), np.int64(5), np.int64(6), np.int64(2), np.int64(3), np.int64(9), np.int64(2), np.int64(6), np.int64(0), np.int64(0), np.int64(6), np.int64(1), np.int64(2), np.int64(8), np.int64(7), np.int64(9), np.int64(8), np.int64(2), np.int64(0), np.int64(4), np.int64(7), np.int64(7), np.int64(5), np.int64(0), np.int64(5), np.int64(6), np.int64(4), np.int64(6), np.int64(7), np.int64(4), np.int64(3), np.int64(0), np.int64(7), np.int64(5), np.int64(0), np.int64(7), np.int64(4), np.int64(2), np.int64(0), np.int64(8), np.int64(9), np.int64(9), np.int64(4), np.int64(2), np.int64(4), np.int64(6), np.int64(7), np.int64(8), np.int64(7), np.int64(6), np.int64(9), np.int64(4), np.int64(1), np.int64(3), np.int64(7), np.int64(3), np.int64(0), np.int64(8), np.int64(7), np.int64(7), np.int64(6), np.int64(9), np.int64(3), np.int64(9), np.int64(2), np.int64(2), np.int64(9), np.int64(2), np.int64(1), np.int64(8), np.int64(3), np.int64(2), np.int64(9), np.int64(6), np.int64(8), np.int64(4), np.int64(0), np.int64(1), np.int64(2), np.int64(8), np.int64(4), np.int64(5), np.int64(2), np.int64(7), np.int64(8), np.int64(1), np.int64(1), np.int64(3), np.int64(0), np.int64(3), np.int64(5), np.int64(7), np.int64(0), np.int64(3), np.int64(1), np.int64(9), np.int64(3), np.int64(5), np.int64(3), np.int64(1), np.int64(7), np.int64(7), np.int64(3), np.int64(0), np.int64(8), np.int64(4), np.int64(8), np.int64(2), np.int64(2), np.int64(6), np.int64(2), np.int64(9), np.int64(7), np.int64(3), np.int64(9), np.int64(0), np.int64(9), np.int64(9), np.int64(6), np.int64(4), np.int64(2), np.int64(9), np.int64(7), np.int64(2), np.int64(1), np.int64(1), np.int64(6), np.int64(7), np.int64(4), np.int64(7), np.int64(5), np.int64(9), np.int64(6), np.int64(8), np.int64(2), np.int64(1), np.int64(4), np.int64(4), np.int64(5), np.int64(7), np.int64(6), np.int64(1), np.int64(3), np.int64(2), np.int64(5), np.int64(9), np.int64(9), np.int64(3), np.int64(6), np.int64(1), np.int64(1), np.int64(4), np.int64(6), np.int64(9), np.int64(7), np.int64(2), np.int64(1), np.int64(5), np.int64(1), np.int64(4), np.int64(6), np.int64(3), np.int64(8), np.int64(1), np.int64(1), np.int64(0), np.int64(3), np.int64(1), np.int64(6), np.int64(8), np.int64(4), np.int64(9), np.int64(0), np.int64(7), np.int64(3), np.int64(0), np.int64(2), np.int64(9), np.int64(0), np.int64(6), np.int64(6), np.int64(6), np.int64(3), np.int64(6), np.int64(7), np.int64(7), np.int64(2), np.int64(8), np.int64(6), np.int64(0), np.int64(8), np.int64(3), np.int64(0), np.int64(2), np.int64(9), np.int64(8), np.int64(3), np.int64(2), np.int64(5), np.int64(3), np.int64(8), np.int64(8), np.int64(0), np.int64(0), np.int64(1), np.int64(9), np.int64(5), np.int64(1), np.int64(3), np.int64(9), np.int64(6), np.int64(0), np.int64(1), np.int64(4), np.int64(1), np.int64(7), np.int64(1), np.int64(2), np.int64(3), np.int64(7), np.int64(9), np.int64(7), np.int64(4), np.int64(9), np.int64(9), np.int64(3), np.int64(9), np.int64(2), np.int64(8), np.int64(2), np.int64(7), np.int64(1), np.int64(8), np.int64(0), np.int64(9), np.int64(1), np.int64(0), np.int64(1), np.int64(7), np.int64(7), np.int64(9), np.int64(6), np.int64(9), np.int64(9), np.int64(9), np.int64(2), np.int64(1), np.int64(6), np.int64(1), np.int64(3), np.int64(5), np.int64(7), np.int64(1), np.int64(9), np.int64(7), np.int64(6), np.int64(4), np.int64(5), np.int64(7), np.int64(6), np.int64(6), np.int64(9), np.int64(9), np.int64(6), np.int64(3), np.int64(6), np.int64(2), np.int64(9), np.int64(8), np.int64(1), np.int64(2), np.int64(2), np.int64(5), np.int64(5), np.int64(3), np.int64(3), np.int64(7), np.int64(2), np.int64(1), np.int64(0), np.int64(1), np.int64(0), np.int64(4), np.int64(5), np.int64(3), np.int64(8), np.int64(2), np.int64(8), np.int64(3), np.int64(5), np.int64(1), np.int64(7), np.int64(7), np.int64(1), np.int64(1), np.int64(2), np.int64(9), np.int64(7), np.int64(8), np.int64(4), np.int64(0), np.int64(3), np.int64(0), np.int64(7), np.int64(8), np.int64(8), np.int64(4), np.int64(7), np.int64(7), np.int64(8), np.int64(5), np.int64(8), np.int64(4), np.int64(9), np.int64(8), np.int64(1), np.int64(3), np.int64(8), np.int64(0), np.int64(3), np.int64(1), np.int64(7), np.int64(9), np.int64(5), np.int64(6), np.int64(1), np.int64(6), np.int64(5), np.int64(7), np.int64(4), np.int64(9), np.int64(3), np.int64(5), np.int64(4), np.int64(7), np.int64(1), np.int64(2), np.int64(0), np.int64(8), np.int64(1), np.int64(6), np.int64(0), np.int64(7), np.int64(3), np.int64(4), np.int64(7), np.int64(3), np.int64(9), np.int64(6), np.int64(0), np.int64(8), np.int64(6), np.int64(4), np.int64(8), np.int64(7), np.int64(7), np.int64(9), np.int64(3), np.int64(8), np.int64(6), np.int64(9), np.int64(7), np.int64(2), np.int64(3), np.int64(4), np.int64(0), np.int64(2), np.int64(1), np.int64(3), np.int64(3), np.int64(5), np.int64(5), np.int64(7), np.int64(2), np.int64(4), np.int64(6), np.int64(7), np.int64(3), np.int64(8), np.int64(3), np.int64(0), np.int64(8), np.int64(7), np.int64(8), np.int64(6), np.int64(0), np.int64(8), np.int64(4), np.int64(4), np.int64(5), np.int64(8), np.int64(9), np.int64(6), np.int64(6), np.int64(3), np.int64(0), np.int64(9), np.int64(3), np.int64(7), np.int64(6), np.int64(8), np.int64(9), np.int64(3), np.int64(4), np.int64(9), np.int64(5), np.int64(8), np.int64(9), np.int64(1), np.int64(2), np.int64(8), np.int64(8), np.int64(6), np.int64(8), np.int64(1), np.int64(3), np.int64(7), np.int64(9), np.int64(0), np.int64(1), np.int64(1), np.int64(4), np.int64(7), np.int64(0), np.int64(8), np.int64(1), np.int64(7), np.int64(4), np.int64(5), np.int64(7), np.int64(1), np.int64(2), np.int64(1), np.int64(1), np.int64(3), np.int64(9), np.int64(6), np.int64(4), np.int64(1), np.int64(2), np.int64(8), np.int64(8), np.int64(7), np.int64(6), np.int64(6), np.int64(9), np.int64(3), np.int64(7), np.int64(0), np.int64(5), np.int64(2), np.int64(3), np.int64(0), np.int64(5), np.int64(4), np.int64(3), np.int64(8), np.int64(4), np.int64(6), np.int64(6), np.int64(2), np.int64(7), np.int64(9), np.int64(5), np.int64(1), np.int64(3), np.int64(2), np.int64(4), np.int64(3), np.int64(6), np.int64(1), np.int64(9), np.int64(4), np.int64(4), np.int64(7), np.int64(6), np.int64(5), np.int64(4), np.int64(1), np.int64(9), np.int64(9), np.int64(2), np.int64(7), np.int64(8), np.int64(0), np.int64(1), np.int64(3), np.int64(6), np.int64(1), np.int64(3), np.int64(4), np.int64(1), np.int64(1), np.int64(1), np.int64(5), np.int64(6), np.int64(0), np.int64(7), np.int64(0), np.int64(7), np.int64(2), np.int64(3), np.int64(2), np.int64(5), np.int64(2), np.int64(2), np.int64(9), np.int64(4), np.int64(9), np.int64(8), np.int64(1), np.int64(2), np.int64(1), np.int64(6), np.int64(1), np.int64(2), np.int64(7), np.int64(4), np.int64(0), np.int64(0), np.int64(0), np.int64(8), np.int64(2), np.int64(2), np.int64(9), np.int64(2), np.int64(2), np.int64(8), np.int64(9), np.int64(9), np.int64(2), np.int64(7), np.int64(5), np.int64(1), np.int64(3), np.int64(4), np.int64(9), np.int64(4), np.int64(1), np.int64(8), np.int64(5), np.int64(6), np.int64(2), np.int64(8), np.int64(3), np.int64(1), np.int64(2), np.int64(8), np.int64(4), np.int64(9), np.int64(9), np.int64(3), np.int64(7), np.int64(0), np.int64(7), np.int64(7), np.int64(2), np.int64(3), np.int64(2), np.int64(4), np.int64(0), np.int64(3), np.int64(9), np.int64(9), np.int64(8), np.int64(4), np.int64(1), np.int64(0), np.int64(6), np.int64(0), np.int64(9), np.int64(6), np.int64(8), np.int64(6), np.int64(1), np.int64(1), np.int64(9), np.int64(8), np.int64(9), np.int64(2), np.int64(3), np.int64(5), np.int64(5), np.int64(9), np.int64(4), np.int64(2), np.int64(1), np.int64(9), np.int64(4), np.int64(3), np.int64(9), np.int64(6), np.int64(0), np.int64(4), np.int64(0), np.int64(6), np.int64(0), np.int64(1), np.int64(2), np.int64(3), np.int64(4), np.int64(7), np.int64(8), np.int64(9), np.int64(0), np.int64(1), np.int64(2), np.int64(3), np.int64(4), np.int64(7), np.int64(8), np.int64(9), np.int64(0), np.int64(1), np.int64(2), np.int64(3), np.int64(4), np.int64(5), np.int64(6), np.int64(7), np.int64(8), np.int64(9), np.int64(8), np.int64(3), np.int64(4), np.int64(7), np.int64(8), np.int64(6), np.int64(3), np.int64(4), np.int64(0), np.int64(9), np.int64(7), np.int64(1), np.int64(9), np.int64(3), np.int64(8), np.int64(4), np.int64(7), np.int64(4), np.int64(0), np.int64(9), np.int64(1), np.int64(4), np.int64(5), np.int64(4), np.int64(6), np.int64(2), np.int64(0), np.int64(6), np.int64(2), np.int64(1), np.int64(1), np.int64(1), np.int64(1), np.int64(7), np.int64(2), np.int64(4), np.int64(7), np.int64(5), np.int64(2), np.int64(9), np.int64(4), np.int64(5), np.int64(8), np.int64(4), np.int64(2), np.int64(9), np.int64(7), np.int64(0), np.int64(0), np.int64(7), np.int64(5), np.int64(1), np.int64(1), np.int64(7), np.int64(6), np.int64(6), np.int64(6), np.int64(8), np.int64(2), np.int64(2), np.int64(7), np.int64(7), np.int64(4), np.int64(0), np.int64(2), np.int64(4), np.int64(2), np.int64(1), np.int64(8), np.int64(9), np.int64(6), np.int64(1), np.int64(0), np.int64(5), np.int64(9), np.int64(6), np.int64(9), np.int64(8), np.int64(0), np.int64(4), np.int64(0), np.int64(8), np.int64(3), np.int64(9), np.int64(6), np.int64(3), np.int64(0), np.int64(1), np.int64(2), np.int64(3), np.int64(4), np.int64(5), np.int64(6), np.int64(7), np.int64(0), np.int64(1), np.int64(2), np.int64(3), np.int64(4), np.int64(5), np.int64(6), np.int64(7), np.int64(8), np.int64(9), np.int64(6), np.int64(1), np.int64(2), np.int64(3), np.int64(4), np.int64(5), np.int64(6), np.int64(7), np.int64(8), np.int64(5), np.int64(4), np.int64(8), np.int64(7), np.int64(4), np.int64(7), np.int64(7), np.int64(3), np.int64(9), np.int64(8), np.int64(8), np.int64(3), np.int64(1), np.int64(5), np.int64(8), np.int64(2), np.int64(7), np.int64(4), np.int64(2), np.int64(1), np.int64(5), np.int64(4), np.int64(5), np.int64(5), np.int64(8), np.int64(6), np.int64(4), np.int64(4), np.int64(4), np.int64(1), np.int64(8), np.int64(7), np.int64(5), np.int64(5), np.int64(1), np.int64(8), np.int64(9), np.int64(1), np.int64(3), np.int64(6), np.int64(3), np.int64(3), np.int64(2), np.int64(2), np.int64(6), np.int64(9), np.int64(9), np.int64(6), np.int64(5), np.int64(5), np.int64(3), np.int64(3), np.int64(8), np.int64(1), np.int64(6), np.int64(5), np.int64(6), np.int64(8), np.int64(1), np.int64(9), np.int64(7), np.int64(6), np.int64(8), np.int64(3), np.int64(7), np.int64(4), np.int64(7), np.int64(0), np.int64(9), np.int64(0), np.int64(0), np.int64(3), np.int64(7), np.int64(9), np.int64(3), np.int64(0), np.int64(2), np.int64(0), np.int64(1), np.int64(0), np.int64(1), np.int64(0), np.int64(4), np.int64(0), np.int64(1), np.int64(0), np.int64(4), np.int64(7), np.int64(9), np.int64(6), np.int64(2), np.int64(6), np.int64(2), np.int64(2), np.int64(9), np.int64(9), np.int64(0), np.int64(1), np.int64(2), np.int64(3), np.int64(4), np.int64(5), np.int64(6), np.int64(7), np.int64(8), np.int64(9), np.int64(0), np.int64(1), np.int64(2), np.int64(3), np.int64(4), np.int64(5), np.int64(6), np.int64(7), np.int64(8), np.int64(9), np.int64(0), np.int64(1), np.int64(2), np.int64(3), np.int64(4), np.int64(5), np.int64(6), np.int64(7), np.int64(8), np.int64(9), np.int64(8), np.int64(0), np.int64(5), np.int64(6), np.int64(6), np.int64(0), np.int64(8), np.int64(0), np.int64(2), np.int64(3), np.int64(7), np.int64(9), np.int64(4), np.int64(7), np.int64(1), np.int64(9), np.int64(1), np.int64(7), np.int64(1), np.int64(4), np.int64(0), np.int64(0), np.int64(4), np.int64(1), np.int64(7), np.int64(5), np.int64(7), np.int64(1), np.int64(3), np.int64(3), np.int64(3), np.int64(6), np.int64(6), np.int64(9), np.int64(7), np.int64(4), np.int64(3), np.int64(0), np.int64(2), np.int64(5), np.int64(2), np.int64(6), np.int64(0), np.int64(8), np.int64(9), np.int64(4), np.int64(3), np.int64(5), np.int64(4), np.int64(8), np.int64(1), np.int64(5), np.int64(9), np.int64(0), np.int64(6), np.int64(4), np.int64(3), np.int64(6), np.int64(3), np.int64(3), np.int64(8), np.int64(1), np.int64(4), np.int64(7), np.int64(5), np.int64(7), np.int64(2), np.int64(2), np.int64(0), np.int64(0), np.int64(1), np.int64(7), np.int64(7), np.int64(9), np.int64(5), np.int64(9), np.int64(8), np.int64(9), np.int64(6), np.int64(8), np.int64(8), np.int64(2), np.int64(3), np.int64(6), np.int64(1), np.int64(2), np.int64(9), np.int64(8), np.int64(9), np.int64(5), np.int64(2), np.int64(6), np.int64(2), np.int64(4), np.int64(8), np.int64(4), np.int64(6), np.int64(5), np.int64(0), np.int64(1), np.int64(5), np.int64(6), np.int64(7), np.int64(8), np.int64(9), np.int64(0), np.int64(1), np.int64(2), np.int64(3), np.int64(4), np.int64(5), np.int64(6), np.int64(7), np.int64(8), np.int64(9), np.int64(0), np.int64(1), np.int64(2), np.int64(3), np.int64(4), np.int64(5), np.int64(6), np.int64(7), np.int64(8), np.int64(9), np.int64(7), np.int64(4), np.int64(2), np.int64(0), np.int64(9), np.int64(0), np.int64(1), np.int64(5), np.int64(8), np.int64(8), np.int64(0), np.int64(2), np.int64(7), np.int64(8), np.int64(4), np.int64(4), np.int64(6), np.int64(1), np.int64(0), np.int64(4), np.int64(5), np.int64(3), np.int64(9), np.int64(4), np.int64(2), np.int64(0), np.int64(5), np.int64(0), np.int64(1), np.int64(3), np.int64(2), np.int64(9), np.int64(8), np.int64(6), np.int64(0), np.int64(1), np.int64(1), np.int64(8), np.int64(0), np.int64(4), np.int64(7), np.int64(7), np.int64(6), np.int64(3), np.int64(6), np.int64(0), np.int64(7), np.int64(3), np.int64(5), np.int64(4), np.int64(2), np.int64(4), np.int64(1), np.int64(8), np.int64(3), np.int64(5), np.int64(6), np.int64(7), np.int64(0), np.int64(6), np.int64(7), np.int64(1), np.int64(2), np.int64(5), np.int64(8), np.int64(1), np.int64(9), np.int64(3), np.int64(8), np.int64(2), np.int64(8), np.int64(7), np.int64(6), np.int64(7), np.int64(1), np.int64(4), np.int64(6), np.int64(2), np.int64(9), np.int64(3), np.int64(0), np.int64(1), np.int64(2), np.int64(3), np.int64(4), np.int64(5), np.int64(6), np.int64(7), np.int64(0), np.int64(1), np.int64(2), np.int64(3), np.int64(4), np.int64(5), np.int64(0), np.int64(1), np.int64(2), np.int64(8), np.int64(9), np.int64(1), np.int64(4), np.int64(0), np.int64(9), np.int64(5), np.int64(0), np.int64(8), np.int64(0), np.int64(7), np.int64(7), np.int64(1), np.int64(1), np.int64(2), np.int64(9), np.int64(3), np.int64(6), np.int64(7), np.int64(2), np.int64(3), np.int64(8), np.int64(1), np.int64(2), np.int64(9), np.int64(8), np.int64(8), np.int64(7), np.int64(1), np.int64(7), np.int64(1), np.int64(1), np.int64(0), np.int64(3), np.int64(4), np.int64(2), np.int64(6), np.int64(4), np.int64(7), np.int64(4), np.int64(2), np.int64(7), np.int64(4), np.int64(9), np.int64(1), np.int64(0), np.int64(6), np.int64(8), np.int64(5), np.int64(5), np.int64(5), np.int64(3), np.int64(5), np.int64(9), np.int64(7), np.int64(4), np.int64(8), np.int64(5), np.int64(9), np.int64(6), np.int64(9), np.int64(3), np.int64(0), np.int64(3), np.int64(8), np.int64(9), np.int64(1), np.int64(8), np.int64(1), np.int64(6), np.int64(0), np.int64(0), np.int64(1), np.int64(2), np.int64(3), np.int64(4), np.int64(5), np.int64(6), np.int64(7), np.int64(8), np.int64(9), np.int64(0), np.int64(1), np.int64(2), np.int64(3), np.int64(4), np.int64(5), np.int64(6), np.int64(7), np.int64(8), np.int64(9), np.int64(0), np.int64(1), np.int64(2), np.int64(3), np.int64(4), np.int64(5), np.int64(6), np.int64(7), np.int64(8), np.int64(9), np.int64(3), np.int64(5), np.int64(3), np.int64(2), np.int64(9), np.int64(3), np.int64(2), np.int64(1), np.int64(4), np.int64(5), np.int64(5), np.int64(3), np.int64(3), np.int64(2), np.int64(1), np.int64(3), np.int64(9), np.int64(7), np.int64(2), np.int64(5), np.int64(2), np.int64(8), np.int64(9), np.int64(1), np.int64(8), np.int64(8), np.int64(7), np.int64(8), np.int64(1), np.int64(0), np.int64(0), np.int64(7), np.int64(7), np.int64(8), np.int64(7), np.int64(5), np.int64(0), np.int64(6), np.int64(1), np.int64(5), np.int64(7), np.int64(4), np.int64(6), np.int64(1), np.int64(4), np.int64(5), np.int64(0), np.int64(7), np.int64(9), np.int64(9), np.int64(0), np.int64(3), np.int64(8), np.int64(4), np.int64(4), np.int64(6), np.int64(1), np.int64(8), np.int64(6), np.int64(5), np.int64(9), np.int64(0), np.int64(0), np.int64(0), np.int64(3), np.int64(7), np.int64(1), np.int64(6), np.int64(4), np.int64(2), np.int64(6), np.int64(6), np.int64(0), np.int64(4), np.int64(5), np.int64(4), np.int64(1), np.int64(3), np.int64(8), np.int64(6), np.int64(3), np.int64(9), np.int64(9), np.int64(5), np.int64(9), np.int64(3), np.int64(7), np.int64(8), np.int64(5), np.int64(6), np.int64(4), np.int64(7), np.int64(6), np.int64(2), np.int64(2), np.int64(0), np.int64(9), np.int64(4), np.int64(0), np.int64(1), np.int64(2), np.int64(3), np.int64(4), np.int64(5), np.int64(6), np.int64(7), np.int64(8), np.int64(9), np.int64(9), np.int64(1), np.int64(2), np.int64(3), np.int64(5), np.int64(6), np.int64(0), np.int64(1), np.int64(2), np.int64(3), np.int64(4), np.int64(5), np.int64(6), np.int64(8), np.int64(7), np.int64(1), np.int64(3), np.int64(2), np.int64(5), np.int64(0), np.int64(7), np.int64(5), np.int64(9), np.int64(9), np.int64(6), np.int64(0), np.int64(9), np.int64(4), np.int64(1), np.int64(3), np.int64(2), np.int64(1), np.int64(2), np.int64(3), np.int64(8), np.int64(3), np.int64(2), np.int64(6), np.int64(5), np.int64(6), np.int64(8), np.int64(2), np.int64(7), np.int64(4), np.int64(8), np.int64(1), np.int64(8), np.int64(0), np.int64(5), np.int64(3), np.int64(9), np.int64(4), np.int64(1), np.int64(9), np.int64(2), np.int64(1), np.int64(9), np.int64(6), np.int64(7), np.int64(9), np.int64(0), np.int64(4), np.int64(6), np.int64(1), np.int64(7), np.int64(3), np.int64(8), np.int64(7), np.int64(2), np.int64(9), np.int64(6), np.int64(5), np.int64(8), np.int64(3), np.int64(9), np.int64(0), np.int64(5), np.int64(7), np.int64(1), np.int64(6), np.int64(1), np.int64(0), np.int64(9), np.int64(3), np.int64(3), np.int64(4), np.int64(4), np.int64(0), np.int64(6), np.int64(2), np.int64(5), np.int64(4), np.int64(2), np.int64(3), np.int64(4), np.int64(6), np.int64(0), np.int64(0), np.int64(2), np.int64(0), np.int64(1), np.int64(4), np.int64(5), np.int64(6), np.int64(7), np.int64(8), np.int64(9), np.int64(0), np.int64(1), np.int64(2), np.int64(3), np.int64(4), np.int64(5), np.int64(6), np.int64(7), np.int64(8), np.int64(0), np.int64(1), np.int64(2), np.int64(3), np.int64(4), np.int64(5), np.int64(6), np.int64(7), np.int64(8), np.int64(9), np.int64(8), np.int64(7), np.int64(1), np.int64(3), np.int64(7), np.int64(5), np.int64(2), np.int64(8), np.int64(0), np.int64(7), np.int64(5), np.int64(9), np.int64(9), np.int64(0), np.int64(9), np.int64(1), np.int64(1), np.int64(5), np.int64(8), np.int64(8), np.int64(6), np.int64(3), np.int64(2), np.int64(1), np.int64(8), np.int64(3), np.int64(2), np.int64(6), np.int64(5), np.int64(6), np.int64(7), np.int64(4), np.int64(1), np.int64(0), np.int64(3), np.int64(3), np.int64(1), np.int64(9), np.int64(2), np.int64(1), np.int64(9), np.int64(6), np.int64(0), np.int64(4), np.int64(6), np.int64(1), np.int64(7), np.int64(3), np.int64(8), np.int64(7), np.int64(2), np.int64(9), np.int64(6), np.int64(5), np.int64(8), np.int64(3), np.int64(5), np.int64(7), np.int64(1), np.int64(6), np.int64(1), np.int64(0), np.int64(9), np.int64(6), np.int64(2), np.int64(5), np.int64(4), np.int64(2), np.int64(3), np.int64(9), np.int64(4), np.int64(6), np.int64(0), np.int64(0), np.int64(2), np.int64(0), np.int64(1), np.int64(2), np.int64(3), np.int64(9), np.int64(3), np.int64(6), np.int64(7), np.int64(8), np.int64(9), np.int64(0), np.int64(1), np.int64(2), np.int64(3), np.int64(4), np.int64(5), np.int64(6), np.int64(7), np.int64(8), np.int64(9), np.int64(0), np.int64(1), np.int64(2), np.int64(9), np.int64(4), np.int64(5), np.int64(6), np.int64(7), np.int64(8), np.int64(9), np.int64(8), np.int64(6), np.int64(5), np.int64(0), np.int64(6), np.int64(8), np.int64(9), np.int64(4), np.int64(1), np.int64(9), np.int64(5), np.int64(8), np.int64(0), np.int64(4), np.int64(8), np.int64(9), np.int64(1), np.int64(4), np.int64(0), np.int64(5), np.int64(5), np.int64(2), np.int64(1), np.int64(5), np.int64(4), np.int64(0), np.int64(7), np.int64(6), np.int64(0), np.int64(1), np.int64(7), np.int64(0), np.int64(6), np.int64(8), np.int64(9), np.int64(5), np.int64(1), np.int64(7), np.int64(9), np.int64(8), np.int64(6), np.int64(0), np.int64(8), np.int64(1), np.int64(7), np.int64(7), np.int64(1), np.int64(3), np.int64(2), np.int64(9), np.int64(1), np.int64(4), np.int64(2), np.int64(0), np.int64(0), np.int64(7), np.int64(8), np.int64(4), np.int64(6), np.int64(4), np.int64(9), np.int64(9), np.int64(3), np.int64(4), np.int64(7), np.int64(2), np.int64(5), np.int64(6), np.int64(9), np.int64(6), np.int64(9), np.int64(6), np.int64(3), np.int64(2), np.int64(2), np.int64(4), np.int64(6), np.int64(9), np.int64(0), np.int64(2), np.int64(5), np.int64(5), np.int64(1), np.int64(3), np.int64(8), np.int64(9), np.int64(7), np.int64(8), np.int64(7), np.int64(2), np.int64(2), np.int64(5), np.int64(7), np.int64(9), np.int64(8), np.int64(2), np.int64(1), np.int64(9), np.int64(1), np.int64(3), np.int64(0), np.int64(1), np.int64(2), np.int64(3), np.int64(4), np.int64(5), np.int64(6), np.int64(7), np.int64(8), np.int64(9), np.int64(0), np.int64(1), np.int64(2), np.int64(3), np.int64(4), np.int64(5), np.int64(6), np.int64(7), np.int64(8), np.int64(9), np.int64(0), np.int64(1), np.int64(2), np.int64(3), np.int64(4), np.int64(5), np.int64(6), np.int64(7), np.int64(8), np.int64(9), np.int64(1), np.int64(2), np.int64(6), np.int64(5), np.int64(3), np.int64(0), np.int64(7), np.int64(0), np.int64(4), np.int64(1), np.int64(4), np.int64(3), np.int64(6), np.int64(7), np.int64(2), np.int64(3), np.int64(1), np.int64(2), np.int64(1), np.int64(2), np.int64(9), np.int64(6), np.int64(0), np.int64(1), np.int64(3), np.int64(0), np.int64(2), np.int64(7), np.int64(5), np.int64(7), np.int64(6), np.int64(2), np.int64(9), np.int64(1), np.int64(9), np.int64(0), np.int64(6), np.int64(0), np.int64(6), np.int64(0), np.int64(2), np.int64(0), np.int64(6), np.int64(1), np.int64(5), np.int64(8), np.int64(4), np.int64(3), np.int64(0), np.int64(1), np.int64(5), np.int64(4), np.int64(4), np.int64(8), np.int64(5), np.int64(7), np.int64(5), np.int64(7), np.int64(8), np.int64(3), np.int64(4), np.int64(8), np.int64(8), np.int64(5), np.int64(2), np.int64(9), np.int64(7), np.int64(1), np.int64(3), np.int64(8), np.int64(1), np.int64(0), np.int64(7), np.int64(5), np.int64(3), np.int64(6), np.int64(9), np.int64(4), np.int64(7), np.int64(7), np.int64(9), np.int64(9), np.int64(3), np.int64(4), np.int64(4), np.int64(3), np.int64(8), np.int64(6), np.int64(2), np.int64(0), np.int64(1), np.int64(2), np.int64(3), np.int64(4), np.int64(5), np.int64(6), np.int64(7), np.int64(8), np.int64(9), np.int64(0), np.int64(1), np.int64(2), np.int64(3), np.int64(4), np.int64(5), np.int64(6), np.int64(7), np.int64(8), np.int64(9), np.int64(0), np.int64(1), np.int64(2), np.int64(3), np.int64(4), np.int64(5), np.int64(6), np.int64(7), np.int64(8), np.int64(9), np.int64(0), np.int64(8), np.int64(3), np.int64(9), np.int64(5), np.int64(5), np.int64(2), np.int64(6), np.int64(8), np.int64(4), np.int64(9), np.int64(1), np.int64(7), np.int64(1), np.int64(2), np.int64(3), np.int64(5), np.int64(9), np.int64(6), np.int64(9), np.int64(1), np.int64(1), np.int64(1), np.int64(2), np.int64(9), np.int64(5), np.int64(6), np.int64(8), np.int64(1), np.int64(2), np.int64(0), np.int64(7), np.int64(7), np.int64(5), np.int64(8), np.int64(2), np.int64(9), np.int64(8), np.int64(9), np.int64(0), np.int64(4), np.int64(6), np.int64(7), np.int64(1), np.int64(3), np.int64(4), np.int64(5), np.int64(6), np.int64(0), np.int64(3), np.int64(6), np.int64(8), np.int64(7), np.int64(0), np.int64(4), np.int64(2), np.int64(7), np.int64(4), np.int64(7), np.int64(5), np.int64(4), np.int64(3), np.int64(4), np.int64(2), np.int64(8), np.int64(1), np.int64(5), np.int64(1), np.int64(2), np.int64(0), np.int64(2), np.int64(5), np.int64(6), np.int64(4), np.int64(3), np.int64(0), np.int64(0), np.int64(0), np.int64(3), np.int64(3), np.int64(5), np.int64(7), np.int64(0), np.int64(6), np.int64(4), np.int64(8), np.int64(8), np.int64(6), np.int64(3), np.int64(4), np.int64(6), np.int64(9), np.int64(9), np.int64(8), np.int64(2), np.int64(7), np.int64(7), np.int64(1), np.int64(0), np.int64(1), np.int64(2), np.int64(3), np.int64(4), np.int64(5), np.int64(6), np.int64(7), np.int64(8), np.int64(9), np.int64(0), np.int64(1), np.int64(2), np.int64(3), np.int64(4), np.int64(5), np.int64(6), np.int64(7), np.int64(8), np.int64(0), np.int64(1), np.int64(2), np.int64(3), np.int64(4), np.int64(5), np.int64(6), np.int64(7), np.int64(8), np.int64(2), np.int64(1), np.int64(7), np.int64(2), np.int64(5), np.int64(0), np.int64(8), np.int64(0), np.int64(2), np.int64(7), np.int64(8), np.int64(8), np.int64(3), np.int64(6), np.int64(0), np.int64(2), np.int64(7), np.int64(6), np.int64(6), np.int64(1), np.int64(2), np.int64(8), np.int64(8), np.int64(7), np.int64(7), np.int64(4), np.int64(7), np.int64(7), np.int64(3), np.int64(7), np.int64(4), np.int64(5), np.int64(4), np.int64(3), np.int64(3), np.int64(8), np.int64(4), np.int64(1), np.int64(1), np.int64(9), np.int64(7), np.int64(4), np.int64(3), np.int64(7), np.int64(3), np.int64(3), np.int64(0), np.int64(2), np.int64(5), np.int64(5), np.int64(6), np.int64(6), np.int64(3), np.int64(5), np.int64(6), np.int64(5), np.int64(9), np.int64(9), np.int64(8), np.int64(4), np.int64(1), np.int64(0), np.int64(6), np.int64(4), np.int64(9), np.int64(6), np.int64(8), np.int64(8), np.int64(5), np.int64(6), np.int64(1), np.int64(1), np.int64(9), np.int64(8), np.int64(9), np.int64(2), np.int64(3), np.int64(5), np.int64(5), np.int64(9), np.int64(4), np.int64(2), np.int64(1), np.int64(9), np.int64(3), np.int64(9), np.int64(2), np.int64(0), np.int64(6), np.int64(0), np.int64(4), np.int64(0), np.int64(0), np.int64(1), np.int64(2), np.int64(3), np.int64(4), np.int64(7), np.int64(8), np.int64(9), np.int64(0), np.int64(1), np.int64(2), np.int64(3), np.int64(7), np.int64(8), np.int64(9), np.int64(0), np.int64(1), np.int64(2), np.int64(3), np.int64(4), np.int64(7), np.int64(8), np.int64(9), np.int64(7), np.int64(3), np.int64(0), np.int64(3), np.int64(1), np.int64(8), np.int64(7), np.int64(6), np.int64(4), np.int64(0), np.int64(2), np.int64(6), np.int64(8), np.int64(3), np.int64(2), np.int64(8), np.int64(1), np.int64(2), np.int64(0), np.int64(7), np.int64(1), np.int64(0), np.int64(4), np.int64(4), np.int64(5), np.int64(8), np.int64(0), np.int64(6), np.int64(2), np.int64(3), np.int64(1), np.int64(5), np.int64(1), np.int64(8), np.int64(5), np.int64(9), np.int64(4), np.int64(0), np.int64(7), np.int64(5), np.int64(8), np.int64(8), np.int64(3), np.int64(8), np.int64(9), np.int64(2), np.int64(6), np.int64(2), np.int64(5), np.int64(3), np.int64(1), np.int64(7), np.int64(3), np.int64(9), np.int64(1), np.int64(9), np.int64(9), np.int64(6), np.int64(0), np.int64(3), np.int64(9), np.int64(2), np.int64(8), np.int64(1), np.int64(4), np.int64(3), np.int64(5), np.int64(2), np.int64(9), np.int64(2), np.int64(5), np.int64(8), np.int64(9), np.int64(5), np.int64(0), np.int64(1), np.int64(2), np.int64(4), np.int64(5), np.int64(6), np.int64(0), np.int64(1), np.int64(2), np.int64(3), np.int64(4), np.int64(5), np.int64(6), np.int64(7), np.int64(1), np.int64(2), np.int64(3), np.int64(4), np.int64(5), np.int64(1), np.int64(0), np.int64(4), np.int64(5), np.int64(6), np.int64(6), np.int64(3), np.int64(4), np.int64(4), np.int64(2), np.int64(9), np.int64(1), np.int64(0), np.int64(6), np.int64(4), np.int64(9), np.int64(7), np.int64(2), np.int64(3), np.int64(3), np.int64(9), np.int64(2), np.int64(0), np.int64(9), np.int64(3), np.int64(3), np.int64(7), np.int64(1), np.int64(5), np.int64(6), np.int64(3), np.int64(7), np.int64(7), np.int64(8), np.int64(4), np.int64(0), np.int64(2), np.int64(4), np.int64(0), np.int64(2), np.int64(4), np.int64(7), np.int64(8), np.int64(0), np.int64(7), np.int64(0), np.int64(6), np.int64(9), np.int64(3), np.int64(2), np.int64(8), np.int64(6), np.int64(9), np.int64(3), np.int64(7), np.int64(5), np.int64(1), np.int64(0), np.int64(9), np.int64(1), np.int64(6), np.int64(7), np.int64(2), np.int64(9), np.int64(7), np.int64(9), np.int64(5), np.int64(8), np.int64(6), np.int64(2), np.int64(6), np.int64(2), np.int64(8), np.int64(1), np.int64(7), np.int64(5), np.int64(0), np.int64(1), np.int64(1), np.int64(3), np.int64(2), np.int64(4), np.int64(9), np.int64(1), np.int64(8), np.int64(6), np.int64(8), np.int64(5), np.int64(0), np.int64(1), np.int64(2), np.int64(3), np.int64(4), np.int64(5), np.int64(6), np.int64(7), np.int64(8), np.int64(9), np.int64(0), np.int64(1), np.int64(2), np.int64(3), np.int64(4), np.int64(7), np.int64(8), np.int64(9), np.int64(5), np.int64(1), np.int64(7), np.int64(8), np.int64(9), np.int64(9), np.int64(8), np.int64(9), np.int64(8), np.int64(4), np.int64(1), np.int64(7), np.int64(7), np.int64(3), np.int64(3), np.int64(7), np.int64(6), np.int64(6), np.int64(6), np.int64(1), np.int64(9), np.int64(0), np.int64(1), np.int64(7), np.int64(6), np.int64(3), np.int64(2), np.int64(1), np.int64(7), np.int64(1), np.int64(3), np.int64(9), np.int64(1), np.int64(7), np.int64(6), np.int64(8), np.int64(4), np.int64(1), np.int64(4), np.int64(3), np.int64(6), np.int64(9), np.int64(6), np.int64(1), np.int64(4), np.int64(4), np.int64(7), np.int64(2), np.int64(4), np.int64(4), np.int64(0), np.int64(1), np.int64(2), np.int64(3), np.int64(4), np.int64(5), np.int64(6), np.int64(7), np.int64(8), np.int64(9), np.int64(0), np.int64(1), np.int64(2), np.int64(3), np.int64(4), np.int64(5), np.int64(6), np.int64(9), np.int64(0), np.int64(1), np.int64(2), np.int64(3), np.int64(4), np.int64(7), np.int64(8), np.int64(1), np.int64(3), np.int64(5), np.int64(1), np.int64(7), np.int64(7), np.int64(2), np.int64(1), np.int64(4), np.int64(8), np.int64(3), np.int64(4), np.int64(4), np.int64(3), np.int64(9), np.int64(7), np.int64(4), np.int64(1), np.int64(2), np.int64(3), np.int64(5), np.int64(9), np.int64(1), np.int64(6), np.int64(0), np.int64(1), np.int64(0), np.int64(0), np.int64(2), np.int64(8), np.int64(7), np.int64(1), np.int64(1), np.int64(4), np.int64(0), np.int64(4), np.int64(7), np.int64(3), np.int64(6), np.int64(8), np.int64(0), np.int64(3), np.int64(7), np.int64(4), np.int64(0), np.int64(6), np.int64(9), np.int64(2), np.int64(6), np.int64(5), np.int64(8), np.int64(6), np.int64(9), np.int64(0), np.int64(4), np.int64(0), np.int64(6), np.int64(6), np.int64(9), np.int64(2), np.int64(0), np.int64(9), np.int64(5), np.int64(1), np.int64(3), np.int64(7), np.int64(6), np.int64(9), np.int64(3), np.int64(0), np.int64(2), np.int64(2), np.int64(0), np.int64(1), np.int64(2), np.int64(3), np.int64(4), np.int64(5), np.int64(6), np.int64(7), np.int64(8), np.int64(9), np.int64(0), np.int64(1), np.int64(2), np.int64(3), np.int64(4), np.int64(5), np.int64(6), np.int64(7), np.int64(8), np.int64(9), np.int64(0), np.int64(1), np.int64(2), np.int64(3), np.int64(4), np.int64(5), np.int64(6), np.int64(7), np.int64(8), np.int64(9), np.int64(2), np.int64(1), np.int64(7), np.int64(2), np.int64(5), np.int64(0), np.int64(8), np.int64(0), np.int64(2), np.int64(7), np.int64(8), np.int64(8), np.int64(3), np.int64(0), np.int64(6), np.int64(0), np.int64(2), np.int64(7), np.int64(6), np.int64(4), np.int64(1), np.int64(2), np.int64(8), np.int64(8), np.int64(7), np.int64(7), np.int64(4), np.int64(7), np.int64(7), np.int64(3), np.int64(7), np.int64(4), np.int64(5), np.int64(4), np.int64(3), np.int64(3), np.int64(8), np.int64(4), np.int64(5), np.int64(4), np.int64(1), np.int64(1), np.int64(9), np.int64(7), np.int64(4), np.int64(3), np.int64(7), np.int64(3), np.int64(3), np.int64(0), np.int64(2), np.int64(5), np.int64(5), np.int64(6), np.int64(3), np.int64(1), np.int64(5), np.int64(2), np.int64(5), np.int64(9), np.int64(9), np.int64(8), np.int64(4), np.int64(1), np.int64(0), np.int64(6), np.int64(0), np.int64(9), np.int64(6), np.int64(8), np.int64(8), np.int64(5), np.int64(6), np.int64(1), np.int64(1), np.int64(9), np.int64(8), np.int64(9), np.int64(2), np.int64(3), np.int64(5), np.int64(5), np.int64(9), np.int64(4), np.int64(2), np.int64(1), np.int64(9), np.int64(4), np.int64(9), np.int64(1), np.int64(3), np.int64(9), np.int64(2), np.int64(0), np.int64(6), np.int64(0), np.int64(4), np.int64(0), np.int64(6), np.int64(0), np.int64(1), np.int64(2), np.int64(3), np.int64(4), np.int64(5), np.int64(6), np.int64(7), np.int64(8), np.int64(9), np.int64(0), np.int64(1), np.int64(2), np.int64(3), np.int64(4), np.int64(5), np.int64(6), np.int64(7), np.int64(9), np.int64(9), np.int64(0), np.int64(1), np.int64(2), np.int64(3), np.int64(4), np.int64(5), np.int64(6), np.int64(7), np.int64(8), np.int64(9), np.int64(3), np.int64(8), np.int64(0), np.int64(7), np.int64(1), np.int64(0), np.int64(7), np.int64(5), np.int64(5), np.int64(6), np.int64(9), np.int64(0), np.int64(1), np.int64(0), np.int64(0), np.int64(8), np.int64(3), np.int64(4), np.int64(3), np.int64(1), np.int64(5), np.int64(0), np.int64(0), np.int64(9), np.int64(5), np.int64(3), np.int64(4), np.int64(9), np.int64(3), np.int64(7), np.int64(6), np.int64(9), np.int64(2), np.int64(4), np.int64(5), np.int64(7), np.int64(2), np.int64(6), np.int64(4), np.int64(9), np.int64(4), np.int64(9), np.int64(4), np.int64(1), np.int64(2), np.int64(2), np.int64(5), np.int64(8), np.int64(1), np.int64(3), np.int64(2), np.int64(9), np.int64(4), np.int64(3), np.int64(8), np.int64(2), np.int64(2), np.int64(1), np.int64(2), np.int64(8), np.int64(6), np.int64(5), np.int64(1), np.int64(6), np.int64(7), np.int64(2), np.int64(1), np.int64(3), np.int64(9), np.int64(3), np.int64(8), np.int64(7), np.int64(5), np.int64(7), np.int64(0), np.int64(7), np.int64(4), np.int64(8), np.int64(8), np.int64(5), np.int64(0), np.int64(6), np.int64(6), np.int64(3), np.int64(7), np.int64(6), np.int64(9), np.int64(9), np.int64(4), np.int64(8), np.int64(4), np.int64(1), np.int64(6), np.int64(6), np.int64(6), np.int64(0), np.int64(1), np.int64(2), np.int64(3), np.int64(4), np.int64(5), np.int64(6), np.int64(7), np.int64(8), np.int64(9), np.int64(0), np.int64(1), np.int64(2), np.int64(3), np.int64(4), np.int64(5), np.int64(6), np.int64(7), np.int64(8), np.int64(9), np.int64(0), np.int64(1), np.int64(2), np.int64(3), np.int64(4), np.int64(5), np.int64(6), np.int64(7), np.int64(8), np.int64(9), np.int64(7), np.int64(4), np.int64(0), np.int64(4), np.int64(0), np.int64(1), np.int64(7), np.int64(9), np.int64(5), np.int64(1), np.int64(4), np.int64(2), np.int64(8), np.int64(9), np.int64(4), np.int64(3), np.int64(7), np.int64(8), np.int64(2), np.int64(4), np.int64(4), np.int64(3), np.int64(3), np.int64(6), np.int64(9), np.int64(9), np.int64(5), np.int64(8), np.int64(6), np.int64(7), np.int64(0), np.int64(6), np.int64(8), np.int64(2), np.int64(6), np.int64(3), np.int64(9), np.int64(3), np.int64(2), np.int64(8), np.int64(6), np.int64(1), np.int64(7), np.int64(4), np.int64(8), np.int64(8), np.int64(9), np.int64(0), np.int64(3), np.int64(3), np.int64(9), np.int64(0), np.int64(5), np.int64(2), np.int64(9), np.int64(4), np.int64(1), np.int64(0), np.int64(3), np.int64(7), np.int64(5), np.int64(8), np.int64(7), np.int64(7), np.int64(8), np.int64(2), np.int64(9), np.int64(7), np.int64(1), np.int64(2), np.int64(6), np.int64(4), np.int64(2), np.int64(5), np.int64(2), np.int64(3), np.int64(6), np.int64(6), np.int64(5), np.int64(0), np.int64(0), np.int64(2), np.int64(8), np.int64(1), np.int64(6), np.int64(1), np.int64(0), np.int64(4), np.int64(3), np.int64(1), np.int64(6), np.int64(1), np.int64(9), np.int64(0), np.int64(1), np.int64(4), np.int64(5), np.int64(6), np.int64(7), np.int64(8), np.int64(9), np.int64(1), np.int64(2), np.int64(3), np.int64(4), np.int64(5), np.int64(6), np.int64(7), np.int64(0), np.int64(1), np.int64(2), np.int64(3), np.int64(4), np.int64(5), np.int64(6), np.int64(7), np.int64(8), np.int64(9), np.int64(8), np.int64(4), np.int64(0), np.int64(0), np.int64(7), np.int64(2), np.int64(4), np.int64(3), np.int64(7), np.int64(6), np.int64(6), np.int64(3), np.int64(2), np.int64(6), np.int64(3), np.int64(3), np.int64(3), np.int64(1), np.int64(4), np.int64(7), np.int64(8), np.int64(0), np.int64(3), np.int64(1), np.int64(9), np.int64(0), np.int64(1), np.int64(9), np.int64(1), np.int64(2), np.int64(7), np.int64(0), np.int64(1), np.int64(3), np.int64(8), np.int64(2), np.int64(9), np.int64(2), np.int64(7), np.int64(6), np.int64(5), np.int64(5), np.int64(9), np.int64(9), np.int64(8), np.int64(2), np.int64(9), np.int64(1), np.int64(3), np.int64(2), np.int64(3), np.int64(4), np.int64(3), np.int64(1), np.int64(9), np.int64(0), np.int64(9), np.int64(3), np.int64(6), np.int64(8), np.int64(7), np.int64(0), np.int64(1), np.int64(0), np.int64(5), np.int64(8), np.int64(2), np.int64(7), np.int64(7), np.int64(0), np.int64(1), np.int64(2), np.int64(3), np.int64(4), np.int64(5), np.int64(6), np.int64(7), np.int64(8), np.int64(9), np.int64(0), np.int64(1), np.int64(2), np.int64(3), np.int64(4), np.int64(5), np.int64(6), np.int64(7), np.int64(8), np.int64(9), np.int64(0), np.int64(1), np.int64(2), np.int64(3), np.int64(4), np.int64(5), np.int64(6), np.int64(7), np.int64(8), np.int64(9), np.int64(1), np.int64(7), np.int64(4), np.int64(8), np.int64(1), np.int64(5), np.int64(6), np.int64(5), np.int64(7), np.int64(2), np.int64(8), np.int64(6), np.int64(3), np.int64(3), np.int64(8), np.int64(6), np.int64(5), np.int64(4), np.int64(0), np.int64(9), np.int64(1), np.int64(7), np.int64(2), np.int64(9), np.int64(1), np.int64(5), np.int64(1), np.int64(3), np.int64(2), np.int64(2), np.int64(3), np.int64(0), np.int64(6), np.int64(4), np.int64(3), np.int64(7), np.int64(6), np.int64(9), np.int64(0), np.int64(4), np.int64(8), np.int64(1), np.int64(4), np.int64(0), np.int64(6), np.int64(1), np.int64(2), np.int64(6), np.int64(9), np.int64(2), np.int64(2), np.int64(3), np.int64(5), np.int64(5), np.int64(1), np.int64(0), np.int64(7), np.int64(7), np.int64(9), np.int64(6), np.int64(2), np.int64(9), np.int64(4), np.int64(7), np.int64(0), np.int64(2), np.int64(3), np.int64(4), np.int64(0), np.int64(0), np.int64(8), np.int64(8), np.int64(8), np.int64(5), np.int64(1), np.int64(3), np.int64(7), np.int64(4), np.int64(9), np.int64(8), np.int64(8), np.int64(9), np.int64(0), np.int64(9), np.int64(8), np.int64(9), np.int64(0), np.int64(2), np.int64(6), np.int64(5), np.int64(6), np.int64(7), np.int64(4), np.int64(7), np.int64(5), np.int64(4), np.int64(1), np.int64(3), np.int64(5), np.int64(3), np.int64(1), np.int64(2), np.int64(3), np.int64(4), np.int64(5), np.int64(6), np.int64(1), np.int64(2), np.int64(3), np.int64(4), np.int64(6), np.int64(0), np.int64(1), np.int64(2), np.int64(4), np.int64(5), np.int64(6), np.int64(7), np.int64(8), np.int64(1), np.int64(7), np.int64(2), np.int64(4), np.int64(1), np.int64(4), np.int64(1), np.int64(4), np.int64(9), np.int64(6), np.int64(8), np.int64(4), np.int64(5), np.int64(3), np.int64(7), np.int64(8), np.int64(8), np.int64(3), np.int64(3), np.int64(5), np.int64(6), np.int64(7), np.int64(0), np.int64(6), np.int64(1), np.int64(6), np.int64(8), np.int64(7), np.int64(0), np.int64(1), np.int64(5), np.int64(0), np.int64(8), np.int64(5), np.int64(0), np.int64(1), np.int64(5), np.int64(8), np.int64(4), np.int64(2), np.int64(3), np.int64(9), np.int64(7), np.int64(6), np.int64(9), np.int64(1), np.int64(9), np.int64(0), np.int64(6), np.int64(7), np.int64(1), np.int64(2), np.int64(3), np.int64(9), np.int64(2), np.int64(4), np.int64(5), np.int64(5), np.int64(3), np.int64(7), np.int64(5), np.int64(3), np.int64(1), np.int64(8), np.int64(2), np.int64(2), np.int64(3), np.int64(0), np.int64(2), np.int64(9), np.int64(4), np.int64(9), np.int64(7), np.int64(0), np.int64(2), np.int64(7), np.int64(4), np.int64(9), np.int64(9), np.int64(2), np.int64(5), np.int64(9), np.int64(8), np.int64(3), np.int64(8), np.int64(6), np.int64(7), np.int64(0), np.int64(0), np.int64(1), np.int64(2), np.int64(3), np.int64(4), np.int64(3), np.int64(6), np.int64(7), np.int64(8), np.int64(9), np.int64(0), np.int64(1), np.int64(2), np.int64(3), np.int64(4), np.int64(5), np.int64(6), np.int64(7), np.int64(8), np.int64(9), np.int64(0), np.int64(1), np.int64(2), np.int64(3), np.int64(4), np.int64(5), np.int64(6), np.int64(7), np.int64(8), np.int64(9), np.int64(0), np.int64(0), np.int64(7), np.int64(2), np.int64(6), np.int64(5), np.int64(5), np.int64(3), np.int64(7), np.int64(8), np.int64(6), np.int64(6), np.int64(6), np.int64(6), np.int64(4), np.int64(3), np.int64(8), np.int64(8), np.int64(3), np.int64(0), np.int64(1), np.int64(9), np.int64(0), np.int64(5), np.int64(4), np.int64(1), np.int64(9), np.int64(1), np.int64(2), np.int64(7), np.int64(0), np.int64(1), np.int64(3), np.int64(8), np.int64(2), np.int64(9), np.int64(2), np.int64(7), np.int64(4), np.int64(2), np.int64(6), np.int64(5), np.int64(5), np.int64(9), np.int64(9), np.int64(1), np.int64(1), np.int64(5), np.int64(7), np.int64(6), np.int64(8), np.int64(2), np.int64(9), np.int64(4), np.int64(3), np.int64(1), np.int64(9), np.int64(0), np.int64(9), np.int64(3), np.int64(6), np.int64(8), np.int64(7), np.int64(0), np.int64(1), np.int64(0), np.int64(5), np.int64(8), np.int64(2), np.int64(7), np.int64(7), np.int64(0), np.int64(1), np.int64(2), np.int64(3), np.int64(4), np.int64(5), np.int64(6), np.int64(7), np.int64(8), np.int64(9), np.int64(0), np.int64(1), np.int64(3), np.int64(3), np.int64(4), np.int64(5), np.int64(8), np.int64(9), np.int64(0), np.int64(1), np.int64(2), np.int64(3), np.int64(4), np.int64(5), np.int64(6), np.int64(7), np.int64(8), np.int64(9), np.int64(2), np.int64(1), np.int64(2), np.int64(1), np.int64(3), np.int64(9), np.int64(9), np.int64(8), np.int64(5), np.int64(3), np.int64(7), np.int64(0), np.int64(7), np.int64(7), np.int64(5), np.int64(7), np.int64(9), np.int64(9), np.int64(4), np.int64(7), np.int64(0), np.int64(3), np.int64(4), np.int64(1), np.int64(5), np.int64(8), np.int64(1), np.int64(4), np.int64(8), np.int64(4), np.int64(1), np.int64(8), np.int64(6), np.int64(6), np.int64(4), np.int64(6), np.int64(0), np.int64(5), np.int64(5), np.int64(3), np.int64(3), np.int64(5), np.int64(7), np.int64(2), np.int64(5), np.int64(9), np.int64(6), np.int64(9), np.int64(2), np.int64(6), np.int64(2), np.int64(1), np.int64(2), np.int64(0), np.int64(8), np.int64(3), np.int64(8), np.int64(3), np.int64(0), np.int64(8), np.int64(7), np.int64(4), np.int64(9), np.int64(5), np.int64(0), np.int64(9), np.int64(7), np.int64(0), np.int64(0), np.int64(4), np.int64(6), np.int64(0), np.int64(9), np.int64(1), np.int64(6), np.int64(2), np.int64(7), np.int64(6), np.int64(8), np.int64(3), np.int64(5), np.int64(2), np.int64(1), np.int64(8), np.int64(3), np.int64(8), np.int64(6), np.int64(1), np.int64(0), np.int64(2), np.int64(1), np.int64(4), np.int64(0), np.int64(1), np.int64(2), np.int64(3), np.int64(4), np.int64(5), np.int64(6), np.int64(7), np.int64(8), np.int64(9), np.int64(0), np.int64(1), np.int64(2), np.int64(3), np.int64(4), np.int64(5), np.int64(6), np.int64(7), np.int64(8), np.int64(9), np.int64(0), np.int64(1), np.int64(2), np.int64(3), np.int64(4), np.int64(5), np.int64(6), np.int64(7), np.int64(8), np.int64(9), np.int64(7), np.int64(6), np.int64(4), np.int64(7), np.int64(6), np.int64(2), np.int64(3), np.int64(4), np.int64(8), np.int64(7), np.int64(8), np.int64(6), np.int64(9), np.int64(8), np.int64(3), np.int64(2), np.int64(2), np.int64(8), np.int64(4), np.int64(8), np.int64(5), np.int64(6), np.int64(5), np.int64(0), np.int64(2), np.int64(0), np.int64(1), np.int64(1), np.int64(2), np.int64(9), np.int64(6), np.int64(8), np.int64(2), np.int64(1), np.int64(0), np.int64(6), np.int64(5), np.int64(2), np.int64(9), np.int64(7), np.int64(5), np.int64(3), np.int64(9), np.int64(3), np.int64(7), np.int64(1), np.int64(3), np.int64(3), np.int64(8), np.int64(1), np.int64(9), np.int64(5), np.int64(5), np.int64(0), np.int64(1), np.int64(1), np.int64(9), np.int64(8), np.int64(2), np.int64(6), np.int64(0), np.int64(4), np.int64(5), np.int64(0), np.int64(3), np.int64(1), np.int64(8), np.int64(6), np.int64(7), np.int64(5), np.int64(9), np.int64(9), np.int64(3), np.int64(0), np.int64(3), np.int64(1), np.int64(4), np.int64(4), np.int64(0), np.int64(4), np.int64(9), np.int64(0), np.int64(1), np.int64(2), np.int64(3), np.int64(5), np.int64(6), np.int64(7), np.int64(8), np.int64(0), np.int64(1), np.int64(2), np.int64(2), np.int64(5), np.int64(6), np.int64(7), np.int64(8), np.int64(9), np.int64(0), np.int64(1), np.int64(2), np.int64(3), np.int64(5), np.int64(6), np.int64(7), np.int64(8), np.int64(9), np.int64(9), np.int64(7), np.int64(0), np.int64(9), np.int64(0), np.int64(1), np.int64(5), np.int64(8), np.int64(8), np.int64(0), np.int64(9), np.int64(3), np.int64(2), np.int64(7), np.int64(8), np.int64(4), np.int64(6), np.int64(1), np.int64(0), np.int64(4), np.int64(9), np.int64(4), np.int64(4), np.int64(0), np.int64(5), np.int64(0), np.int64(1), np.int64(6), np.int64(9), np.int64(3), np.int64(2), np.int64(9), np.int64(1), np.int64(6), np.int64(0), np.int64(1), np.int64(1), np.int64(8), np.int64(7), np.int64(7), np.int64(6), np.int64(3), np.int64(6), np.int64(0), np.int64(7), np.int64(2), np.int64(4), np.int64(1), np.int64(7), np.int64(0), np.int64(6), np.int64(7), np.int64(1), np.int64(2), np.int64(5), np.int64(8), np.int64(1), np.int64(0), np.int64(2), np.int64(8), np.int64(7), np.int64(6), np.int64(8), np.int64(7), np.int64(1), np.int64(6), np.int64(2), np.int64(9), np.int64(3), np.int64(0), np.int64(1), np.int64(2), np.int64(3), np.int64(4), np.int64(5), np.int64(6), np.int64(7), np.int64(8), np.int64(9), np.int64(0), np.int64(1), np.int64(2), np.int64(3), np.int64(4), np.int64(5), np.int64(6), np.int64(7), np.int64(8), np.int64(9), np.int64(0), np.int64(1), np.int64(2), np.int64(3), np.int64(4), np.int64(5), np.int64(6), np.int64(7), np.int64(8), np.int64(9), np.int64(8), np.int64(9), np.int64(5), np.int64(7), np.int64(0), np.int64(3), np.int64(1), np.int64(6), np.int64(8), np.int64(4), np.int64(1), np.int64(5), np.int64(6), np.int64(4), np.int64(2), np.int64(7), np.int64(8), np.int64(1), np.int64(3), np.int64(4), np.int64(3), np.int64(4), np.int64(7), np.int64(2), np.int64(0), np.int64(5), np.int64(0), np.int64(8), np.int64(9), np.int64(2), np.int64(3), np.int64(2), np.int64(3), np.int64(5), np.int64(5), np.int64(7), np.int64(8), np.int64(4), np.int64(9), np.int64(9), np.int64(7), np.int64(1), np.int64(1), np.int64(9), np.int64(0), np.int64(7), np.int64(8), np.int64(3), np.int64(4), np.int64(8), np.int64(6), np.int64(3), np.int64(8), np.int64(0), np.int64(9), np.int64(6), np.int64(2), np.int64(8), np.int64(0), np.int64(1), np.int64(0), np.int64(6), np.int64(2), np.int64(3), np.int64(8), np.int64(9), np.int64(0), np.int64(7), np.int64(2), np.int64(3), np.int64(4), np.int64(5), np.int64(5), np.int64(2), np.int64(8), np.int64(5), np.int64(4), np.int64(6), np.int64(6), np.int64(6), np.int64(7), np.int64(9), np.int64(1), np.int64(8), np.int64(2), np.int64(1), np.int64(5), np.int64(3), np.int64(4), np.int64(7), np.int64(9), np.int64(4), np.int64(0), np.int64(0), np.int64(0), np.int64(1), np.int64(2), np.int64(3), np.int64(4), np.int64(5), np.int64(6), np.int64(7), np.int64(8), np.int64(9), np.int64(0), np.int64(1), np.int64(2), np.int64(3), np.int64(4), np.int64(3), np.int64(6), np.int64(7), np.int64(8), np.int64(9), np.int64(0), np.int64(1), np.int64(2), np.int64(3), np.int64(4), np.int64(5), np.int64(6), np.int64(9), np.int64(0), np.int64(1), np.int64(3), np.int64(1), np.int64(5), np.int64(1), np.int64(2), np.int64(4), np.int64(9), np.int64(2), np.int64(4), np.int64(6), np.int64(8), np.int64(0), np.int64(1), np.int64(1), np.int64(9), np.int64(2), np.int64(6), np.int64(6), np.int64(8), np.int64(7), np.int64(4), np.int64(2), np.int64(9), np.int64(7), np.int64(0), np.int64(2), np.int64(1), np.int64(0), np.int64(3), np.int64(6), np.int64(0), np.int64(1), np.int64(2), np.int64(3), np.int64(4), np.int64(5), np.int64(6), np.int64(7), np.int64(8), np.int64(9), np.int64(0), np.int64(1), np.int64(2), np.int64(3), np.int64(4), np.int64(5), np.int64(6), np.int64(7), np.int64(8), np.int64(9), np.int64(0), np.int64(1), np.int64(2), np.int64(3), np.int64(4), np.int64(5), np.int64(6), np.int64(7), np.int64(8), np.int64(9), np.int64(8), np.int64(6), np.int64(5), np.int64(9), np.int64(7), np.int64(0), np.int64(2), np.int64(3), np.int64(4), np.int64(3), np.int64(8), np.int64(5), np.int64(1), np.int64(5), np.int64(2), np.int64(3), np.int64(0), np.int64(1), np.int64(2), np.int64(1), np.int64(3), np.int64(2), np.int64(6), np.int64(5), np.int64(3), np.int64(0), np.int64(7), np.int64(2), np.int64(7), np.int64(4), np.int64(6), np.int64(4), np.int64(0), np.int64(5), np.int64(9), np.int64(9), np.int64(5), np.int64(9), np.int64(5), np.int64(3), np.int64(1), np.int64(7), np.int64(4), np.int64(7), np.int64(6), np.int64(5), np.int64(4), np.int64(0), np.int64(0), np.int64(6), np.int64(6), np.int64(2), np.int64(0), np.int64(6), np.int64(3), np.int64(7), np.int64(7), np.int64(4), np.int64(4), np.int64(3), np.int64(9), np.int64(2), np.int64(8), np.int64(9), np.int64(6), np.int64(0), np.int64(9), np.int64(5), np.int64(3), np.int64(8), np.int64(8), np.int64(7), np.int64(1), np.int64(4), np.int64(0), np.int64(4), np.int64(8), np.int64(5), np.int64(2), np.int64(3), np.int64(9), np.int64(0), np.int64(1), np.int64(9), np.int64(1), np.int64(5), np.int64(1), np.int64(7), np.int64(4), np.int64(8), np.int64(6), np.int64(2), np.int64(1), np.int64(6), np.int64(8), np.int64(8), np.int64(0), np.int64(1), np.int64(3), np.int64(9), np.int64(4), np.int64(7), np.int64(8), np.int64(9), np.int64(0), np.int64(1), np.int64(2), np.int64(3), np.int64(4), np.int64(6), np.int64(7), np.int64(8), np.int64(9), np.int64(0), np.int64(1), np.int64(2), np.int64(3), np.int64(4), np.int64(7), np.int64(8), np.int64(9), np.int64(1), np.int64(4), np.int64(5), np.int64(3), np.int64(3), np.int64(9), np.int64(9), np.int64(5), np.int64(4), np.int64(3), np.int64(0), np.int64(8), np.int64(4), np.int64(6), np.int64(7), np.int64(0), np.int64(7), np.int64(7), np.int64(1), np.int64(6), np.int64(9), np.int64(1), np.int64(3), np.int64(6), np.int64(2), np.int64(3), np.int64(5), np.int64(2), np.int64(3), np.int64(8), np.int64(9), np.int64(5), np.int64(8), np.int64(8), np.int64(7), np.int64(1), np.int64(7), np.int64(1), np.int64(1), np.int64(0), np.int64(3), np.int64(4), np.int64(2), np.int64(4), np.int64(4), np.int64(7), np.int64(4), np.int64(2), np.int64(7), np.int64(4), np.int64(2), np.int64(9), np.int64(2), np.int64(7), np.int64(9), np.int64(2), np.int64(1), np.int64(6), np.int64(6), np.int64(5), np.int64(3), np.int64(4), np.int64(8), np.int64(5), np.int64(9), np.int64(6), np.int64(9), np.int64(0), np.int64(6), np.int64(3), np.int64(0), np.int64(8), np.int64(1), np.int64(6), np.int64(0), np.int64(0), np.int64(1), np.int64(2), np.int64(3), np.int64(4), np.int64(5), np.int64(6), np.int64(7), np.int64(0), np.int64(1), np.int64(2), np.int64(3), np.int64(4), np.int64(7), np.int64(8), np.int64(9), np.int64(0), np.int64(1), np.int64(2), np.int64(3), np.int64(4), np.int64(7), np.int64(2), np.int64(5), np.int64(1), np.int64(6), np.int64(4), np.int64(3), np.int64(9), np.int64(9), np.int64(0), np.int64(9), np.int64(7), np.int64(1), np.int64(6), np.int64(4), np.int64(3), np.int64(6), np.int64(2), np.int64(0), np.int64(9), np.int64(8), np.int64(6), np.int64(5), np.int64(7), np.int64(0), np.int64(0), np.int64(1), np.int64(5), np.int64(4), np.int64(3), np.int64(2), np.int64(4), np.int64(1), np.int64(3), np.int64(7), np.int64(6), np.int64(4), np.int64(7), np.int64(7), np.int64(7), np.int64(9), np.int64(8), np.int64(4), np.int64(3), np.int64(8), np.int64(2), np.int64(6), np.int64(3), np.int64(5), np.int64(8), np.int64(0), np.int64(5), np.int64(4), np.int64(7), np.int64(1), np.int64(3), np.int64(1), np.int64(7), np.int64(9), np.int64(6), np.int64(2), np.int64(0), np.int64(9), np.int64(1), np.int64(7), np.int64(3), np.int64(3), np.int64(9), np.int64(1), np.int64(6), np.int64(4), np.int64(3), np.int64(9), np.int64(8), np.int64(2), np.int64(1), np.int64(8), np.int64(6), np.int64(4), np.int64(1), np.int64(5), np.int64(5), np.int64(6), np.int64(5), np.int64(0), np.int64(1), np.int64(2), np.int64(3), np.int64(4), np.int64(5), np.int64(6), np.int64(7), np.int64(0), np.int64(9), np.int64(0), np.int64(1), np.int64(2), np.int64(3), np.int64(4), np.int64(5), np.int64(6), np.int64(7), np.int64(8), np.int64(9), np.int64(0), np.int64(1), np.int64(2), np.int64(3), np.int64(4), np.int64(5), np.int64(6), np.int64(7), np.int64(8), np.int64(9), np.int64(6), np.int64(9), np.int64(7), np.int64(0), np.int64(2), np.int64(3), np.int64(4), np.int64(3), np.int64(8), np.int64(5), np.int64(1), np.int64(3), np.int64(0), np.int64(1), np.int64(2), np.int64(1), np.int64(3), np.int64(2), np.int64(0), np.int64(7), np.int64(2), np.int64(6), np.int64(4), np.int64(0), np.int64(3), np.int64(9), np.int64(9), np.int64(8), np.int64(9), np.int64(5), np.int64(3), np.int64(1), np.int64(7), np.int64(4), np.int64(7), np.int64(0), np.int64(0), np.int64(6), np.int64(6), np.int64(6), np.int64(3), np.int64(7), np.int64(9), np.int64(2), np.int64(6), np.int64(9), np.int64(8), np.int64(7), np.int64(1), np.int64(4), np.int64(0), np.int64(4), np.int64(8), np.int64(5), np.int64(2), np.int64(3), np.int64(9), np.int64(0), np.int64(1), np.int64(9), np.int64(1), np.int64(5), np.int64(1), np.int64(7), np.int64(6), np.int64(1), np.int64(2), np.int64(1), np.int64(6), np.int64(8), np.int64(0), np.int64(1), np.int64(2), np.int64(3), np.int64(4), np.int64(5), np.int64(6), np.int64(7), np.int64(8), np.int64(9), np.int64(0), np.int64(1), np.int64(2), np.int64(3), np.int64(4), np.int64(5), np.int64(6), np.int64(7), np.int64(8), np.int64(0), np.int64(1), np.int64(2), np.int64(3), np.int64(5), np.int64(6), np.int64(7), np.int64(8), np.int64(1), np.int64(0), np.int64(4), np.int64(5), np.int64(6), np.int64(6), np.int64(3), np.int64(4), np.int64(4), np.int64(2), np.int64(8), np.int64(1), np.int64(0), np.int64(6), np.int64(4), np.int64(9), np.int64(7), np.int64(2), np.int64(9), np.int64(2), np.int64(0), np.int64(9), np.int64(3), np.int64(3), np.int64(9), np.int64(1), np.int64(5), np.int64(2), np.int64(3), np.int64(1), np.int64(6), np.int64(7), np.int64(3), np.int64(7), np.int64(8), np.int64(4), np.int64(0), np.int64(2), np.int64(4), np.int64(0), np.int64(2), np.int64(4), np.int64(7), np.int64(8), np.int64(0), np.int64(7), np.int64(0), np.int64(6), np.int64(9), np.int64(3), np.int64(2), np.int64(4), np.int64(8), np.int64(6), np.int64(0), np.int64(5), np.int64(7), np.int64(5), np.int64(1), np.int64(0), np.int64(8), np.int64(1), np.int64(6), np.int64(7), np.int64(2), np.int64(9), np.int64(7), np.int64(9), np.int64(5), np.int64(6), np.int64(5), np.int64(2), np.int64(6), np.int64(2), np.int64(8), np.int64(1), np.int64(7), np.int64(5), np.int64(5), np.int64(7), np.int64(3), np.int64(5), np.int64(0), np.int64(1), np.int64(1), np.int64(3), np.int64(8), np.int64(4), np.int64(9), np.int64(4), np.int64(5), np.int64(1), np.int64(8), np.int64(6), np.int64(8), np.int64(9), np.int64(0), np.int64(1), np.int64(2), np.int64(3), np.int64(4), np.int64(5), np.int64(6), np.int64(7), np.int64(8), np.int64(9), np.int64(0), np.int64(1), np.int64(2), np.int64(3), np.int64(4), np.int64(5), np.int64(6), np.int64(7), np.int64(8), np.int64(9), np.int64(0), np.int64(1), np.int64(2), np.int64(3), np.int64(4), np.int64(5), np.int64(6), np.int64(7), np.int64(8), np.int64(9), np.int64(3), np.int64(5), np.int64(3), np.int64(2), np.int64(9), np.int64(3), np.int64(2), np.int64(1), np.int64(4), np.int64(5), np.int64(5), np.int64(2), np.int64(3), np.int64(2), np.int64(1), np.int64(3), np.int64(9), np.int64(7), np.int64(2), np.int64(1), np.int64(2), np.int64(8), np.int64(9), np.int64(1), np.int64(8), np.int64(8), np.int64(7), np.int64(8), np.int64(1), np.int64(0), np.int64(0), np.int64(6), np.int64(7), np.int64(7), np.int64(8), np.int64(7), np.int64(5), np.int64(0), np.int64(6), np.int64(1), np.int64(5), np.int64(7), np.int64(4), np.int64(6), np.int64(1), np.int64(2), np.int64(5), np.int64(0), np.int64(7), np.int64(9), np.int64(9), np.int64(0), np.int64(3), np.int64(4), np.int64(4), np.int64(8), np.int64(4), np.int64(1), np.int64(8), np.int64(6), np.int64(5), np.int64(9), np.int64(0), np.int64(0), np.int64(0), np.int64(3), np.int64(7), np.int64(1), np.int64(6), np.int64(4), np.int64(6), np.int64(0), np.int64(4), np.int64(5), np.int64(4), np.int64(1), np.int64(3), np.int64(8), np.int64(6), np.int64(3), np.int64(9), np.int64(9), np.int64(5), np.int64(9), np.int64(3), np.int64(7), np.int64(8), np.int64(5), np.int64(6), np.int64(4), np.int64(7), np.int64(6), np.int64(2), np.int64(2), np.int64(0), np.int64(9), np.int64(4), np.int64(0), np.int64(1), np.int64(2), np.int64(3), np.int64(4), np.int64(5), np.int64(6), np.int64(7), np.int64(8), np.int64(9), np.int64(0), np.int64(1), np.int64(2), np.int64(3), np.int64(4), np.int64(5), np.int64(6), np.int64(7), np.int64(8), np.int64(9), np.int64(0), np.int64(1), np.int64(2), np.int64(3), np.int64(4), np.int64(5), np.int64(6), np.int64(7), np.int64(8), np.int64(9), np.int64(6), np.int64(4), np.int64(2), np.int64(6), np.int64(4), np.int64(7), np.int64(5), np.int64(5), np.int64(4), np.int64(7), np.int64(2), np.int64(9), np.int64(3), np.int64(9), np.int64(3), np.int64(8), np.int64(2), np.int64(0), np.int64(9), np.int64(5), np.int64(6), np.int64(0), np.int64(1), np.int64(0), np.int64(6), np.int64(5), np.int64(3), np.int64(5), np.int64(3), np.int64(8), np.int64(0), np.int64(9), np.int64(3), np.int64(4), np.int64(1), np.int64(5), np.int64(3), np.int64(0), np.int64(8), np.int64(3), np.int64(0), np.int64(6), np.int64(2), np.int64(7), np.int64(8), np.int64(1), np.int64(7), np.int64(1), np.int64(3), np.int64(8), np.int64(5), np.int64(4), np.int64(2), np.int64(0), np.int64(9), np.int64(7), np.int64(6), np.int64(7), np.int64(4), np.int64(1), np.int64(6), np.int64(2), np.int64(6), np.int64(7), np.int64(1), np.int64(9), np.int64(8), np.int64(0), np.int64(6), np.int64(9), np.int64(4), np.int64(9), np.int64(9), np.int64(6), np.int64(2), np.int64(3), np.int64(7), np.int64(1), np.int64(9), np.int64(2), np.int64(2), np.int64(5), np.int64(3), np.int64(7), np.int64(8), np.int64(0), np.int64(1), np.int64(2), np.int64(3), np.int64(4), np.int64(7), np.int64(8), np.int64(9), np.int64(0), np.int64(1), np.int64(2), np.int64(3), np.int64(4), np.int64(7), np.int64(8), np.int64(9), np.int64(0), np.int64(1), np.int64(7), np.int64(8), np.int64(9), np.int64(8), np.int64(9), np.int64(2), np.int64(6), np.int64(1), np.int64(3), np.int64(5), np.int64(4), np.int64(8), np.int64(2), np.int64(6), np.int64(4), np.int64(3), np.int64(4), np.int64(5), np.int64(9), np.int64(2), np.int64(0), np.int64(3), np.int64(9), np.int64(4), np.int64(9), np.int64(7), np.int64(3), np.int64(8), np.int64(7), np.int64(4), np.int64(4), np.int64(9), np.int64(8), np.int64(5), np.int64(8), np.int64(2), np.int64(6), np.int64(6), np.int64(2), np.int64(3), np.int64(1), np.int64(3), np.int64(2), np.int64(7), np.int64(3), np.int64(1), np.int64(9), np.int64(0), np.int64(1), np.int64(1), np.int64(3), np.int64(5), np.int64(0), np.int64(7), np.int64(8), np.int64(1), np.int64(5), np.int64(1), np.int64(4), np.int64(6), np.int64(0), np.int64(0), np.int64(4), np.int64(9), np.int64(1), np.int64(6), np.int64(6), np.int64(9), np.int64(0), np.int64(7), np.int64(6), np.int64(1), np.int64(1), np.int64(0), np.int64(1), np.int64(2), np.int64(3), np.int64(4), np.int64(2), np.int64(2), np.int64(3), np.int64(4), np.int64(5), np.int64(6), np.int64(2), np.int64(5), np.int64(1), np.int64(2), np.int64(2), np.int64(8), np.int64(6), np.int64(3), np.int64(9), np.int64(2), np.int64(1), np.int64(9), np.int64(3), np.int64(9), np.int64(6), np.int64(1), np.int64(7), np.int64(2), np.int64(4), np.int64(4), np.int64(5), np.int64(7), np.int64(0), np.int64(0), np.int64(1), np.int64(6), np.int64(6), np.int64(8), np.int64(2), np.int64(7), np.int64(7), np.int64(3), np.int64(4), np.int64(2), np.int64(1), np.int64(6), np.int64(1), np.int64(0), np.int64(6), np.int64(9), np.int64(8), np.int64(3), np.int64(9), np.int64(6), np.int64(3), np.int64(0), np.int64(1), np.int64(2), np.int64(3), np.int64(4), np.int64(5), np.int64(6), np.int64(7), np.int64(8), np.int64(9), np.int64(0), np.int64(8), np.int64(2), np.int64(3), np.int64(4), np.int64(5), np.int64(6), np.int64(7), np.int64(8), np.int64(9), np.int64(0), np.int64(1), np.int64(2), np.int64(3), np.int64(4), np.int64(5), np.int64(6), np.int64(7), np.int64(8), np.int64(9), np.int64(1), np.int64(6), np.int64(8), np.int64(9), np.int64(9), np.int64(0), np.int64(1), np.int64(2), np.int64(4), np.int64(4), np.int64(3), np.int64(7), np.int64(4), np.int64(4), np.int64(4), np.int64(0), np.int64(3), np.int64(8), np.int64(7), np.int64(5), np.int64(8), np.int64(2), np.int64(1), np.int64(7), np.int64(5), np.int64(3), np.int64(8), np.int64(5), np.int64(2), np.int64(5), np.int64(1), np.int64(1), np.int64(6), np.int64(2), np.int64(1), np.int64(3), np.int64(8), np.int64(6), np.int64(4), np.int64(2), np.int64(6), np.int64(2), np.int64(5), np.int64(5), np.int64(0), np.int64(2), np.int64(8), np.int64(0), np.int64(6), np.int64(8), np.int64(1), np.int64(7), np.int64(9), np.int64(1), np.int64(9), np.int64(2), np.int64(6), np.int64(7), np.int64(6), np.int64(6), np.int64(8), np.int64(7), np.int64(4), np.int64(9), np.int64(2), np.int64(1), np.int64(3), np.int64(3), np.int64(9), np.int64(5), np.int64(5), np.int64(8), np.int64(0), np.int64(3), np.int64(7), np.int64(9), np.int64(7), np.int64(0), np.int64(2), np.int64(7), np.int64(9), np.int64(1), np.int64(7), np.int64(8), np.int64(0), np.int64(3), np.int64(5), np.int64(3), np.int64(6), np.int64(0), np.int64(1), np.int64(2), np.int64(3), np.int64(4), np.int64(5), np.int64(6), np.int64(7), np.int64(8), np.int64(9), np.int64(0), np.int64(1), np.int64(2), np.int64(3), np.int64(4), np.int64(5), np.int64(6), np.int64(7), np.int64(8), np.int64(9), np.int64(0), np.int64(1), np.int64(2), np.int64(3), np.int64(4), np.int64(7), np.int64(8), np.int64(9), np.int64(6), np.int64(4), np.int64(2), np.int64(6), np.int64(4), np.int64(7), np.int64(8), np.int64(9), np.int64(2), np.int64(9), np.int64(3), np.int64(9), np.int64(3), np.int64(0), np.int64(0), np.int64(1), np.int64(0), np.int64(4), np.int64(2), np.int64(6), np.int64(3), np.int64(5), np.int64(3), np.int64(0), np.int64(3), np.int64(4), np.int64(1), np.int64(5), np.int64(3), np.int64(0), np.int64(8), np.int64(3), np.int64(0), np.int64(6), np.int64(1), np.int64(7), np.int64(8), np.int64(0), np.int64(9), np.int64(2), np.int64(6), np.int64(7), np.int64(1), np.int64(9), np.int64(6), np.int64(9), np.int64(4), np.int64(9), np.int64(9), np.int64(6), np.int64(7), np.int64(1), np.int64(2), np.int64(5), np.int64(3), np.int64(7), np.int64(8), np.int64(0), np.int64(1), np.int64(2), np.int64(4), np.int64(5), np.int64(6), np.int64(7), np.int64(8), np.int64(9), np.int64(0), np.int64(1), np.int64(3), np.int64(4), np.int64(5), np.int64(6), np.int64(7), np.int64(8), np.int64(0), np.int64(1), np.int64(3), np.int64(4), np.int64(7), np.int64(8), np.int64(9), np.int64(7), np.int64(5), np.int64(5), np.int64(1), np.int64(9), np.int64(9), np.int64(7), np.int64(1), np.int64(0), np.int64(0), np.int64(5), np.int64(9), np.int64(7), np.int64(1), np.int64(7), np.int64(2), np.int64(2), np.int64(3), np.int64(6), np.int64(8), np.int64(3), np.int64(2), np.int64(0), np.int64(0), np.int64(6), np.int64(1), np.int64(7), np.int64(5), np.int64(8), np.int64(6), np.int64(2), np.int64(9), np.int64(4), np.int64(8), np.int64(8), np.int64(7), np.int64(1), np.int64(0), np.int64(8), np.int64(7), np.int64(7), np.int64(5), np.int64(8), np.int64(5), np.int64(3), np.int64(4), np.int64(6), np.int64(1), np.int64(1), np.int64(5), np.int64(5), np.int64(0), np.int64(7), np.int64(2), np.int64(3), np.int64(6), np.int64(4), np.int64(1), np.int64(2), np.int64(4), np.int64(1), np.int64(5), np.int64(4), np.int64(2), np.int64(0), np.int64(4), np.int64(8), np.int64(6), np.int64(1), np.int64(9), np.int64(0), np.int64(2), np.int64(5), np.int64(6), np.int64(9), np.int64(3), np.int64(6), np.int64(3), np.int64(6), np.int64(0), np.int64(1), np.int64(2), np.int64(3), np.int64(4), np.int64(5), np.int64(6), np.int64(7), np.int64(8), np.int64(9), np.int64(0), np.int64(1), np.int64(2), np.int64(3), np.int64(4), np.int64(5), np.int64(6), np.int64(7), np.int64(8), np.int64(9), np.int64(0), np.int64(1), np.int64(2), np.int64(3), np.int64(5), np.int64(6), np.int64(7), np.int64(8), np.int64(1), np.int64(0), np.int64(9), np.int64(5), np.int64(7), np.int64(5), np.int64(1), np.int64(8), np.int64(6), np.int64(9), np.int64(0), np.int64(4), np.int64(1), np.int64(9), np.int64(3), np.int64(8), np.int64(4), np.int64(4), np.int64(7), np.int64(0), np.int64(1), np.int64(9), np.int64(2), np.int64(8), np.int64(7), np.int64(8), np.int64(2), np.int64(5), np.int64(9), np.int64(6), np.int64(0), np.int64(6), np.int64(3), np.int64(5), np.int64(3), np.int64(3), np.int64(3), np.int64(9), np.int64(8), np.int64(1), np.int64(1), np.int64(0), np.int64(6), np.int64(1), np.int64(0), np.int64(0), np.int64(6), np.int64(2), np.int64(1), np.int64(1), np.int64(3), np.int64(2), np.int64(7), np.int64(7), np.int64(8), np.int64(8), np.int64(7), np.int64(8), np.int64(4), np.int64(6), np.int64(0), np.int64(2), np.int64(0), np.int64(7), np.int64(0), np.int64(3), np.int64(6), np.int64(8), np.int64(7), np.int64(1), np.int64(5), np.int64(9), np.int64(9), np.int64(3), np.int64(7), np.int64(2), np.int64(4), np.int64(9), np.int64(4), np.int64(3), np.int64(6), np.int64(2), np.int64(2), np.int64(5), np.int64(3), np.int64(2), np.int64(5), np.int64(5), np.int64(9), np.int64(4), np.int64(1), np.int64(7), np.int64(2), np.int64(0), np.int64(1), np.int64(2), np.int64(3), np.int64(4), np.int64(5), np.int64(6), np.int64(7), np.int64(8), np.int64(9), np.int64(0), np.int64(1), np.int64(7), np.int64(3), np.int64(4), np.int64(5), np.int64(6), np.int64(7), np.int64(8), np.int64(9), np.int64(0), np.int64(1), np.int64(2), np.int64(3), np.int64(4), np.int64(5), np.int64(6), np.int64(7), np.int64(8), np.int64(9), np.int64(1), np.int64(0), np.int64(1), np.int64(2), np.int64(7), np.int64(5), np.int64(3), np.int64(4), np.int64(4), np.int64(0), np.int64(0), np.int64(6), np.int64(9), np.int64(6), np.int64(6), np.int64(5), np.int64(7), np.int64(2), np.int64(3), np.int64(4), np.int64(4), np.int64(9), np.int64(1), np.int64(4), np.int64(0), np.int64(7), np.int64(9), np.int64(5), np.int64(7), np.int64(2), np.int64(3), np.int64(1), np.int64(4), np.int64(4), np.int64(0), np.int64(9), np.int64(9), np.int64(6), np.int64(1), np.int64(8), np.int64(3), np.int64(3), np.int64(7), np.int64(3), np.int64(9), np.int64(8), np.int64(8), np.int64(4), np.int64(7), np.int64(7), np.int64(6), np.int64(2), np.int64(1), np.int64(9), np.int64(8), np.int64(7), np.int64(8), np.int64(8), np.int64(7), np.int64(2), np.int64(2), np.int64(3), np.int64(9), np.int64(3), np.int64(3), np.int64(5), np.int64(5), np.int64(0), np.int64(7), np.int64(4), np.int64(5), np.int64(6), np.int64(5), np.int64(1), np.int64(4), np.int64(1), np.int64(1), np.int64(2), np.int64(8), np.int64(2), np.int64(6), np.int64(1), np.int64(5), np.int64(0), np.int64(1), np.int64(2), np.int64(3), np.int64(4), np.int64(5), np.int64(6), np.int64(7), np.int64(8), np.int64(9), np.int64(0), np.int64(1), np.int64(2), np.int64(3), np.int64(4), np.int64(5), np.int64(6), np.int64(7), np.int64(8), np.int64(9), np.int64(0), np.int64(1), np.int64(2), np.int64(3), np.int64(4), np.int64(5), np.int64(6), np.int64(7), np.int64(8), np.int64(8), np.int64(0), np.int64(6), np.int64(0), np.int64(8), np.int64(2), np.int64(3), np.int64(7), np.int64(9), np.int64(4), np.int64(7), np.int64(1), np.int64(9), np.int64(1), np.int64(7), np.int64(1), np.int64(4), np.int64(0), np.int64(0), np.int64(1), np.int64(7), np.int64(5), np.int64(7), np.int64(1), np.int64(3), np.int64(3), np.int64(3), np.int64(1), np.int64(6), np.int64(9), np.int64(7), np.int64(1), np.int64(3), np.int64(0), np.int64(2), np.int64(6), np.int64(0), np.int64(8), np.int64(9), np.int64(7), np.int64(3), np.int64(5), np.int64(4), np.int64(8), np.int64(1), np.int64(5), np.int64(9), np.int64(0), np.int64(6), np.int64(3), np.int64(3), np.int64(8), np.int64(1), np.int64(4), np.int64(7), np.int64(5), np.int64(2), np.int64(0), np.int64(0), np.int64(1), np.int64(7), np.int64(8), np.int64(7), np.int64(6), np.int64(8), np.int64(8), np.int64(2), np.int64(3), np.int64(6), np.int64(1), np.int64(8), np.int64(9), np.int64(5), np.int64(2), np.int64(0), np.int64(1), np.int64(3), np.int64(3), np.int64(4), np.int64(5), np.int64(6), np.int64(7), np.int64(8), np.int64(9), np.int64(0), np.int64(1), np.int64(0), np.int64(3), np.int64(4), np.int64(5), np.int64(6), np.int64(7), np.int64(8), np.int64(9), np.int64(0), np.int64(1), np.int64(3), np.int64(3), np.int64(4), np.int64(6), np.int64(6), np.int64(7), np.int64(8), np.int64(9), np.int64(7), np.int64(4), np.int64(6), np.int64(1), np.int64(4), np.int64(0), np.int64(9), np.int64(9), np.int64(3), np.int64(7), np.int64(8), np.int64(2), np.int64(7), np.int64(5), np.int64(8), np.int64(6), np.int64(3), np.int64(2), np.int64(2), np.int64(0), np.int64(5), np.int64(8), np.int64(6), np.int64(0), np.int64(3), np.int64(8), np.int64(1), np.int64(0), np.int64(3), np.int64(0), np.int64(4), np.int64(7), np.int64(4), np.int64(9), np.int64(3), np.int64(9), np.int64(0), np.int64(7), np.int64(1), np.int64(7), np.int64(1), np.int64(6), np.int64(6), np.int64(5), np.int64(6), np.int64(8), np.int64(8), np.int64(7), np.int64(6), np.int64(4), np.int64(9), np.int64(9), np.int64(5), np.int64(3), np.int64(7), np.int64(4), np.int64(3), np.int64(0), np.int64(7), np.int64(5), np.int64(6), np.int64(1), np.int64(1), np.int64(3), np.int64(2), np.int64(1), np.int64(0), np.int64(0), np.int64(1), np.int64(2), np.int64(3), np.int64(4), np.int64(7), np.int64(8), np.int64(4), np.int64(0), np.int64(1), np.int64(2), np.int64(3), np.int64(4), np.int64(5), np.int64(6), np.int64(7), np.int64(8), np.int64(0), np.int64(1), np.int64(2), np.int64(3), np.int64(4), np.int64(7), np.int64(8), np.int64(9), np.int64(0), np.int64(8), np.int64(3), np.int64(9), np.int64(5), np.int64(5), np.int64(2), np.int64(6), np.int64(8), np.int64(4), np.int64(1), np.int64(7), np.int64(1), np.int64(3), np.int64(3), np.int64(5), np.int64(6), np.int64(9), np.int64(1), np.int64(1), np.int64(1), np.int64(2), np.int64(1), np.int64(2), np.int64(0), np.int64(7), np.int64(7), np.int64(5), np.int64(8), np.int64(2), np.int64(9), np.int64(8), np.int64(6), np.int64(7), np.int64(3), np.int64(4), np.int64(6), np.int64(8), np.int64(7), np.int64(0), np.int64(4), np.int64(2), np.int64(7), np.int64(7), np.int64(5), np.int64(4), np.int64(3), np.int64(4), np.int64(2), np.int64(8), np.int64(1), np.int64(5), np.int64(1), np.int64(0), np.int64(2), np.int64(3), np.int64(3), np.int64(5), np.int64(7), np.int64(0), np.int64(6), np.int64(8), np.int64(6), np.int64(3), np.int64(9), np.int64(9), np.int64(8), np.int64(3), np.int64(7), np.int64(7), np.int64(1), np.int64(0), np.int64(1), np.int64(7), np.int64(8), np.int64(9), np.int64(0), np.int64(1), np.int64(5), np.int64(3), np.int64(4), np.int64(5), np.int64(6), np.int64(7), np.int64(8), np.int64(0), np.int64(1), np.int64(2), np.int64(3), np.int64(4), np.int64(9), np.int64(8), np.int64(9), np.int64(7), np.int64(8), np.int64(6), np.int64(4), np.int64(1), np.int64(9), np.int64(3), np.int64(8), np.int64(4), np.int64(4), np.int64(7), np.int64(0), np.int64(1), np.int64(9), np.int64(2), np.int64(8), np.int64(7), np.int64(8), np.int64(2), np.int64(6), np.int64(0), np.int64(6), np.int64(3), np.int64(3), np.int64(3), np.int64(3), np.int64(9), np.int64(1), np.int64(4), np.int64(0), np.int64(6), np.int64(1), np.int64(0), np.int64(0), np.int64(6), np.int64(2), np.int64(1), np.int64(1), np.int64(7), np.int64(7), np.int64(8), np.int64(4), np.int64(6), np.int64(0), np.int64(7), np.int64(0), np.int64(3), np.int64(6), np.int64(8), np.int64(7), np.int64(1), np.int64(5), np.int64(2), np.int64(4), np.int64(9), np.int64(4), np.int64(3), np.int64(6), np.int64(4), np.int64(1), np.int64(7), np.int64(2), np.int64(6), np.int64(5), np.int64(0), np.int64(1), np.int64(2), np.int64(3), np.int64(4), np.int64(5), np.int64(6), np.int64(7), np.int64(8), np.int64(9), np.int64(0), np.int64(1), np.int64(2), np.int64(3), np.int64(4), np.int64(5), np.int64(6)]\n"
          ]
        }
      ]
    },
    {
      "cell_type": "markdown",
      "source": [
        "y_test --> true labels\n",
        "\n",
        "y_pred_labels --> predicted labels"
      ],
      "metadata": {
        "id": "De7uQWG9RjCl"
      }
    },
    {
      "cell_type": "markdown",
      "source": [
        "Confusion Matrix"
      ],
      "metadata": {
        "id": "1ulUT9KJRtev"
      }
    },
    {
      "cell_type": "code",
      "source": [
        "cm = confusion_matrix(y_test, y_pred_labels)\n",
        "print(cm)"
      ],
      "metadata": {
        "colab": {
          "base_uri": "https://localhost:8080/"
        },
        "id": "72i4rRJCRL_6",
        "outputId": "3aea5888-e97c-4152-a42f-4ac822d15b20"
      },
      "execution_count": 32,
      "outputs": [
        {
          "output_type": "stream",
          "name": "stdout",
          "text": [
            "tf.Tensor(\n",
            "[[ 960    0    1    1    2    2    3    0    3    8]\n",
            " [   0 1118    1    4    0    1    4    1    6    0]\n",
            " [   2    1  987   19    6    1    4    5    7    0]\n",
            " [   0    0    3  990    2    1    0    5    2    7]\n",
            " [   0    0    2    1  964    0    4    3    2    6]\n",
            " [   2    0    0   18    3  856    6    2    2    3]\n",
            " [   4    2    2    1    6    5  937    0    1    0]\n",
            " [   1    0    8    4    2    1    0  998    3   11]\n",
            " [   4    0    3   12    3    5    4    4  933    6]\n",
            " [   1    2    0    5   15    4    1    2    3  976]], shape=(10, 10), dtype=int32)\n"
          ]
        }
      ]
    },
    {
      "cell_type": "code",
      "source": [
        "plt.figure(figsize = (15,7))\n",
        "sns.heatmap(cm, annot = True, fmt = 'd', cmap = 'Blues')\n",
        "plt.ylabel('True Labels')\n",
        "plt.xlabel('Predicted Labels')"
      ],
      "metadata": {
        "colab": {
          "base_uri": "https://localhost:8080/",
          "height": 636
        },
        "id": "IWuc-TyiR2YZ",
        "outputId": "e168be4f-f161-4e0b-ccd3-e9afa62913cd"
      },
      "execution_count": 33,
      "outputs": [
        {
          "output_type": "execute_result",
          "data": {
            "text/plain": [
              "Text(0.5, 47.7222222222222, 'Predicted Labels')"
            ]
          },
          "metadata": {},
          "execution_count": 33
        },
        {
          "output_type": "display_data",
          "data": {
            "text/plain": [
              "<Figure size 1500x700 with 2 Axes>"
            ],
            "image/png": "[encoded data removed]"
          },
          "metadata": {}
        }
      ]
    },
    {
      "cell_type": "markdown",
      "source": [
        "Building a Predictive System"
      ],
      "metadata": {
        "id": "ggrUT8MdSV7-"
      }
    },
    {
      "cell_type": "code",
      "source": [
        "input_img_path = '/content/MNIST_digit.png'\n",
        "\n",
        "input_img = cv2.imread(input_img_path)"
      ],
      "metadata": {
        "id": "LR6vRwnDR-ug"
      },
      "execution_count": 36,
      "outputs": []
    },
    {
      "cell_type": "code",
      "source": [
        "type(input_img)"
      ],
      "metadata": {
        "colab": {
          "base_uri": "https://localhost:8080/"
        },
        "id": "OqgY9KtMSsNu",
        "outputId": "18cf500b-3b53-421a-ebb9-4aa74474dc54"
      },
      "execution_count": 37,
      "outputs": [
        {
          "output_type": "execute_result",
          "data": {
            "text/plain": [
              "numpy.ndarray"
            ]
          },
          "metadata": {},
          "execution_count": 37
        }
      ]
    },
    {
      "cell_type": "code",
      "source": [
        "print(input_img)"
      ],
      "metadata": {
        "colab": {
          "base_uri": "https://localhost:8080/"
        },
        "id": "NjdwhyS-S5_a",
        "outputId": "59e5bdbf-a110-4922-856f-1a56f0e77c42"
      },
      "execution_count": 38,
      "outputs": [
        {
          "output_type": "stream",
          "name": "stdout",
          "text": [
            "[[[0 0 0]\n",
            "  [0 0 0]\n",
            "  [0 0 0]\n",
            "  ...\n",
            "  [0 0 0]\n",
            "  [0 0 0]\n",
            "  [0 0 0]]\n",
            "\n",
            " [[0 0 0]\n",
            "  [0 0 0]\n",
            "  [0 0 0]\n",
            "  ...\n",
            "  [0 0 0]\n",
            "  [0 0 0]\n",
            "  [0 0 0]]\n",
            "\n",
            " [[0 0 0]\n",
            "  [0 0 0]\n",
            "  [0 0 0]\n",
            "  ...\n",
            "  [0 0 0]\n",
            "  [0 0 0]\n",
            "  [0 0 0]]\n",
            "\n",
            " ...\n",
            "\n",
            " [[0 0 0]\n",
            "  [0 0 0]\n",
            "  [0 0 0]\n",
            "  ...\n",
            "  [0 0 0]\n",
            "  [0 0 0]\n",
            "  [0 0 0]]\n",
            "\n",
            " [[0 0 0]\n",
            "  [0 0 0]\n",
            "  [0 0 0]\n",
            "  ...\n",
            "  [0 0 0]\n",
            "  [0 0 0]\n",
            "  [0 0 0]]\n",
            "\n",
            " [[0 0 0]\n",
            "  [0 0 0]\n",
            "  [0 0 0]\n",
            "  ...\n",
            "  [0 0 0]\n",
            "  [0 0 0]\n",
            "  [0 0 0]]]\n"
          ]
        }
      ]
    },
    {
      "cell_type": "code",
      "source": [
        "cv2_imshow(input_img)"
      ],
      "metadata": {
        "colab": {
          "base_uri": "https://localhost:8080/",
          "height": 335
        },
        "id": "z1HYZ3gSTEI8",
        "outputId": "38b5056f-5744-4bdc-932c-b309e0f9b061"
      },
      "execution_count": 39,
      "outputs": [
        {
          "output_type": "display_data",
          "data": {
            "text/plain": [
              "<PIL.Image.Image image mode=RGB size=318x318>"
            ],
            "image/png": "[encoded data removed]",
            "image/jpeg": "[encoded data removed]"
          },
          "metadata": {}
        }
      ]
    },
    {
      "cell_type": "code",
      "source": [
        "input_img.shape"
      ],
      "metadata": {
        "colab": {
          "base_uri": "https://localhost:8080/"
        },
        "id": "QXq7c7m9TMxu",
        "outputId": "e2a7fb9a-73f3-4813-9d5b-883f61453cbf"
      },
      "execution_count": 41,
      "outputs": [
        {
          "output_type": "execute_result",
          "data": {
            "text/plain": [
              "(318, 318, 3)"
            ]
          },
          "metadata": {},
          "execution_count": 41
        }
      ]
    },
    {
      "cell_type": "markdown",
      "source": [
        "We have to convert this into a greyscale image, since the cv2_imshow function is reading it as an RGB img\n",
        "\n",
        "Also, we have to change the size of the image"
      ],
      "metadata": {
        "id": "ryQRrIshTUZG"
      }
    },
    {
      "cell_type": "code",
      "source": [
        "grayscale = cv2.cvtColor(input_img, cv2.COLOR_BGR2GRAY)\n",
        "grayscale.shape"
      ],
      "metadata": {
        "colab": {
          "base_uri": "https://localhost:8080/"
        },
        "id": "np-FApkrTROA",
        "outputId": "1e178882-ff1e-4cf1-d00a-62987ccdb88f"
      },
      "execution_count": 47,
      "outputs": [
        {
          "output_type": "execute_result",
          "data": {
            "text/plain": [
              "(318, 318)"
            ]
          },
          "metadata": {},
          "execution_count": 47
        }
      ]
    },
    {
      "cell_type": "code",
      "source": [
        "input_img_resized = cv2.resize(grayscale, (28,28))\n",
        "input_img_resized.shape"
      ],
      "metadata": {
        "colab": {
          "base_uri": "https://localhost:8080/"
        },
        "id": "y5C33P8ATiJL",
        "outputId": "064d751c-17a0-451d-dda3-3652d39d90ca"
      },
      "execution_count": 52,
      "outputs": [
        {
          "output_type": "execute_result",
          "data": {
            "text/plain": [
              "(28, 28)"
            ]
          },
          "metadata": {},
          "execution_count": 52
        }
      ]
    },
    {
      "cell_type": "code",
      "source": [
        "cv2_imshow(input_img_resized)"
      ],
      "metadata": {
        "colab": {
          "base_uri": "https://localhost:8080/",
          "height": 45
        },
        "id": "NP0sXWgMTtzx",
        "outputId": "8b129ea7-9085-45fb-c584-fdf49a2b7ef1"
      },
      "execution_count": 46,
      "outputs": [
        {
          "output_type": "display_data",
          "data": {
            "text/plain": [
              "<PIL.Image.Image image mode=L size=28x28>"
            ],
            "image/png": "[encoded data removed]",
            "image/jpeg": "[encoded data removed]"
          },
          "metadata": {}
        }
      ]
    },
    {
      "cell_type": "code",
      "source": [
        "input_img_resized = input_img_resized/255\n",
        "img_reshaped = np.reshape(input_img_resized, (1,28,28))"
      ],
      "metadata": {
        "id": "631ka3UOT2Ec"
      },
      "execution_count": 51,
      "outputs": []
    },
    {
      "cell_type": "code",
      "source": [
        "input_prediction = model.predict(img_reshaped)\n",
        "print(input_prediction)"
      ],
      "metadata": {
        "colab": {
          "base_uri": "https://localhost:8080/"
        },
        "id": "dPsIseWiVgFi",
        "outputId": "5e609292-1e7c-4aa2-c8b7-70e1a3703f5f"
      },
      "execution_count": 50,
      "outputs": [
        {
          "output_type": "stream",
          "name": "stdout",
          "text": [
            "\u001b[1m1/1\u001b[0m \u001b[32m━━━━━━━━━━━━━━━━━━━━\u001b[0m\u001b[37m\u001b[0m \u001b[1m0s\u001b[0m 44ms/step\n",
            "[[2.3812815e-13 2.1771661e-05 4.8189002e-05 1.0000000e+00 3.4482317e-15\n",
            "  2.8518714e-02 4.4359988e-24 2.1500334e-02 3.7559617e-02 9.6609133e-01]]\n"
          ]
        }
      ]
    },
    {
      "cell_type": "code",
      "source": [
        "input_pred_label = np.argmax(input_prediction)\n",
        "print(input_pred_label)"
      ],
      "metadata": {
        "colab": {
          "base_uri": "https://localhost:8080/"
        },
        "id": "ZbjvfuO5V8LH",
        "outputId": "ec2de367-1fa6-4f98-a891-c458b37eb728"
      },
      "execution_count": 53,
      "outputs": [
        {
          "output_type": "stream",
          "name": "stdout",
          "text": [
            "3\n"
          ]
        }
      ]
    },
    {
      "cell_type": "code",
      "source": [],
      "metadata": {
        "id": "w0lw15slWPA-"
      },
      "execution_count": null,
      "outputs": []
    }
  ]
}